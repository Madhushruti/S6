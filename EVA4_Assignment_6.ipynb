{
  "nbformat": 4,
  "nbformat_minor": 0,
  "metadata": {
    "colab": {
      "name": "EVA4_Assignment_6.ipynb",
      "provenance": [],
      "collapsed_sections": []
    },
    "kernelspec": {
      "name": "python3",
      "display_name": "Python 3"
    },
    "accelerator": "GPU",
    "widgets": {
      "application/vnd.jupyter.widget-state+json": {
        "12b565e873214bdc97431adceff0b4f6": {
          "model_module": "@jupyter-widgets/controls",
          "model_name": "HBoxModel",
          "state": {
            "_view_name": "HBoxView",
            "_dom_classes": [],
            "_model_name": "HBoxModel",
            "_view_module": "@jupyter-widgets/controls",
            "_model_module_version": "1.5.0",
            "_view_count": null,
            "_view_module_version": "1.5.0",
            "box_style": "",
            "layout": "IPY_MODEL_789938d362c248c1b92ae43406208909",
            "_model_module": "@jupyter-widgets/controls",
            "children": [
              "IPY_MODEL_c31c4a96adec4cc6bd1530d92bfbddf5",
              "IPY_MODEL_6323dd15773e4cd19edcda703e7857da"
            ]
          }
        },
        "789938d362c248c1b92ae43406208909": {
          "model_module": "@jupyter-widgets/base",
          "model_name": "LayoutModel",
          "state": {
            "_view_name": "LayoutView",
            "grid_template_rows": null,
            "right": null,
            "justify_content": null,
            "_view_module": "@jupyter-widgets/base",
            "overflow": null,
            "_model_module_version": "1.2.0",
            "_view_count": null,
            "flex_flow": null,
            "width": null,
            "min_width": null,
            "border": null,
            "align_items": null,
            "bottom": null,
            "_model_module": "@jupyter-widgets/base",
            "top": null,
            "grid_column": null,
            "overflow_y": null,
            "overflow_x": null,
            "grid_auto_flow": null,
            "grid_area": null,
            "grid_template_columns": null,
            "flex": null,
            "_model_name": "LayoutModel",
            "justify_items": null,
            "grid_row": null,
            "max_height": null,
            "align_content": null,
            "visibility": null,
            "align_self": null,
            "height": null,
            "min_height": null,
            "padding": null,
            "grid_auto_rows": null,
            "grid_gap": null,
            "max_width": null,
            "order": null,
            "_view_module_version": "1.2.0",
            "grid_template_areas": null,
            "object_position": null,
            "object_fit": null,
            "grid_auto_columns": null,
            "margin": null,
            "display": null,
            "left": null
          }
        },
        "c31c4a96adec4cc6bd1530d92bfbddf5": {
          "model_module": "@jupyter-widgets/controls",
          "model_name": "IntProgressModel",
          "state": {
            "_view_name": "ProgressView",
            "style": "IPY_MODEL_9739466d318b4eae81288918837c461f",
            "_dom_classes": [],
            "description": "",
            "_model_name": "IntProgressModel",
            "bar_style": "info",
            "max": 1,
            "_view_module": "@jupyter-widgets/controls",
            "_model_module_version": "1.5.0",
            "value": 1,
            "_view_count": null,
            "_view_module_version": "1.5.0",
            "orientation": "horizontal",
            "min": 0,
            "description_tooltip": null,
            "_model_module": "@jupyter-widgets/controls",
            "layout": "IPY_MODEL_faae53568f6541278ee284bc8538e089"
          }
        },
        "6323dd15773e4cd19edcda703e7857da": {
          "model_module": "@jupyter-widgets/controls",
          "model_name": "HTMLModel",
          "state": {
            "_view_name": "HTMLView",
            "style": "IPY_MODEL_c337c2e4681f448797b9a858fcc89908",
            "_dom_classes": [],
            "description": "",
            "_model_name": "HTMLModel",
            "placeholder": "​",
            "_view_module": "@jupyter-widgets/controls",
            "_model_module_version": "1.5.0",
            "value": " 9920512/? [00:20&lt;00:00, 1540314.87it/s]",
            "_view_count": null,
            "_view_module_version": "1.5.0",
            "description_tooltip": null,
            "_model_module": "@jupyter-widgets/controls",
            "layout": "IPY_MODEL_738a27ad585a4f9b8bd8bb66f442b30f"
          }
        },
        "9739466d318b4eae81288918837c461f": {
          "model_module": "@jupyter-widgets/controls",
          "model_name": "ProgressStyleModel",
          "state": {
            "_view_name": "StyleView",
            "_model_name": "ProgressStyleModel",
            "description_width": "initial",
            "_view_module": "@jupyter-widgets/base",
            "_model_module_version": "1.5.0",
            "_view_count": null,
            "_view_module_version": "1.2.0",
            "bar_color": null,
            "_model_module": "@jupyter-widgets/controls"
          }
        },
        "faae53568f6541278ee284bc8538e089": {
          "model_module": "@jupyter-widgets/base",
          "model_name": "LayoutModel",
          "state": {
            "_view_name": "LayoutView",
            "grid_template_rows": null,
            "right": null,
            "justify_content": null,
            "_view_module": "@jupyter-widgets/base",
            "overflow": null,
            "_model_module_version": "1.2.0",
            "_view_count": null,
            "flex_flow": null,
            "width": null,
            "min_width": null,
            "border": null,
            "align_items": null,
            "bottom": null,
            "_model_module": "@jupyter-widgets/base",
            "top": null,
            "grid_column": null,
            "overflow_y": null,
            "overflow_x": null,
            "grid_auto_flow": null,
            "grid_area": null,
            "grid_template_columns": null,
            "flex": null,
            "_model_name": "LayoutModel",
            "justify_items": null,
            "grid_row": null,
            "max_height": null,
            "align_content": null,
            "visibility": null,
            "align_self": null,
            "height": null,
            "min_height": null,
            "padding": null,
            "grid_auto_rows": null,
            "grid_gap": null,
            "max_width": null,
            "order": null,
            "_view_module_version": "1.2.0",
            "grid_template_areas": null,
            "object_position": null,
            "object_fit": null,
            "grid_auto_columns": null,
            "margin": null,
            "display": null,
            "left": null
          }
        },
        "c337c2e4681f448797b9a858fcc89908": {
          "model_module": "@jupyter-widgets/controls",
          "model_name": "DescriptionStyleModel",
          "state": {
            "_view_name": "StyleView",
            "_model_name": "DescriptionStyleModel",
            "description_width": "",
            "_view_module": "@jupyter-widgets/base",
            "_model_module_version": "1.5.0",
            "_view_count": null,
            "_view_module_version": "1.2.0",
            "_model_module": "@jupyter-widgets/controls"
          }
        },
        "738a27ad585a4f9b8bd8bb66f442b30f": {
          "model_module": "@jupyter-widgets/base",
          "model_name": "LayoutModel",
          "state": {
            "_view_name": "LayoutView",
            "grid_template_rows": null,
            "right": null,
            "justify_content": null,
            "_view_module": "@jupyter-widgets/base",
            "overflow": null,
            "_model_module_version": "1.2.0",
            "_view_count": null,
            "flex_flow": null,
            "width": null,
            "min_width": null,
            "border": null,
            "align_items": null,
            "bottom": null,
            "_model_module": "@jupyter-widgets/base",
            "top": null,
            "grid_column": null,
            "overflow_y": null,
            "overflow_x": null,
            "grid_auto_flow": null,
            "grid_area": null,
            "grid_template_columns": null,
            "flex": null,
            "_model_name": "LayoutModel",
            "justify_items": null,
            "grid_row": null,
            "max_height": null,
            "align_content": null,
            "visibility": null,
            "align_self": null,
            "height": null,
            "min_height": null,
            "padding": null,
            "grid_auto_rows": null,
            "grid_gap": null,
            "max_width": null,
            "order": null,
            "_view_module_version": "1.2.0",
            "grid_template_areas": null,
            "object_position": null,
            "object_fit": null,
            "grid_auto_columns": null,
            "margin": null,
            "display": null,
            "left": null
          }
        },
        "134e2b5fc27d48a6a5dde833d014ff8c": {
          "model_module": "@jupyter-widgets/controls",
          "model_name": "HBoxModel",
          "state": {
            "_view_name": "HBoxView",
            "_dom_classes": [],
            "_model_name": "HBoxModel",
            "_view_module": "@jupyter-widgets/controls",
            "_model_module_version": "1.5.0",
            "_view_count": null,
            "_view_module_version": "1.5.0",
            "box_style": "",
            "layout": "IPY_MODEL_ddf6279058ef4767850926e0762c5049",
            "_model_module": "@jupyter-widgets/controls",
            "children": [
              "IPY_MODEL_fbc3476d22f84b11bc96150eea1de5d6",
              "IPY_MODEL_b3ef7820dbe0462baf44cc107fc4a752"
            ]
          }
        },
        "ddf6279058ef4767850926e0762c5049": {
          "model_module": "@jupyter-widgets/base",
          "model_name": "LayoutModel",
          "state": {
            "_view_name": "LayoutView",
            "grid_template_rows": null,
            "right": null,
            "justify_content": null,
            "_view_module": "@jupyter-widgets/base",
            "overflow": null,
            "_model_module_version": "1.2.0",
            "_view_count": null,
            "flex_flow": null,
            "width": null,
            "min_width": null,
            "border": null,
            "align_items": null,
            "bottom": null,
            "_model_module": "@jupyter-widgets/base",
            "top": null,
            "grid_column": null,
            "overflow_y": null,
            "overflow_x": null,
            "grid_auto_flow": null,
            "grid_area": null,
            "grid_template_columns": null,
            "flex": null,
            "_model_name": "LayoutModel",
            "justify_items": null,
            "grid_row": null,
            "max_height": null,
            "align_content": null,
            "visibility": null,
            "align_self": null,
            "height": null,
            "min_height": null,
            "padding": null,
            "grid_auto_rows": null,
            "grid_gap": null,
            "max_width": null,
            "order": null,
            "_view_module_version": "1.2.0",
            "grid_template_areas": null,
            "object_position": null,
            "object_fit": null,
            "grid_auto_columns": null,
            "margin": null,
            "display": null,
            "left": null
          }
        },
        "fbc3476d22f84b11bc96150eea1de5d6": {
          "model_module": "@jupyter-widgets/controls",
          "model_name": "IntProgressModel",
          "state": {
            "_view_name": "ProgressView",
            "style": "IPY_MODEL_58aa9b57e2cc4835b5117e979cb63794",
            "_dom_classes": [],
            "description": "  0%",
            "_model_name": "IntProgressModel",
            "bar_style": "info",
            "max": 1,
            "_view_module": "@jupyter-widgets/controls",
            "_model_module_version": "1.5.0",
            "value": 0,
            "_view_count": null,
            "_view_module_version": "1.5.0",
            "orientation": "horizontal",
            "min": 0,
            "description_tooltip": null,
            "_model_module": "@jupyter-widgets/controls",
            "layout": "IPY_MODEL_7af5f50a51ae4dd58371c51e22516030"
          }
        },
        "b3ef7820dbe0462baf44cc107fc4a752": {
          "model_module": "@jupyter-widgets/controls",
          "model_name": "HTMLModel",
          "state": {
            "_view_name": "HTMLView",
            "style": "IPY_MODEL_8c2e85fb05704829acc3e7e2b62c10a3",
            "_dom_classes": [],
            "description": "",
            "_model_name": "HTMLModel",
            "placeholder": "​",
            "_view_module": "@jupyter-widgets/controls",
            "_model_module_version": "1.5.0",
            "value": " 0/28881 [00:00&lt;?, ?it/s]",
            "_view_count": null,
            "_view_module_version": "1.5.0",
            "description_tooltip": null,
            "_model_module": "@jupyter-widgets/controls",
            "layout": "IPY_MODEL_b60fcf09cc5e4e4aa02bd4cd50a0bc76"
          }
        },
        "58aa9b57e2cc4835b5117e979cb63794": {
          "model_module": "@jupyter-widgets/controls",
          "model_name": "ProgressStyleModel",
          "state": {
            "_view_name": "StyleView",
            "_model_name": "ProgressStyleModel",
            "description_width": "initial",
            "_view_module": "@jupyter-widgets/base",
            "_model_module_version": "1.5.0",
            "_view_count": null,
            "_view_module_version": "1.2.0",
            "bar_color": null,
            "_model_module": "@jupyter-widgets/controls"
          }
        },
        "7af5f50a51ae4dd58371c51e22516030": {
          "model_module": "@jupyter-widgets/base",
          "model_name": "LayoutModel",
          "state": {
            "_view_name": "LayoutView",
            "grid_template_rows": null,
            "right": null,
            "justify_content": null,
            "_view_module": "@jupyter-widgets/base",
            "overflow": null,
            "_model_module_version": "1.2.0",
            "_view_count": null,
            "flex_flow": null,
            "width": null,
            "min_width": null,
            "border": null,
            "align_items": null,
            "bottom": null,
            "_model_module": "@jupyter-widgets/base",
            "top": null,
            "grid_column": null,
            "overflow_y": null,
            "overflow_x": null,
            "grid_auto_flow": null,
            "grid_area": null,
            "grid_template_columns": null,
            "flex": null,
            "_model_name": "LayoutModel",
            "justify_items": null,
            "grid_row": null,
            "max_height": null,
            "align_content": null,
            "visibility": null,
            "align_self": null,
            "height": null,
            "min_height": null,
            "padding": null,
            "grid_auto_rows": null,
            "grid_gap": null,
            "max_width": null,
            "order": null,
            "_view_module_version": "1.2.0",
            "grid_template_areas": null,
            "object_position": null,
            "object_fit": null,
            "grid_auto_columns": null,
            "margin": null,
            "display": null,
            "left": null
          }
        },
        "8c2e85fb05704829acc3e7e2b62c10a3": {
          "model_module": "@jupyter-widgets/controls",
          "model_name": "DescriptionStyleModel",
          "state": {
            "_view_name": "StyleView",
            "_model_name": "DescriptionStyleModel",
            "description_width": "",
            "_view_module": "@jupyter-widgets/base",
            "_model_module_version": "1.5.0",
            "_view_count": null,
            "_view_module_version": "1.2.0",
            "_model_module": "@jupyter-widgets/controls"
          }
        },
        "b60fcf09cc5e4e4aa02bd4cd50a0bc76": {
          "model_module": "@jupyter-widgets/base",
          "model_name": "LayoutModel",
          "state": {
            "_view_name": "LayoutView",
            "grid_template_rows": null,
            "right": null,
            "justify_content": null,
            "_view_module": "@jupyter-widgets/base",
            "overflow": null,
            "_model_module_version": "1.2.0",
            "_view_count": null,
            "flex_flow": null,
            "width": null,
            "min_width": null,
            "border": null,
            "align_items": null,
            "bottom": null,
            "_model_module": "@jupyter-widgets/base",
            "top": null,
            "grid_column": null,
            "overflow_y": null,
            "overflow_x": null,
            "grid_auto_flow": null,
            "grid_area": null,
            "grid_template_columns": null,
            "flex": null,
            "_model_name": "LayoutModel",
            "justify_items": null,
            "grid_row": null,
            "max_height": null,
            "align_content": null,
            "visibility": null,
            "align_self": null,
            "height": null,
            "min_height": null,
            "padding": null,
            "grid_auto_rows": null,
            "grid_gap": null,
            "max_width": null,
            "order": null,
            "_view_module_version": "1.2.0",
            "grid_template_areas": null,
            "object_position": null,
            "object_fit": null,
            "grid_auto_columns": null,
            "margin": null,
            "display": null,
            "left": null
          }
        },
        "272caa621e6443d88af2e2f3ae5e7839": {
          "model_module": "@jupyter-widgets/controls",
          "model_name": "HBoxModel",
          "state": {
            "_view_name": "HBoxView",
            "_dom_classes": [],
            "_model_name": "HBoxModel",
            "_view_module": "@jupyter-widgets/controls",
            "_model_module_version": "1.5.0",
            "_view_count": null,
            "_view_module_version": "1.5.0",
            "box_style": "",
            "layout": "IPY_MODEL_13bf28919767431ca402314d73b8648d",
            "_model_module": "@jupyter-widgets/controls",
            "children": [
              "IPY_MODEL_6aff102a13b541b9b5bc4127a072c71c",
              "IPY_MODEL_7a96d02f9ab64f4f8b06bc8afad6a18b"
            ]
          }
        },
        "13bf28919767431ca402314d73b8648d": {
          "model_module": "@jupyter-widgets/base",
          "model_name": "LayoutModel",
          "state": {
            "_view_name": "LayoutView",
            "grid_template_rows": null,
            "right": null,
            "justify_content": null,
            "_view_module": "@jupyter-widgets/base",
            "overflow": null,
            "_model_module_version": "1.2.0",
            "_view_count": null,
            "flex_flow": null,
            "width": null,
            "min_width": null,
            "border": null,
            "align_items": null,
            "bottom": null,
            "_model_module": "@jupyter-widgets/base",
            "top": null,
            "grid_column": null,
            "overflow_y": null,
            "overflow_x": null,
            "grid_auto_flow": null,
            "grid_area": null,
            "grid_template_columns": null,
            "flex": null,
            "_model_name": "LayoutModel",
            "justify_items": null,
            "grid_row": null,
            "max_height": null,
            "align_content": null,
            "visibility": null,
            "align_self": null,
            "height": null,
            "min_height": null,
            "padding": null,
            "grid_auto_rows": null,
            "grid_gap": null,
            "max_width": null,
            "order": null,
            "_view_module_version": "1.2.0",
            "grid_template_areas": null,
            "object_position": null,
            "object_fit": null,
            "grid_auto_columns": null,
            "margin": null,
            "display": null,
            "left": null
          }
        },
        "6aff102a13b541b9b5bc4127a072c71c": {
          "model_module": "@jupyter-widgets/controls",
          "model_name": "IntProgressModel",
          "state": {
            "_view_name": "ProgressView",
            "style": "IPY_MODEL_b193c2175c9d433ca08e9fce8d6083b4",
            "_dom_classes": [],
            "description": "",
            "_model_name": "IntProgressModel",
            "bar_style": "success",
            "max": 1,
            "_view_module": "@jupyter-widgets/controls",
            "_model_module_version": "1.5.0",
            "value": 1,
            "_view_count": null,
            "_view_module_version": "1.5.0",
            "orientation": "horizontal",
            "min": 0,
            "description_tooltip": null,
            "_model_module": "@jupyter-widgets/controls",
            "layout": "IPY_MODEL_3ad5a1fe96364aa0b473ce9cfe639fa5"
          }
        },
        "7a96d02f9ab64f4f8b06bc8afad6a18b": {
          "model_module": "@jupyter-widgets/controls",
          "model_name": "HTMLModel",
          "state": {
            "_view_name": "HTMLView",
            "style": "IPY_MODEL_a8d2d7366de54f409588ca8e3a918511",
            "_dom_classes": [],
            "description": "",
            "_model_name": "HTMLModel",
            "placeholder": "​",
            "_view_module": "@jupyter-widgets/controls",
            "_model_module_version": "1.5.0",
            "value": " 1654784/? [00:01&lt;00:00, 1625528.16it/s]",
            "_view_count": null,
            "_view_module_version": "1.5.0",
            "description_tooltip": null,
            "_model_module": "@jupyter-widgets/controls",
            "layout": "IPY_MODEL_e52b6cb0a7ed43439d89eff4c7511369"
          }
        },
        "b193c2175c9d433ca08e9fce8d6083b4": {
          "model_module": "@jupyter-widgets/controls",
          "model_name": "ProgressStyleModel",
          "state": {
            "_view_name": "StyleView",
            "_model_name": "ProgressStyleModel",
            "description_width": "initial",
            "_view_module": "@jupyter-widgets/base",
            "_model_module_version": "1.5.0",
            "_view_count": null,
            "_view_module_version": "1.2.0",
            "bar_color": null,
            "_model_module": "@jupyter-widgets/controls"
          }
        },
        "3ad5a1fe96364aa0b473ce9cfe639fa5": {
          "model_module": "@jupyter-widgets/base",
          "model_name": "LayoutModel",
          "state": {
            "_view_name": "LayoutView",
            "grid_template_rows": null,
            "right": null,
            "justify_content": null,
            "_view_module": "@jupyter-widgets/base",
            "overflow": null,
            "_model_module_version": "1.2.0",
            "_view_count": null,
            "flex_flow": null,
            "width": null,
            "min_width": null,
            "border": null,
            "align_items": null,
            "bottom": null,
            "_model_module": "@jupyter-widgets/base",
            "top": null,
            "grid_column": null,
            "overflow_y": null,
            "overflow_x": null,
            "grid_auto_flow": null,
            "grid_area": null,
            "grid_template_columns": null,
            "flex": null,
            "_model_name": "LayoutModel",
            "justify_items": null,
            "grid_row": null,
            "max_height": null,
            "align_content": null,
            "visibility": null,
            "align_self": null,
            "height": null,
            "min_height": null,
            "padding": null,
            "grid_auto_rows": null,
            "grid_gap": null,
            "max_width": null,
            "order": null,
            "_view_module_version": "1.2.0",
            "grid_template_areas": null,
            "object_position": null,
            "object_fit": null,
            "grid_auto_columns": null,
            "margin": null,
            "display": null,
            "left": null
          }
        },
        "a8d2d7366de54f409588ca8e3a918511": {
          "model_module": "@jupyter-widgets/controls",
          "model_name": "DescriptionStyleModel",
          "state": {
            "_view_name": "StyleView",
            "_model_name": "DescriptionStyleModel",
            "description_width": "",
            "_view_module": "@jupyter-widgets/base",
            "_model_module_version": "1.5.0",
            "_view_count": null,
            "_view_module_version": "1.2.0",
            "_model_module": "@jupyter-widgets/controls"
          }
        },
        "e52b6cb0a7ed43439d89eff4c7511369": {
          "model_module": "@jupyter-widgets/base",
          "model_name": "LayoutModel",
          "state": {
            "_view_name": "LayoutView",
            "grid_template_rows": null,
            "right": null,
            "justify_content": null,
            "_view_module": "@jupyter-widgets/base",
            "overflow": null,
            "_model_module_version": "1.2.0",
            "_view_count": null,
            "flex_flow": null,
            "width": null,
            "min_width": null,
            "border": null,
            "align_items": null,
            "bottom": null,
            "_model_module": "@jupyter-widgets/base",
            "top": null,
            "grid_column": null,
            "overflow_y": null,
            "overflow_x": null,
            "grid_auto_flow": null,
            "grid_area": null,
            "grid_template_columns": null,
            "flex": null,
            "_model_name": "LayoutModel",
            "justify_items": null,
            "grid_row": null,
            "max_height": null,
            "align_content": null,
            "visibility": null,
            "align_self": null,
            "height": null,
            "min_height": null,
            "padding": null,
            "grid_auto_rows": null,
            "grid_gap": null,
            "max_width": null,
            "order": null,
            "_view_module_version": "1.2.0",
            "grid_template_areas": null,
            "object_position": null,
            "object_fit": null,
            "grid_auto_columns": null,
            "margin": null,
            "display": null,
            "left": null
          }
        },
        "03230d18414d4b8ca571fd93016dd41e": {
          "model_module": "@jupyter-widgets/controls",
          "model_name": "HBoxModel",
          "state": {
            "_view_name": "HBoxView",
            "_dom_classes": [],
            "_model_name": "HBoxModel",
            "_view_module": "@jupyter-widgets/controls",
            "_model_module_version": "1.5.0",
            "_view_count": null,
            "_view_module_version": "1.5.0",
            "box_style": "",
            "layout": "IPY_MODEL_cfdc1ea7c339442a95a332407aa0d07a",
            "_model_module": "@jupyter-widgets/controls",
            "children": [
              "IPY_MODEL_2f99a3742d204ff397969dbcd77f0f63",
              "IPY_MODEL_fd793fffb1ee42d4a45ba76c27389a4f"
            ]
          }
        },
        "cfdc1ea7c339442a95a332407aa0d07a": {
          "model_module": "@jupyter-widgets/base",
          "model_name": "LayoutModel",
          "state": {
            "_view_name": "LayoutView",
            "grid_template_rows": null,
            "right": null,
            "justify_content": null,
            "_view_module": "@jupyter-widgets/base",
            "overflow": null,
            "_model_module_version": "1.2.0",
            "_view_count": null,
            "flex_flow": null,
            "width": null,
            "min_width": null,
            "border": null,
            "align_items": null,
            "bottom": null,
            "_model_module": "@jupyter-widgets/base",
            "top": null,
            "grid_column": null,
            "overflow_y": null,
            "overflow_x": null,
            "grid_auto_flow": null,
            "grid_area": null,
            "grid_template_columns": null,
            "flex": null,
            "_model_name": "LayoutModel",
            "justify_items": null,
            "grid_row": null,
            "max_height": null,
            "align_content": null,
            "visibility": null,
            "align_self": null,
            "height": null,
            "min_height": null,
            "padding": null,
            "grid_auto_rows": null,
            "grid_gap": null,
            "max_width": null,
            "order": null,
            "_view_module_version": "1.2.0",
            "grid_template_areas": null,
            "object_position": null,
            "object_fit": null,
            "grid_auto_columns": null,
            "margin": null,
            "display": null,
            "left": null
          }
        },
        "2f99a3742d204ff397969dbcd77f0f63": {
          "model_module": "@jupyter-widgets/controls",
          "model_name": "IntProgressModel",
          "state": {
            "_view_name": "ProgressView",
            "style": "IPY_MODEL_9d9199e0c2c04794bd1f8b67f815deaf",
            "_dom_classes": [],
            "description": "",
            "_model_name": "IntProgressModel",
            "bar_style": "success",
            "max": 1,
            "_view_module": "@jupyter-widgets/controls",
            "_model_module_version": "1.5.0",
            "value": 1,
            "_view_count": null,
            "_view_module_version": "1.5.0",
            "orientation": "horizontal",
            "min": 0,
            "description_tooltip": null,
            "_model_module": "@jupyter-widgets/controls",
            "layout": "IPY_MODEL_1fae1a7030f341cf91c1f0727f15ee0c"
          }
        },
        "fd793fffb1ee42d4a45ba76c27389a4f": {
          "model_module": "@jupyter-widgets/controls",
          "model_name": "HTMLModel",
          "state": {
            "_view_name": "HTMLView",
            "style": "IPY_MODEL_4a110b4a49fe4e5ba006b19c57b429fd",
            "_dom_classes": [],
            "description": "",
            "_model_name": "HTMLModel",
            "placeholder": "​",
            "_view_module": "@jupyter-widgets/controls",
            "_model_module_version": "1.5.0",
            "value": " 8192/? [00:00&lt;00:00, 25185.48it/s]",
            "_view_count": null,
            "_view_module_version": "1.5.0",
            "description_tooltip": null,
            "_model_module": "@jupyter-widgets/controls",
            "layout": "IPY_MODEL_0ba194122d6f4b8687f33d3156bda534"
          }
        },
        "9d9199e0c2c04794bd1f8b67f815deaf": {
          "model_module": "@jupyter-widgets/controls",
          "model_name": "ProgressStyleModel",
          "state": {
            "_view_name": "StyleView",
            "_model_name": "ProgressStyleModel",
            "description_width": "initial",
            "_view_module": "@jupyter-widgets/base",
            "_model_module_version": "1.5.0",
            "_view_count": null,
            "_view_module_version": "1.2.0",
            "bar_color": null,
            "_model_module": "@jupyter-widgets/controls"
          }
        },
        "1fae1a7030f341cf91c1f0727f15ee0c": {
          "model_module": "@jupyter-widgets/base",
          "model_name": "LayoutModel",
          "state": {
            "_view_name": "LayoutView",
            "grid_template_rows": null,
            "right": null,
            "justify_content": null,
            "_view_module": "@jupyter-widgets/base",
            "overflow": null,
            "_model_module_version": "1.2.0",
            "_view_count": null,
            "flex_flow": null,
            "width": null,
            "min_width": null,
            "border": null,
            "align_items": null,
            "bottom": null,
            "_model_module": "@jupyter-widgets/base",
            "top": null,
            "grid_column": null,
            "overflow_y": null,
            "overflow_x": null,
            "grid_auto_flow": null,
            "grid_area": null,
            "grid_template_columns": null,
            "flex": null,
            "_model_name": "LayoutModel",
            "justify_items": null,
            "grid_row": null,
            "max_height": null,
            "align_content": null,
            "visibility": null,
            "align_self": null,
            "height": null,
            "min_height": null,
            "padding": null,
            "grid_auto_rows": null,
            "grid_gap": null,
            "max_width": null,
            "order": null,
            "_view_module_version": "1.2.0",
            "grid_template_areas": null,
            "object_position": null,
            "object_fit": null,
            "grid_auto_columns": null,
            "margin": null,
            "display": null,
            "left": null
          }
        },
        "4a110b4a49fe4e5ba006b19c57b429fd": {
          "model_module": "@jupyter-widgets/controls",
          "model_name": "DescriptionStyleModel",
          "state": {
            "_view_name": "StyleView",
            "_model_name": "DescriptionStyleModel",
            "description_width": "",
            "_view_module": "@jupyter-widgets/base",
            "_model_module_version": "1.5.0",
            "_view_count": null,
            "_view_module_version": "1.2.0",
            "_model_module": "@jupyter-widgets/controls"
          }
        },
        "0ba194122d6f4b8687f33d3156bda534": {
          "model_module": "@jupyter-widgets/base",
          "model_name": "LayoutModel",
          "state": {
            "_view_name": "LayoutView",
            "grid_template_rows": null,
            "right": null,
            "justify_content": null,
            "_view_module": "@jupyter-widgets/base",
            "overflow": null,
            "_model_module_version": "1.2.0",
            "_view_count": null,
            "flex_flow": null,
            "width": null,
            "min_width": null,
            "border": null,
            "align_items": null,
            "bottom": null,
            "_model_module": "@jupyter-widgets/base",
            "top": null,
            "grid_column": null,
            "overflow_y": null,
            "overflow_x": null,
            "grid_auto_flow": null,
            "grid_area": null,
            "grid_template_columns": null,
            "flex": null,
            "_model_name": "LayoutModel",
            "justify_items": null,
            "grid_row": null,
            "max_height": null,
            "align_content": null,
            "visibility": null,
            "align_self": null,
            "height": null,
            "min_height": null,
            "padding": null,
            "grid_auto_rows": null,
            "grid_gap": null,
            "max_width": null,
            "order": null,
            "_view_module_version": "1.2.0",
            "grid_template_areas": null,
            "object_position": null,
            "object_fit": null,
            "grid_auto_columns": null,
            "margin": null,
            "display": null,
            "left": null
          }
        }
      }
    }
  },
  "cells": [
    {
      "cell_type": "code",
      "metadata": {
        "id": "0m2JWFliFfKT",
        "colab_type": "code",
        "colab": {}
      },
      "source": [
        "from __future__ import print_function\n",
        "import torch\n",
        "import torch.nn as nn\n",
        "import torch.nn.functional as F\n",
        "import torch.optim as optim\n",
        "from torchvision import datasets, transforms\n",
        "import pandas as pd\n",
        "import matplotlib.pyplot as plt\n",
        "from tqdm import tqdm\n",
        "import numpy as np\n",
        "import csv\n"
      ],
      "execution_count": 0,
      "outputs": []
    },
    {
      "cell_type": "markdown",
      "metadata": {
        "id": "WnWKkQJxBlqF",
        "colab_type": "text"
      },
      "source": [
        "##Define  Classes for Batchnorm and GhostBatchNorm"
      ]
    },
    {
      "cell_type": "code",
      "metadata": {
        "id": "50NPVaBZRjnt",
        "colab_type": "code",
        "colab": {}
      },
      "source": [
        "class BatchNorm(nn.BatchNorm2d):\n",
        "    def __init__(self, num_features, eps=1e-05, momentum=0.1, weight=True, bias=True):\n",
        "        super().__init__(num_features, eps=eps, momentum=momentum)\n",
        "        self.weight.data.fill_(1.0)\n",
        "        self.bias.data.fill_(0.0)\n",
        "        self.weight.requires_grad = weight\n",
        "        self.bias.requires_grad = bias"
      ],
      "execution_count": 0,
      "outputs": []
    },
    {
      "cell_type": "code",
      "metadata": {
        "id": "iNyrHiJRRkRb",
        "colab_type": "code",
        "colab": {}
      },
      "source": [
        "class GhostBatchNorm(BatchNorm):\n",
        "    def __init__(self, num_features, num_splits, **kw):\n",
        "        super().__init__(num_features, **kw)\n",
        "        self.num_splits = num_splits\n",
        "        print('GhostBatchNorm CLASS',num_splits)\n",
        "        self.register_buffer('running_mean', torch.zeros(num_features * self.num_splits))\n",
        "        self.register_buffer('running_var', torch.ones(num_features * self.num_splits))\n",
        "\n",
        "    def train(self, mode=True):\n",
        "        if (self.training is True) and (mode is False):  # lazily collate stats when we are going to use them\n",
        "            self.running_mean = torch.mean(self.running_mean.view(self.num_splits, self.num_features), dim=0).repeat(\n",
        "                self.num_splits)\n",
        "            self.running_var = torch.mean(self.running_var.view(self.num_splits, self.num_features), dim=0).repeat(\n",
        "                self.num_splits)\n",
        "        return super().train(mode)\n",
        "\n",
        "    def forward(self, input):\n",
        "        N, C, H, W = input.shape\n",
        "        if self.training or not self.track_running_stats:\n",
        "            return F.batch_norm(\n",
        "                input.view(-1, C * self.num_splits, H, W), self.running_mean, self.running_var,\n",
        "                self.weight.repeat(self.num_splits), self.bias.repeat(self.num_splits),\n",
        "                True, self.momentum, self.eps).view(N, C, H, W)\n",
        "        else:\n",
        "            return F.batch_norm(\n",
        "                input, self.running_mean[:self.num_features], self.running_var[:self.num_features],\n",
        "                self.weight, self.bias, False, self.momentum, self.eps)"
      ],
      "execution_count": 0,
      "outputs": []
    },
    {
      "cell_type": "code",
      "metadata": {
        "id": "PI8Yf0XnR8w1",
        "colab_type": "code",
        "colab": {}
      },
      "source": [
        "def norm2d(output_channels, BatchNorm='BN'):\n",
        "    print(\"output_channels:{}\".format(output_channels))\n",
        "    if BatchNorm=='GBN':\n",
        "        num_splits = 2 #128 // 32\n",
        "        print(\" Currently using Ghost Normalization \")\n",
        "        print(\"GHOST NORM output_channels\",output_channels)\n",
        "        return GhostBatchNorm(output_channels,num_splits)\n",
        "    else:\n",
        "        return nn.BatchNorm2d(output_channels)"
      ],
      "execution_count": 0,
      "outputs": []
    },
    {
      "cell_type": "markdown",
      "metadata": {
        "id": "JacEKA6yBtnC",
        "colab_type": "text"
      },
      "source": [
        "##Create NN Class and specify the required Layers. The Class takes Batchnorm Type as Parameter. There are two possible values, GBN or BN. By default class is intantiated with BN = Batch Normalization"
      ]
    },
    {
      "cell_type": "code",
      "metadata": {
        "id": "h_Cx9q2QFgM7",
        "colab_type": "code",
        "colab": {}
      },
      "source": [
        "class Net(nn.Module):\n",
        "    def __init__(self,BatchNorm=\"BN\"):\n",
        "        super(Net, self).__init__()\n",
        "        \n",
        "        do_value=0.05\n",
        "        self.conv1 = nn.Sequential(\n",
        "            nn.Conv2d(in_channels=1, out_channels=20, kernel_size=(3,3), padding=0, stride=1), \n",
        "            #nn.BatchNorm2d(20),\n",
        "            norm2d(20,BatchNorm),\n",
        "            nn.Dropout(do_value),\n",
        "            nn.ReLU()\n",
        "        )\n",
        "        #Output=26 RF=3X3 [RFin + (Ksize-1 * JMPin) => 1+(3-1)*1 =3]  :JMPin=1, Jout= JMPin X s = 1\n",
        "        \n",
        "        self.conv2 = nn.Sequential(\n",
        "            nn.Conv2d(in_channels=20, out_channels=16, kernel_size=(3,3), padding=0, stride=1),\n",
        "            #nn.BatchNorm2d(16),\n",
        "            norm2d(16,BatchNorm),\n",
        "            nn.Dropout(do_value),\n",
        "            nn.ReLU()    \n",
        "        )\n",
        "        #Output=24 RF=5X5  [RFin + (Ksize-1 * JMPin) => 3+(3-1)*1 =5] :JMPin=1, Jout =JMPin X s =1\n",
        "\n",
        "        self.pool1 = nn.MaxPool2d(2, 2)#Output=12 RF=6X6 [RFin + (Ksize-1 * JMPin) => 5+(2-1)*1 =6] :JMPin=1, Jout=  JMPin X s =2\n",
        "\n",
        "        self.conv3 = nn.Sequential(\n",
        "            nn.Conv2d(in_channels=16, out_channels=16, kernel_size=(3,3), padding=0, stride=1),\n",
        "            #nn.BatchNorm2d(16),\n",
        "            norm2d(16,BatchNorm),\n",
        "            nn.Dropout(do_value),\n",
        "            nn.ReLU()\n",
        "        )\n",
        "        #Output=10 RF=10X10 [RFin + (Ksize-1 * JMPin) => 6+(3-1)*2 =10] : Jout= JMPin X s = 2X1 :JMPin=2, Jout= JMPin X s = 2X1=2\n",
        "\n",
        "        self.pool2 = nn.MaxPool2d(2, 2) #Output=5 RF=12[RFin + (Ksize-1 * JMPin) => 10+(2-1)*2 =12]  :JMPin=2, Jout =JMPin X s = 2X2 =4\n",
        "\n",
        "        self.conv4 = nn.Sequential(\n",
        "            nn.Conv2d(in_channels=16, out_channels=16, kernel_size=(3,3), padding=0, stride=1),\n",
        "            #nn.BatchNorm2d(16),\n",
        "            norm2d(16,BatchNorm),\n",
        "            nn.Dropout(do_value),\n",
        "            nn.ReLU()            \n",
        "        )\n",
        "        #Output=3 RF= 20[RFin + (Ksize-1 * JMPin) => 12+(3-1)*4 =20] :JMPin=4, Jout =JMPin X s = 4X1=4\n",
        "        \n",
        "        self.conv5 = nn.Sequential(\n",
        "            nn.Conv2d(in_channels=16, out_channels=13, kernel_size=(3,3), padding=0, stride=1),\n",
        "            #nn.BatchNorm2d(13),\n",
        "            norm2d(13,BatchNorm),\n",
        "            nn.Dropout(do_value),\n",
        "            nn.ReLU()\n",
        "            \n",
        "        )\n",
        "        #Output=1 RF=28 [RFin + (Ksize-1 * JMPin) => 20+(3-1)*4 =28]  :JMPin=4, Jout=JMPin X s = 4X1=4\n",
        "        \n",
        "        self.conv6 = nn.Sequential(\n",
        "            nn.Conv2d(in_channels=13, out_channels=10, kernel_size=(1,1), padding=0, stride=1)\n",
        "            \n",
        "        )\n",
        "        \n",
        "     \n",
        "\n",
        "    def forward(self, x):\n",
        "        x = self.conv1(x)\n",
        "        x = self.conv2(x)\n",
        "        x = self.pool1(x)\n",
        "        x = self.conv3(x)\n",
        "        x = self.pool2(x)\n",
        "        x = self.conv4(x)\n",
        "        x = self.conv5(x)   \n",
        "        x = self.conv6(x)      \n",
        "        x = x.view(-1, 10)\n",
        "        return F.log_softmax(x)"
      ],
      "execution_count": 0,
      "outputs": []
    },
    {
      "cell_type": "markdown",
      "metadata": {
        "id": "YIz7p6jBCNpE",
        "colab_type": "text"
      },
      "source": [
        "##Below, Train and Test Functions are created. The Test function spits out/retuens the list of Images falsly classified.\n",
        "\n",
        "##Additionally The Train and Test functions's Loss and Accuracies are stored in below declared Lists. These lists shall be used to generate graph."
      ]
    },
    {
      "cell_type": "code",
      "metadata": {
        "id": "8fDefDhaFlwH",
        "colab_type": "code",
        "colab": {}
      },
      "source": [
        "Total_train_loss_BN_NONE=[]\n",
        "Total_train_loss_BN_L1=[]\n",
        "Total_train_loss_BN_L2=[]\n",
        "Total_train_loss_BN_L1L2=[]\n",
        "Total_train_loss_GBN_NONE=[]\n",
        "Total_train_loss_GBN_L1=[]\n",
        "Total_train_loss_GBN_L2=[]\n",
        "Total_train_loss_GBN_L1L2=[]\n",
        "\n",
        "Validation_Accuracy_BN_NONE=[]\n",
        "Validation_Accuracy_BN_L1=[]\n",
        "Validation_Accuracy_BN_L2=[]\n",
        "Validation_Accuracy_BN_L1L2=[]\n",
        "Validation_Accuracy_GBN_NONE=[]\n",
        "Validation_Accuracy_GBN_L1=[]\n",
        "Validation_Accuracy_GBN_L2=[]\n",
        "Validation_Accuracy_GBN_L1L2=[]\n",
        "\n",
        "\n",
        "Total_Test_loss_BN_NONE=[]\n",
        "Total_Test_loss_BN_L1=[]\n",
        "Total_Test_loss_BN_L2=[]\n",
        "Total_Test_loss_BN_L1L2=[]\n",
        "Total_Test_loss_GBN_NONE=[]\n",
        "Total_Test_loss_GBN_L1=[]\n",
        "Total_Test_loss_GBN_L2=[]\n",
        "Total_Test_loss_GBN_L1L2=[]\n",
        "\n",
        "def train(model, device, train_loader, optimizer,epoch,Regularization,Regularization_type,BNType):\n",
        "    \n",
        "    model.train()\n",
        "    pbar = tqdm(train_loader)\n",
        "    correct_train=0\n",
        "    processed=0\n",
        "    Regularization=0\n",
        "    total_train_loss=0\n",
        "\n",
        "    for batch_idx, (data, target) in enumerate(pbar):\n",
        "        data, target = data.to(device), target.to(device)\n",
        "        optimizer.zero_grad()\n",
        "        output = model(data)\n",
        "        loss = F.nll_loss(output, target)\n",
        "\n",
        "        if Regularization_type =='L1' or Regularization_type =='L1L2':\n",
        "            reg_loss=0\n",
        "            factor = 0.0005  \n",
        "            l1_crit =nn.L1Loss(size_average=False)\n",
        "            for param in model.parameters():\n",
        "                target_vec = torch.zeros_like(param)\n",
        "                reg_loss += l1_crit(param,target_vec)\n",
        "                reg_loss = reg_loss / (batch_idx + 1)\n",
        "                Regularization=factor * reg_loss\n",
        "        loss +=Regularization\n",
        "        total_train_loss += loss.item()\n",
        "\n",
        "        pred = output.argmax(dim=1, keepdim=True)\n",
        "        correct_train += pred.eq(target.view_as(pred)).sum().item()\n",
        "        processed += len(data)\n",
        "        #Train_Accuracy.append(100.00 *correct_train/processed)\n",
        "        loss.backward()#(retain_graph=True)\n",
        "        optimizer.step()\n",
        "\n",
        "        optimizer.zero_grad() #Added because of error\n",
        "        pbar.set_description(desc= f'TRAINING Loss={loss.item()} batch_id={batch_idx} TRAIN ACCURACY={100.00 *correct_train/processed:0.02f}')\n",
        "    total_train_loss=total_train_loss/(batch_idx+1)\n",
        "        \n",
        "        ##Added detailed percentage:\n",
        "\n",
        "    if BNType==\"BN\" and Regularization_type =='None':\n",
        "        Total_train_loss_BN_NONE.append(total_train_loss)\n",
        "    elif BNType==\"BN\" and Regularization_type =='L1':\n",
        "        Total_train_loss_BN_L1.append(total_train_loss)\n",
        "    elif BNType==\"BN\" and Regularization_type =='L2':\n",
        "        Total_train_loss_BN_L2.append(total_train_loss)\n",
        "    elif BNType==\"BN\" and Regularization_type =='L1L2':\n",
        "        Total_train_loss_BN_L1L2.append(total_train_loss)\n",
        "    elif BNType==\"GBN\" and Regularization_type =='None':\n",
        "        Total_train_loss_GBN_NONE.append(total_train_loss)\n",
        "    elif BNType==\"GBN\" and Regularization_type =='L1':\n",
        "        Total_train_loss_GBN_L1.append(total_train_loss)\n",
        "    elif BNType==\"GBN\" and Regularization_type =='L2':\n",
        "        Total_train_loss_GBN_L2.append(total_train_loss)\n",
        "    elif BNType==\"GBN\" and Regularization_type =='L1L2':\n",
        "        Total_train_loss_GBN_L1L2.append(total_train_loss)\n",
        "\n",
        "        #pbar.set_description(desc= f'TRAIN Loss={loss.item()} batch_id={batch_idx} Correct={correct_train} / {len(train_loader.dataset)} TRAIN ACCURACY={100.00 *correct_train/processed:0.02f}')\n",
        "\n",
        "def test(model, device, test_loader,BNType,Regularization_type):\n",
        "    model.eval()\n",
        "    test_loss = 0\n",
        "    correct = 0\n",
        "    preds=([])\n",
        "    actuals=([])\n",
        "    total_false=0\n",
        "    false_images=[]\n",
        "    with torch.no_grad():\n",
        "        for data, target in test_loader:\n",
        "            data, target = data.to(device), target.to(device)\n",
        "            output = model(data)\n",
        "            loss=F.nll_loss(output, target)\n",
        "            test_loss += F.nll_loss(output, target, reduction='sum').item()  # sum up batch loss       \n",
        "            pred = output.argmax(dim=1, keepdim=True)  # get the index of the max log-probability           \n",
        "            \n",
        "            # To capture misclassification\n",
        "            target_image = target.view_as(pred)\n",
        "            for i in range(len(pred)):\n",
        "              if pred[i].item()!= target_image[i].item():\n",
        "                 false_images.append([data[i], pred[i], target_image[i]])\n",
        "            correct += pred.eq(target.view_as(pred)).sum().item()\n",
        "            \n",
        "    test_loss /= len(test_loader.dataset)\n",
        "    #Total_Test_loss.append(test_loss)\n",
        "\n",
        "    print(\"Number of Misclassifed Images = \",len(false_images))\n",
        "\n",
        "    if BNType==\"BN\" and Regularization_type =='None':\n",
        "        Total_Test_loss_BN_NONE.append(test_loss)\n",
        "        Validation_Accuracy_BN_NONE.append(100. * correct / len(test_loader.dataset))\n",
        "\n",
        "    elif BNType==\"BN\" and Regularization_type =='L1':\n",
        "        Total_Test_loss_BN_L1.append(test_loss)\n",
        "        Validation_Accuracy_BN_L1.append(100. * correct / len(test_loader.dataset))\n",
        "    elif BNType==\"BN\" and Regularization_type =='L2':\n",
        "        Total_Test_loss_BN_L2.append(test_loss)\n",
        "        Validation_Accuracy_BN_L2.append(100. * correct / len(test_loader.dataset))\n",
        "    elif BNType==\"BN\" and Regularization_type =='L1L2':\n",
        "        Total_Test_loss_BN_L1L2.append(test_loss)\n",
        "        Validation_Accuracy_BN_L1L2.append(100. * correct / len(test_loader.dataset))\n",
        "    elif BNType==\"GBN\" and Regularization_type =='None':\n",
        "        Total_Test_loss_GBN_NONE.append(test_loss)\n",
        "        Validation_Accuracy_GBN_NONE.append(100. * correct / len(test_loader.dataset))\n",
        "\n",
        "    elif BNType==\"GBN\" and Regularization_type =='L1':\n",
        "        Total_Test_loss_GBN_L1.append(test_loss)\n",
        "        Validation_Accuracy_GBN_L1.append(100. * correct / len(test_loader.dataset))\n",
        "    elif BNType==\"GBN\" and Regularization_type =='L2':\n",
        "        Total_Test_loss_GBN_L2.append(test_loss)\n",
        "        Validation_Accuracy_GBN_L2.append(100. * correct / len(test_loader.dataset))\n",
        "    elif BNType==\"GBN\" and Regularization_type =='L1L2':\n",
        "        Total_Test_loss_GBN_L1L2.append(test_loss)\n",
        "        Validation_Accuracy_GBN_L1L2.append(100. * correct / len(test_loader.dataset))\n",
        "    #Test_Accuracy.append(100. * correct / len(test_loader.dataset))\n",
        "    print('\\nTEST: Average loss: {:.4f}, Accuracy: {}/{} ({:.2f}%)\\n'.format(\n",
        "        test_loss, correct, len(test_loader.dataset),\n",
        "        100. * correct / len(test_loader.dataset)))\n",
        "    return false_images\n",
        "    \n"
      ],
      "execution_count": 0,
      "outputs": []
    },
    {
      "cell_type": "markdown",
      "metadata": {
        "id": "mzID6lgLBjDr",
        "colab_type": "text"
      },
      "source": [
        ""
      ]
    },
    {
      "cell_type": "markdown",
      "metadata": {
        "id": "e3y6pCum8L8D",
        "colab_type": "text"
      },
      "source": [
        "## exec_Models Function: This  Function will be called by Main Iterator to execute/call Models for 8 different combination of Regualarization and Batch normalization"
      ]
    },
    {
      "cell_type": "code",
      "metadata": {
        "id": "O4wQCELL21KK",
        "colab_type": "code",
        "colab": {}
      },
      "source": [
        "def exec_Models(model,Regularization_type,  EPOCHS,BNType, train_loader,test_loader):\n",
        "  Regularization=0\n",
        "  weight_decay=0\n",
        "  preds_BN=([])\n",
        "  actuals_BN=([])\n",
        "  preds_GBN=([])\n",
        "  actuals_GBN=([])\n",
        "  false_images_BN=[]\n",
        "  false_images_GBN=[]\n",
        "  if Regularization_type == 'None':\n",
        "      Regularization=0\n",
        "      weight_decay= 0\n",
        "  elif Regularization_type == 'L1':\n",
        "     weight_decay= 0\n",
        "  elif Regularization_type == 'L2':\n",
        "       weight_decay= 0.01\n",
        "  elif Regularization_type == 'L1L2':\n",
        "      weight_decay= 0.01\n",
        "\n",
        "  print('Regularization??',Regularization)\n",
        "  optimizer = optim.SGD(model.parameters(), lr=0.01, momentum=0.9,weight_decay=weight_decay)\n",
        "  scheduler = StepLR(optimizer, step_size=6, gamma=0.1)\n",
        "  \n",
        "  for epoch in range(EPOCHS):\n",
        "      print('EPOCH #',epoch)\n",
        "      print('weight_decay',weight_decay)\n",
        "      print('Regularization_type',Regularization_type )\n",
        "      print('BNType',BNType )\n",
        "      train(model, device, train_loader,optimizer, epoch,Regularization,Regularization_type,BNType) \n",
        "      false_images=test(model, device, test_loader,BNType,Regularization_type)\n",
        "      print('----------------------------------------------------------------------')\n",
        "  if Regularization_type=='None':\n",
        "    if BNType=='BN':\n",
        "        false_images_BN =false_images\n",
        "    elif BNType=='GBN':\n",
        "        false_images_GBN =false_images\n",
        "  \n",
        "  return false_images_BN,false_images_GBN\n"
      ],
      "execution_count": 0,
      "outputs": []
    },
    {
      "cell_type": "markdown",
      "metadata": {
        "id": "2OXyXJn84Qfh",
        "colab_type": "text"
      },
      "source": [
        "## Load_data: Function to load data from Dataset, and split into Train/Test, normalize and also Batch size is defined here"
      ]
    },
    {
      "cell_type": "code",
      "metadata": {
        "id": "0mKbtepw2LVB",
        "colab_type": "code",
        "colab": {}
      },
      "source": [
        "def Load_data(batch_size):\n",
        "  torch.manual_seed(1)\n",
        "  batch_size = batch_size\n",
        "  use_cuda = torch.cuda.is_available()\n",
        "  kwargs = {'num_workers': 1, 'pin_memory': True} if use_cuda else {}\n",
        "  train_loader = torch.utils.data.DataLoader(\n",
        "    datasets.MNIST('../data', train=True, download=True,\n",
        "                    transform=transforms.Compose([\n",
        "                        transforms.ToTensor(),\n",
        "                        transforms.Normalize((0.1307,), (0.3081,))\n",
        "                    ])),\n",
        "    batch_size=batch_size, shuffle=True, **kwargs)\n",
        "  test_loader = torch.utils.data.DataLoader(\n",
        "    datasets.MNIST('../data', train=False, transform=transforms.Compose([\n",
        "                        transforms.ToTensor(),\n",
        "                        transforms.Normalize((0.1307,), (0.3081,))\n",
        "                    ])),\n",
        "    batch_size=batch_size, shuffle=True, **kwargs)\n",
        "  return train_loader,test_loader"
      ],
      "execution_count": 0,
      "outputs": []
    },
    {
      "cell_type": "markdown",
      "metadata": {
        "id": "JU9kZl_1xfcZ",
        "colab_type": "text"
      },
      "source": [
        "##Iterate through the two Options, With BN and With GBN and call the model for all 4 options - with/without L1,L2, with L1, with L2"
      ]
    },
    {
      "cell_type": "code",
      "metadata": {
        "id": "AoPw33ADw90V",
        "colab_type": "code",
        "outputId": "d663fffb-b80d-4b27-a1a6-93d8a4298230",
        "colab": {
          "base_uri": "https://localhost:8080/",
          "height": 1000,
          "referenced_widgets": [
            "12b565e873214bdc97431adceff0b4f6",
            "789938d362c248c1b92ae43406208909",
            "c31c4a96adec4cc6bd1530d92bfbddf5",
            "6323dd15773e4cd19edcda703e7857da",
            "9739466d318b4eae81288918837c461f",
            "faae53568f6541278ee284bc8538e089",
            "c337c2e4681f448797b9a858fcc89908",
            "738a27ad585a4f9b8bd8bb66f442b30f",
            "134e2b5fc27d48a6a5dde833d014ff8c",
            "ddf6279058ef4767850926e0762c5049",
            "fbc3476d22f84b11bc96150eea1de5d6",
            "b3ef7820dbe0462baf44cc107fc4a752",
            "58aa9b57e2cc4835b5117e979cb63794",
            "7af5f50a51ae4dd58371c51e22516030",
            "8c2e85fb05704829acc3e7e2b62c10a3",
            "b60fcf09cc5e4e4aa02bd4cd50a0bc76",
            "272caa621e6443d88af2e2f3ae5e7839",
            "13bf28919767431ca402314d73b8648d",
            "6aff102a13b541b9b5bc4127a072c71c",
            "7a96d02f9ab64f4f8b06bc8afad6a18b",
            "b193c2175c9d433ca08e9fce8d6083b4",
            "3ad5a1fe96364aa0b473ce9cfe639fa5",
            "a8d2d7366de54f409588ca8e3a918511",
            "e52b6cb0a7ed43439d89eff4c7511369",
            "03230d18414d4b8ca571fd93016dd41e",
            "cfdc1ea7c339442a95a332407aa0d07a",
            "2f99a3742d204ff397969dbcd77f0f63",
            "fd793fffb1ee42d4a45ba76c27389a4f",
            "9d9199e0c2c04794bd1f8b67f815deaf",
            "1fae1a7030f341cf91c1f0727f15ee0c",
            "4a110b4a49fe4e5ba006b19c57b429fd",
            "0ba194122d6f4b8687f33d3156bda534"
          ]
        }
      },
      "source": [
        "from torch.optim.lr_scheduler import StepLR\n",
        "!pip install torchsummary\n",
        "from torchsummary import summary\n",
        "use_cuda = torch.cuda.is_available()\n",
        "device = torch.device(\"cuda\" if use_cuda else \"cpu\")\n",
        "#model = Net(BatchNorm=\"GBN\").to(device)\n",
        "Misclassfication_false_images_BN = []\n",
        "Misclassfication_false_images_GBN = []\n",
        "\n",
        "EPOCHS=25\n",
        "\n",
        "Regularization_List=['None','L1','L2','L1L2']\n",
        "BatchNorm_List=['GBN','BN']\n",
        "for bnType_method in BatchNorm_List:\n",
        "  print(bnType_method)\n",
        "  if bnType_method =='BN':\n",
        "      train_loader,test_loader=Load_data(64)\n",
        "  else:\n",
        "       train_loader,test_loader=Load_data(128)\n",
        "  for Reg_method in Regularization_List:\n",
        "      print('Regualarization method',Reg_method)\n",
        "      print('BATCH NORMALIZATION TYPE?',bnType_method)\n",
        "      model = Net(bnType_method).to(device)\n",
        "      model.eval()\n",
        "      summary(model, input_size=(1, 28, 28))\n",
        "      Misclassfication_false_images_BN,Misclassfication_false_images_GBN=exec_Models(model,Reg_method,  EPOCHS,bnType_method, train_loader,test_loader)\n",
        "\n",
        "plot_Misclassified_Images(Misclassfication_false_images_BN) # BN without L1/L2\n",
        "plot_Misclassified_Images(Misclassfication_false_images_GBN) # GBN without L1/L2\n",
        "\n"
      ],
      "execution_count": 10,
      "outputs": [
        {
          "output_type": "stream",
          "text": [
            "Requirement already satisfied: torchsummary in /usr/local/lib/python3.6/dist-packages (1.5.1)\n",
            "GBN\n",
            "Downloading http://yann.lecun.com/exdb/mnist/train-images-idx3-ubyte.gz to ../data/MNIST/raw/train-images-idx3-ubyte.gz\n"
          ],
          "name": "stdout"
        },
        {
          "output_type": "display_data",
          "data": {
            "application/vnd.jupyter.widget-view+json": {
              "model_id": "12b565e873214bdc97431adceff0b4f6",
              "version_minor": 0,
              "version_major": 2
            },
            "text/plain": [
              "HBox(children=(IntProgress(value=1, bar_style='info', max=1), HTML(value='')))"
            ]
          },
          "metadata": {
            "tags": []
          }
        },
        {
          "output_type": "stream",
          "text": [
            "Extracting ../data/MNIST/raw/train-images-idx3-ubyte.gz to ../data/MNIST/raw\n",
            "Downloading http://yann.lecun.com/exdb/mnist/train-labels-idx1-ubyte.gz to ../data/MNIST/raw/train-labels-idx1-ubyte.gz\n"
          ],
          "name": "stdout"
        },
        {
          "output_type": "display_data",
          "data": {
            "application/vnd.jupyter.widget-view+json": {
              "model_id": "134e2b5fc27d48a6a5dde833d014ff8c",
              "version_minor": 0,
              "version_major": 2
            },
            "text/plain": [
              "HBox(children=(IntProgress(value=1, bar_style='info', max=1), HTML(value='')))"
            ]
          },
          "metadata": {
            "tags": []
          }
        },
        {
          "output_type": "stream",
          "text": [
            "Extracting ../data/MNIST/raw/train-labels-idx1-ubyte.gz to ../data/MNIST/raw\n",
            "Downloading http://yann.lecun.com/exdb/mnist/t10k-images-idx3-ubyte.gz to ../data/MNIST/raw/t10k-images-idx3-ubyte.gz\n"
          ],
          "name": "stdout"
        },
        {
          "output_type": "display_data",
          "data": {
            "application/vnd.jupyter.widget-view+json": {
              "model_id": "272caa621e6443d88af2e2f3ae5e7839",
              "version_minor": 0,
              "version_major": 2
            },
            "text/plain": [
              "HBox(children=(IntProgress(value=1, bar_style='info', max=1), HTML(value='')))"
            ]
          },
          "metadata": {
            "tags": []
          }
        },
        {
          "output_type": "stream",
          "text": [
            "Extracting ../data/MNIST/raw/t10k-images-idx3-ubyte.gz to ../data/MNIST/raw\n",
            "Downloading http://yann.lecun.com/exdb/mnist/t10k-labels-idx1-ubyte.gz to ../data/MNIST/raw/t10k-labels-idx1-ubyte.gz\n"
          ],
          "name": "stdout"
        },
        {
          "output_type": "display_data",
          "data": {
            "application/vnd.jupyter.widget-view+json": {
              "model_id": "03230d18414d4b8ca571fd93016dd41e",
              "version_minor": 0,
              "version_major": 2
            },
            "text/plain": [
              "HBox(children=(IntProgress(value=1, bar_style='info', max=1), HTML(value='')))"
            ]
          },
          "metadata": {
            "tags": []
          }
        },
        {
          "output_type": "stream",
          "text": [
            "Extracting ../data/MNIST/raw/t10k-labels-idx1-ubyte.gz to ../data/MNIST/raw\n",
            "Processing...\n",
            "Done!\n",
            "Regualarization method None\n",
            "BATCH NORMALIZATION TYPE? GBN\n",
            "output_channels:20\n",
            " Currently using Ghost Normalization \n",
            "GHOST NORM output_channels 20\n",
            "GhostBatchNorm CLASS 2\n",
            "\n",
            "\n",
            "output_channels:16\n",
            " Currently using Ghost Normalization \n",
            "GHOST NORM output_channels 16\n",
            "GhostBatchNorm CLASS 2\n",
            "output_channels:16\n",
            " Currently using Ghost Normalization \n",
            "GHOST NORM output_channels 16\n",
            "GhostBatchNorm CLASS 2\n",
            "output_channels:16\n",
            " Currently using Ghost Normalization \n",
            "GHOST NORM output_channels 16\n",
            "GhostBatchNorm CLASS 2\n",
            "output_channels:13\n",
            " Currently using Ghost Normalization \n",
            "GHOST NORM output_channels 13\n",
            "GhostBatchNorm CLASS 2\n"
          ],
          "name": "stdout"
        },
        {
          "output_type": "stream",
          "text": [
            "/pytorch/torch/csrc/utils/tensor_numpy.cpp:141: UserWarning: The given NumPy array is not writeable, and PyTorch does not support non-writeable tensors. This means you can write to the underlying (supposedly non-writeable) NumPy array using the tensor. You may want to copy the array to protect its data or make it writeable before converting it to a tensor. This type of warning will be suppressed for the rest of this program.\n",
            "/usr/local/lib/python3.6/dist-packages/ipykernel_launcher.py:73: UserWarning: Implicit dimension choice for log_softmax has been deprecated. Change the call to include dim=X as an argument.\n",
            "  0%|          | 0/469 [00:00<?, ?it/s]"
          ],
          "name": "stderr"
        },
        {
          "output_type": "stream",
          "text": [
            "----------------------------------------------------------------\n",
            "        Layer (type)               Output Shape         Param #\n",
            "================================================================\n",
            "            Conv2d-1           [-1, 20, 26, 26]             200\n",
            "    GhostBatchNorm-2           [-1, 20, 26, 26]              40\n",
            "           Dropout-3           [-1, 20, 26, 26]               0\n",
            "              ReLU-4           [-1, 20, 26, 26]               0\n",
            "            Conv2d-5           [-1, 16, 24, 24]           2,896\n",
            "    GhostBatchNorm-6           [-1, 16, 24, 24]              32\n",
            "           Dropout-7           [-1, 16, 24, 24]               0\n",
            "              ReLU-8           [-1, 16, 24, 24]               0\n",
            "         MaxPool2d-9           [-1, 16, 12, 12]               0\n",
            "           Conv2d-10           [-1, 16, 10, 10]           2,320\n",
            "   GhostBatchNorm-11           [-1, 16, 10, 10]              32\n",
            "          Dropout-12           [-1, 16, 10, 10]               0\n",
            "             ReLU-13           [-1, 16, 10, 10]               0\n",
            "        MaxPool2d-14             [-1, 16, 5, 5]               0\n",
            "           Conv2d-15             [-1, 16, 3, 3]           2,320\n",
            "   GhostBatchNorm-16             [-1, 16, 3, 3]              32\n",
            "          Dropout-17             [-1, 16, 3, 3]               0\n",
            "             ReLU-18             [-1, 16, 3, 3]               0\n",
            "           Conv2d-19             [-1, 13, 1, 1]           1,885\n",
            "   GhostBatchNorm-20             [-1, 13, 1, 1]              26\n",
            "          Dropout-21             [-1, 13, 1, 1]               0\n",
            "             ReLU-22             [-1, 13, 1, 1]               0\n",
            "           Conv2d-23             [-1, 10, 1, 1]             140\n",
            "================================================================\n",
            "Total params: 9,923\n",
            "Trainable params: 9,923\n",
            "Non-trainable params: 0\n",
            "----------------------------------------------------------------\n",
            "Input size (MB): 0.00\n",
            "Forward/backward pass size (MB): 0.77\n",
            "Params size (MB): 0.04\n",
            "Estimated Total Size (MB): 0.81\n",
            "----------------------------------------------------------------\n",
            "Regularization?? 0\n",
            "EPOCH # 0\n",
            "weight_decay 0\n",
            "Regularization_type None\n",
            "BNType GBN\n"
          ],
          "name": "stdout"
        },
        {
          "output_type": "stream",
          "text": [
            "TRAINING Loss=0.0766693502664566 batch_id=468 TRAIN ACCURACY=88.23: 100%|██████████| 469/469 [00:11<00:00, 39.94it/s]\n",
            "  0%|          | 0/469 [00:00<?, ?it/s]"
          ],
          "name": "stderr"
        },
        {
          "output_type": "stream",
          "text": [
            "Number of Misclassifed Images =  211\n",
            "\n",
            "TEST: Average loss: 0.0858, Accuracy: 9789/10000 (97.89%)\n",
            "\n",
            "----------------------------------------------------------------------\n",
            "EPOCH # 1\n",
            "weight_decay 0\n",
            "Regularization_type None\n",
            "BNType GBN\n"
          ],
          "name": "stdout"
        },
        {
          "output_type": "stream",
          "text": [
            "TRAINING Loss=0.08655592054128647 batch_id=468 TRAIN ACCURACY=96.92: 100%|██████████| 469/469 [00:11<00:00, 39.92it/s]\n",
            "  0%|          | 0/469 [00:00<?, ?it/s]"
          ],
          "name": "stderr"
        },
        {
          "output_type": "stream",
          "text": [
            "Number of Misclassifed Images =  123\n",
            "\n",
            "TEST: Average loss: 0.0445, Accuracy: 9877/10000 (98.77%)\n",
            "\n",
            "----------------------------------------------------------------------\n",
            "EPOCH # 2\n",
            "weight_decay 0\n",
            "Regularization_type None\n",
            "BNType GBN\n"
          ],
          "name": "stdout"
        },
        {
          "output_type": "stream",
          "text": [
            "TRAINING Loss=0.08219496160745621 batch_id=468 TRAIN ACCURACY=97.58: 100%|██████████| 469/469 [00:11<00:00, 39.37it/s]\n",
            "  0%|          | 0/469 [00:00<?, ?it/s]"
          ],
          "name": "stderr"
        },
        {
          "output_type": "stream",
          "text": [
            "Number of Misclassifed Images =  114\n",
            "\n",
            "TEST: Average loss: 0.0386, Accuracy: 9886/10000 (98.86%)\n",
            "\n",
            "----------------------------------------------------------------------\n",
            "EPOCH # 3\n",
            "weight_decay 0\n",
            "Regularization_type None\n",
            "BNType GBN\n"
          ],
          "name": "stdout"
        },
        {
          "output_type": "stream",
          "text": [
            "TRAINING Loss=0.032823625952005386 batch_id=468 TRAIN ACCURACY=98.00: 100%|██████████| 469/469 [00:11<00:00, 40.51it/s]\n",
            "  0%|          | 0/469 [00:00<?, ?it/s]"
          ],
          "name": "stderr"
        },
        {
          "output_type": "stream",
          "text": [
            "Number of Misclassifed Images =  109\n",
            "\n",
            "TEST: Average loss: 0.0364, Accuracy: 9891/10000 (98.91%)\n",
            "\n",
            "----------------------------------------------------------------------\n",
            "EPOCH # 4\n",
            "weight_decay 0\n",
            "Regularization_type None\n",
            "BNType GBN\n"
          ],
          "name": "stdout"
        },
        {
          "output_type": "stream",
          "text": [
            "TRAINING Loss=0.06147756054997444 batch_id=468 TRAIN ACCURACY=98.26: 100%|██████████| 469/469 [00:11<00:00, 40.26it/s]\n",
            "  0%|          | 0/469 [00:00<?, ?it/s]"
          ],
          "name": "stderr"
        },
        {
          "output_type": "stream",
          "text": [
            "Number of Misclassifed Images =  97\n",
            "\n",
            "TEST: Average loss: 0.0315, Accuracy: 9903/10000 (99.03%)\n",
            "\n",
            "----------------------------------------------------------------------\n",
            "EPOCH # 5\n",
            "weight_decay 0\n",
            "Regularization_type None\n",
            "BNType GBN\n"
          ],
          "name": "stdout"
        },
        {
          "output_type": "stream",
          "text": [
            "TRAINING Loss=0.09297188371419907 batch_id=468 TRAIN ACCURACY=98.30: 100%|██████████| 469/469 [00:11<00:00, 40.76it/s]\n",
            "  0%|          | 0/469 [00:00<?, ?it/s]"
          ],
          "name": "stderr"
        },
        {
          "output_type": "stream",
          "text": [
            "Number of Misclassifed Images =  89\n",
            "\n",
            "TEST: Average loss: 0.0289, Accuracy: 9911/10000 (99.11%)\n",
            "\n",
            "----------------------------------------------------------------------\n",
            "EPOCH # 6\n",
            "weight_decay 0\n",
            "Regularization_type None\n",
            "BNType GBN\n"
          ],
          "name": "stdout"
        },
        {
          "output_type": "stream",
          "text": [
            "TRAINING Loss=0.1321040540933609 batch_id=468 TRAIN ACCURACY=98.39: 100%|██████████| 469/469 [00:11<00:00, 40.38it/s]\n",
            "  0%|          | 0/469 [00:00<?, ?it/s]"
          ],
          "name": "stderr"
        },
        {
          "output_type": "stream",
          "text": [
            "Number of Misclassifed Images =  98\n",
            "\n",
            "TEST: Average loss: 0.0306, Accuracy: 9902/10000 (99.02%)\n",
            "\n",
            "----------------------------------------------------------------------\n",
            "EPOCH # 7\n",
            "weight_decay 0\n",
            "Regularization_type None\n",
            "BNType GBN\n"
          ],
          "name": "stdout"
        },
        {
          "output_type": "stream",
          "text": [
            "TRAINING Loss=0.025516854599118233 batch_id=468 TRAIN ACCURACY=98.52: 100%|██████████| 469/469 [00:11<00:00, 40.11it/s]\n",
            "  0%|          | 0/469 [00:00<?, ?it/s]"
          ],
          "name": "stderr"
        },
        {
          "output_type": "stream",
          "text": [
            "Number of Misclassifed Images =  94\n",
            "\n",
            "TEST: Average loss: 0.0292, Accuracy: 9906/10000 (99.06%)\n",
            "\n",
            "----------------------------------------------------------------------\n",
            "EPOCH # 8\n",
            "weight_decay 0\n",
            "Regularization_type None\n",
            "BNType GBN\n"
          ],
          "name": "stdout"
        },
        {
          "output_type": "stream",
          "text": [
            "TRAINING Loss=0.07642812281847 batch_id=468 TRAIN ACCURACY=98.64: 100%|██████████| 469/469 [00:11<00:00, 40.50it/s]\n",
            "  0%|          | 0/469 [00:00<?, ?it/s]"
          ],
          "name": "stderr"
        },
        {
          "output_type": "stream",
          "text": [
            "Number of Misclassifed Images =  93\n",
            "\n",
            "TEST: Average loss: 0.0279, Accuracy: 9907/10000 (99.07%)\n",
            "\n",
            "----------------------------------------------------------------------\n",
            "EPOCH # 9\n",
            "weight_decay 0\n",
            "Regularization_type None\n",
            "BNType GBN\n"
          ],
          "name": "stdout"
        },
        {
          "output_type": "stream",
          "text": [
            "TRAINING Loss=0.04447803273797035 batch_id=468 TRAIN ACCURACY=98.69: 100%|██████████| 469/469 [00:11<00:00, 41.10it/s]\n",
            "  0%|          | 0/469 [00:00<?, ?it/s]"
          ],
          "name": "stderr"
        },
        {
          "output_type": "stream",
          "text": [
            "Number of Misclassifed Images =  91\n",
            "\n",
            "TEST: Average loss: 0.0292, Accuracy: 9909/10000 (99.09%)\n",
            "\n",
            "----------------------------------------------------------------------\n",
            "EPOCH # 10\n",
            "weight_decay 0\n",
            "Regularization_type None\n",
            "BNType GBN\n"
          ],
          "name": "stdout"
        },
        {
          "output_type": "stream",
          "text": [
            "TRAINING Loss=0.015422915108501911 batch_id=468 TRAIN ACCURACY=98.77: 100%|██████████| 469/469 [00:11<00:00, 41.08it/s]\n",
            "  0%|          | 0/469 [00:00<?, ?it/s]"
          ],
          "name": "stderr"
        },
        {
          "output_type": "stream",
          "text": [
            "Number of Misclassifed Images =  71\n",
            "\n",
            "TEST: Average loss: 0.0247, Accuracy: 9929/10000 (99.29%)\n",
            "\n",
            "----------------------------------------------------------------------\n",
            "EPOCH # 11\n",
            "weight_decay 0\n",
            "Regularization_type None\n",
            "BNType GBN\n"
          ],
          "name": "stdout"
        },
        {
          "output_type": "stream",
          "text": [
            "TRAINING Loss=0.031511370092630386 batch_id=468 TRAIN ACCURACY=98.73: 100%|██████████| 469/469 [00:11<00:00, 41.31it/s]\n",
            "  0%|          | 0/469 [00:00<?, ?it/s]"
          ],
          "name": "stderr"
        },
        {
          "output_type": "stream",
          "text": [
            "Number of Misclassifed Images =  99\n",
            "\n",
            "TEST: Average loss: 0.0279, Accuracy: 9901/10000 (99.01%)\n",
            "\n",
            "----------------------------------------------------------------------\n",
            "EPOCH # 12\n",
            "weight_decay 0\n",
            "Regularization_type None\n",
            "BNType GBN\n"
          ],
          "name": "stdout"
        },
        {
          "output_type": "stream",
          "text": [
            "TRAINING Loss=0.024074723944067955 batch_id=468 TRAIN ACCURACY=98.86: 100%|██████████| 469/469 [00:11<00:00, 40.57it/s]\n",
            "  0%|          | 0/469 [00:00<?, ?it/s]"
          ],
          "name": "stderr"
        },
        {
          "output_type": "stream",
          "text": [
            "Number of Misclassifed Images =  77\n",
            "\n",
            "TEST: Average loss: 0.0246, Accuracy: 9923/10000 (99.23%)\n",
            "\n",
            "----------------------------------------------------------------------\n",
            "EPOCH # 13\n",
            "weight_decay 0\n",
            "Regularization_type None\n",
            "BNType GBN\n"
          ],
          "name": "stdout"
        },
        {
          "output_type": "stream",
          "text": [
            "TRAINING Loss=0.026059413328766823 batch_id=468 TRAIN ACCURACY=98.89: 100%|██████████| 469/469 [00:11<00:00, 40.61it/s]\n",
            "  0%|          | 0/469 [00:00<?, ?it/s]"
          ],
          "name": "stderr"
        },
        {
          "output_type": "stream",
          "text": [
            "Number of Misclassifed Images =  87\n",
            "\n",
            "TEST: Average loss: 0.0275, Accuracy: 9913/10000 (99.13%)\n",
            "\n",
            "----------------------------------------------------------------------\n",
            "EPOCH # 14\n",
            "weight_decay 0\n",
            "Regularization_type None\n",
            "BNType GBN\n"
          ],
          "name": "stdout"
        },
        {
          "output_type": "stream",
          "text": [
            "TRAINING Loss=0.007231593132019043 batch_id=468 TRAIN ACCURACY=98.89: 100%|██████████| 469/469 [00:11<00:00, 40.50it/s]\n",
            "  0%|          | 0/469 [00:00<?, ?it/s]"
          ],
          "name": "stderr"
        },
        {
          "output_type": "stream",
          "text": [
            "Number of Misclassifed Images =  75\n",
            "\n",
            "TEST: Average loss: 0.0263, Accuracy: 9925/10000 (99.25%)\n",
            "\n",
            "----------------------------------------------------------------------\n",
            "EPOCH # 15\n",
            "weight_decay 0\n",
            "Regularization_type None\n",
            "BNType GBN\n"
          ],
          "name": "stdout"
        },
        {
          "output_type": "stream",
          "text": [
            "TRAINING Loss=0.05159891024231911 batch_id=468 TRAIN ACCURACY=98.96: 100%|██████████| 469/469 [00:11<00:00, 40.54it/s]\n",
            "  0%|          | 0/469 [00:00<?, ?it/s]"
          ],
          "name": "stderr"
        },
        {
          "output_type": "stream",
          "text": [
            "Number of Misclassifed Images =  78\n",
            "\n",
            "TEST: Average loss: 0.0250, Accuracy: 9922/10000 (99.22%)\n",
            "\n",
            "----------------------------------------------------------------------\n",
            "EPOCH # 16\n",
            "weight_decay 0\n",
            "Regularization_type None\n",
            "BNType GBN\n"
          ],
          "name": "stdout"
        },
        {
          "output_type": "stream",
          "text": [
            "TRAINING Loss=0.0025555789470672607 batch_id=468 TRAIN ACCURACY=98.95: 100%|██████████| 469/469 [00:11<00:00, 39.85it/s]\n",
            "  0%|          | 0/469 [00:00<?, ?it/s]"
          ],
          "name": "stderr"
        },
        {
          "output_type": "stream",
          "text": [
            "Number of Misclassifed Images =  74\n",
            "\n",
            "TEST: Average loss: 0.0233, Accuracy: 9926/10000 (99.26%)\n",
            "\n",
            "----------------------------------------------------------------------\n",
            "EPOCH # 17\n",
            "weight_decay 0\n",
            "Regularization_type None\n",
            "BNType GBN\n"
          ],
          "name": "stdout"
        },
        {
          "output_type": "stream",
          "text": [
            "TRAINING Loss=0.0056205689907073975 batch_id=468 TRAIN ACCURACY=98.99: 100%|██████████| 469/469 [00:11<00:00, 40.54it/s]\n",
            "  0%|          | 0/469 [00:00<?, ?it/s]"
          ],
          "name": "stderr"
        },
        {
          "output_type": "stream",
          "text": [
            "Number of Misclassifed Images =  77\n",
            "\n",
            "TEST: Average loss: 0.0255, Accuracy: 9923/10000 (99.23%)\n",
            "\n",
            "----------------------------------------------------------------------\n",
            "EPOCH # 18\n",
            "weight_decay 0\n",
            "Regularization_type None\n",
            "BNType GBN\n"
          ],
          "name": "stdout"
        },
        {
          "output_type": "stream",
          "text": [
            "TRAINING Loss=0.03516434133052826 batch_id=468 TRAIN ACCURACY=99.04: 100%|██████████| 469/469 [00:11<00:00, 40.25it/s]\n",
            "  0%|          | 0/469 [00:00<?, ?it/s]"
          ],
          "name": "stderr"
        },
        {
          "output_type": "stream",
          "text": [
            "Number of Misclassifed Images =  78\n",
            "\n",
            "TEST: Average loss: 0.0231, Accuracy: 9922/10000 (99.22%)\n",
            "\n",
            "----------------------------------------------------------------------\n",
            "EPOCH # 19\n",
            "weight_decay 0\n",
            "Regularization_type None\n",
            "BNType GBN\n"
          ],
          "name": "stdout"
        },
        {
          "output_type": "stream",
          "text": [
            "TRAINING Loss=0.0069742947816848755 batch_id=468 TRAIN ACCURACY=98.96: 100%|██████████| 469/469 [00:11<00:00, 40.03it/s]\n",
            "  0%|          | 0/469 [00:00<?, ?it/s]"
          ],
          "name": "stderr"
        },
        {
          "output_type": "stream",
          "text": [
            "Number of Misclassifed Images =  73\n",
            "\n",
            "TEST: Average loss: 0.0222, Accuracy: 9927/10000 (99.27%)\n",
            "\n",
            "----------------------------------------------------------------------\n",
            "EPOCH # 20\n",
            "weight_decay 0\n",
            "Regularization_type None\n",
            "BNType GBN\n"
          ],
          "name": "stdout"
        },
        {
          "output_type": "stream",
          "text": [
            "TRAINING Loss=0.022476861253380775 batch_id=468 TRAIN ACCURACY=99.02: 100%|██████████| 469/469 [00:11<00:00, 40.05it/s]\n",
            "  0%|          | 0/469 [00:00<?, ?it/s]"
          ],
          "name": "stderr"
        },
        {
          "output_type": "stream",
          "text": [
            "Number of Misclassifed Images =  68\n",
            "\n",
            "TEST: Average loss: 0.0217, Accuracy: 9932/10000 (99.32%)\n",
            "\n",
            "----------------------------------------------------------------------\n",
            "EPOCH # 21\n",
            "weight_decay 0\n",
            "Regularization_type None\n",
            "BNType GBN\n"
          ],
          "name": "stdout"
        },
        {
          "output_type": "stream",
          "text": [
            "TRAINING Loss=0.012420624494552612 batch_id=468 TRAIN ACCURACY=99.03: 100%|██████████| 469/469 [00:11<00:00, 41.07it/s]\n",
            "  0%|          | 0/469 [00:00<?, ?it/s]"
          ],
          "name": "stderr"
        },
        {
          "output_type": "stream",
          "text": [
            "Number of Misclassifed Images =  74\n",
            "\n",
            "TEST: Average loss: 0.0249, Accuracy: 9926/10000 (99.26%)\n",
            "\n",
            "----------------------------------------------------------------------\n",
            "EPOCH # 22\n",
            "weight_decay 0\n",
            "Regularization_type None\n",
            "BNType GBN\n"
          ],
          "name": "stdout"
        },
        {
          "output_type": "stream",
          "text": [
            "TRAINING Loss=0.091688372194767 batch_id=468 TRAIN ACCURACY=99.11: 100%|██████████| 469/469 [00:11<00:00, 39.75it/s]\n",
            "  0%|          | 0/469 [00:00<?, ?it/s]"
          ],
          "name": "stderr"
        },
        {
          "output_type": "stream",
          "text": [
            "Number of Misclassifed Images =  66\n",
            "\n",
            "TEST: Average loss: 0.0220, Accuracy: 9934/10000 (99.34%)\n",
            "\n",
            "----------------------------------------------------------------------\n",
            "EPOCH # 23\n",
            "weight_decay 0\n",
            "Regularization_type None\n",
            "BNType GBN\n"
          ],
          "name": "stdout"
        },
        {
          "output_type": "stream",
          "text": [
            "TRAINING Loss=0.023226052522659302 batch_id=468 TRAIN ACCURACY=99.15: 100%|██████████| 469/469 [00:11<00:00, 40.48it/s]\n",
            "  0%|          | 0/469 [00:00<?, ?it/s]"
          ],
          "name": "stderr"
        },
        {
          "output_type": "stream",
          "text": [
            "Number of Misclassifed Images =  70\n",
            "\n",
            "TEST: Average loss: 0.0217, Accuracy: 9930/10000 (99.30%)\n",
            "\n",
            "----------------------------------------------------------------------\n",
            "EPOCH # 24\n",
            "weight_decay 0\n",
            "Regularization_type None\n",
            "BNType GBN\n"
          ],
          "name": "stdout"
        },
        {
          "output_type": "stream",
          "text": [
            "TRAINING Loss=0.009498466737568378 batch_id=468 TRAIN ACCURACY=99.14: 100%|██████████| 469/469 [00:11<00:00, 39.89it/s]\n",
            "  0%|          | 0/469 [00:00<?, ?it/s]"
          ],
          "name": "stderr"
        },
        {
          "output_type": "stream",
          "text": [
            "Number of Misclassifed Images =  71\n",
            "\n",
            "TEST: Average loss: 0.0205, Accuracy: 9929/10000 (99.29%)\n",
            "\n",
            "----------------------------------------------------------------------\n",
            "Regualarization method L1\n",
            "BATCH NORMALIZATION TYPE? GBN\n",
            "output_channels:20\n",
            " Currently using Ghost Normalization \n",
            "GHOST NORM output_channels 20\n",
            "GhostBatchNorm CLASS 2\n",
            "output_channels:16\n",
            " Currently using Ghost Normalization \n",
            "GHOST NORM output_channels 16\n",
            "GhostBatchNorm CLASS 2\n",
            "output_channels:16\n",
            " Currently using Ghost Normalization \n",
            "GHOST NORM output_channels 16\n",
            "GhostBatchNorm CLASS 2\n",
            "output_channels:16\n",
            " Currently using Ghost Normalization \n",
            "GHOST NORM output_channels 16\n",
            "GhostBatchNorm CLASS 2\n",
            "output_channels:13\n",
            " Currently using Ghost Normalization \n",
            "GHOST NORM output_channels 13\n",
            "GhostBatchNorm CLASS 2\n",
            "----------------------------------------------------------------\n",
            "        Layer (type)               Output Shape         Param #\n",
            "================================================================\n",
            "            Conv2d-1           [-1, 20, 26, 26]             200\n",
            "    GhostBatchNorm-2           [-1, 20, 26, 26]              40\n",
            "           Dropout-3           [-1, 20, 26, 26]               0\n",
            "              ReLU-4           [-1, 20, 26, 26]               0\n",
            "            Conv2d-5           [-1, 16, 24, 24]           2,896\n",
            "    GhostBatchNorm-6           [-1, 16, 24, 24]              32\n",
            "           Dropout-7           [-1, 16, 24, 24]               0\n",
            "              ReLU-8           [-1, 16, 24, 24]               0\n",
            "         MaxPool2d-9           [-1, 16, 12, 12]               0\n",
            "           Conv2d-10           [-1, 16, 10, 10]           2,320\n",
            "   GhostBatchNorm-11           [-1, 16, 10, 10]              32\n",
            "          Dropout-12           [-1, 16, 10, 10]               0\n",
            "             ReLU-13           [-1, 16, 10, 10]               0\n",
            "        MaxPool2d-14             [-1, 16, 5, 5]               0\n",
            "           Conv2d-15             [-1, 16, 3, 3]           2,320\n",
            "   GhostBatchNorm-16             [-1, 16, 3, 3]              32\n",
            "          Dropout-17             [-1, 16, 3, 3]               0\n",
            "             ReLU-18             [-1, 16, 3, 3]               0\n",
            "           Conv2d-19             [-1, 13, 1, 1]           1,885\n",
            "   GhostBatchNorm-20             [-1, 13, 1, 1]              26\n",
            "          Dropout-21             [-1, 13, 1, 1]               0\n",
            "             ReLU-22             [-1, 13, 1, 1]               0\n",
            "           Conv2d-23             [-1, 10, 1, 1]             140\n",
            "================================================================\n",
            "Total params: 9,923\n",
            "Trainable params: 9,923\n",
            "Non-trainable params: 0\n",
            "----------------------------------------------------------------\n",
            "Input size (MB): 0.00\n",
            "Forward/backward pass size (MB): 0.77\n",
            "Params size (MB): 0.04\n",
            "Estimated Total Size (MB): 0.81\n",
            "----------------------------------------------------------------\n",
            "Regularization?? 0\n",
            "EPOCH # 0\n",
            "weight_decay 0\n",
            "Regularization_type L1\n",
            "BNType GBN\n"
          ],
          "name": "stdout"
        },
        {
          "output_type": "stream",
          "text": [
            "/usr/local/lib/python3.6/dist-packages/torch/nn/_reduction.py:43: UserWarning: size_average and reduce args will be deprecated, please use reduction='sum' instead.\n",
            "  warnings.warn(warning.format(ret))\n",
            "TRAINING Loss=0.13177582621574402 batch_id=468 TRAIN ACCURACY=89.88: 100%|██████████| 469/469 [00:14<00:00, 33.30it/s]\n",
            "  0%|          | 0/469 [00:00<?, ?it/s]"
          ],
          "name": "stderr"
        },
        {
          "output_type": "stream",
          "text": [
            "Number of Misclassifed Images =  159\n",
            "\n",
            "TEST: Average loss: 0.0669, Accuracy: 9841/10000 (98.41%)\n",
            "\n",
            "----------------------------------------------------------------------\n",
            "EPOCH # 1\n",
            "weight_decay 0\n",
            "Regularization_type L1\n",
            "BNType GBN\n"
          ],
          "name": "stdout"
        },
        {
          "output_type": "stream",
          "text": [
            "TRAINING Loss=0.0738397017121315 batch_id=468 TRAIN ACCURACY=96.91: 100%|██████████| 469/469 [00:14<00:00, 33.23it/s]\n",
            "  0%|          | 0/469 [00:00<?, ?it/s]"
          ],
          "name": "stderr"
        },
        {
          "output_type": "stream",
          "text": [
            "Number of Misclassifed Images =  123\n",
            "\n",
            "TEST: Average loss: 0.0446, Accuracy: 9877/10000 (98.77%)\n",
            "\n",
            "----------------------------------------------------------------------\n",
            "EPOCH # 2\n",
            "weight_decay 0\n",
            "Regularization_type L1\n",
            "BNType GBN\n"
          ],
          "name": "stdout"
        },
        {
          "output_type": "stream",
          "text": [
            "TRAINING Loss=0.15436452627182007 batch_id=468 TRAIN ACCURACY=97.82: 100%|██████████| 469/469 [00:13<00:00, 33.61it/s]\n",
            "  0%|          | 0/469 [00:00<?, ?it/s]"
          ],
          "name": "stderr"
        },
        {
          "output_type": "stream",
          "text": [
            "Number of Misclassifed Images =  97\n",
            "\n",
            "TEST: Average loss: 0.0336, Accuracy: 9903/10000 (99.03%)\n",
            "\n",
            "----------------------------------------------------------------------\n",
            "EPOCH # 3\n",
            "weight_decay 0\n",
            "Regularization_type L1\n",
            "BNType GBN\n"
          ],
          "name": "stdout"
        },
        {
          "output_type": "stream",
          "text": [
            "TRAINING Loss=0.014084983617067337 batch_id=468 TRAIN ACCURACY=98.08: 100%|██████████| 469/469 [00:13<00:00, 34.61it/s]\n",
            "  0%|          | 0/469 [00:00<?, ?it/s]"
          ],
          "name": "stderr"
        },
        {
          "output_type": "stream",
          "text": [
            "Number of Misclassifed Images =  88\n",
            "\n",
            "TEST: Average loss: 0.0281, Accuracy: 9912/10000 (99.12%)\n",
            "\n",
            "----------------------------------------------------------------------\n",
            "EPOCH # 4\n",
            "weight_decay 0\n",
            "Regularization_type L1\n",
            "BNType GBN\n"
          ],
          "name": "stdout"
        },
        {
          "output_type": "stream",
          "text": [
            "TRAINING Loss=0.06782558560371399 batch_id=468 TRAIN ACCURACY=98.28: 100%|██████████| 469/469 [00:13<00:00, 34.83it/s]\n",
            "  0%|          | 0/469 [00:00<?, ?it/s]"
          ],
          "name": "stderr"
        },
        {
          "output_type": "stream",
          "text": [
            "Number of Misclassifed Images =  79\n",
            "\n",
            "TEST: Average loss: 0.0276, Accuracy: 9921/10000 (99.21%)\n",
            "\n",
            "----------------------------------------------------------------------\n",
            "EPOCH # 5\n",
            "weight_decay 0\n",
            "Regularization_type L1\n",
            "BNType GBN\n"
          ],
          "name": "stdout"
        },
        {
          "output_type": "stream",
          "text": [
            "TRAINING Loss=0.02423318289220333 batch_id=468 TRAIN ACCURACY=98.31: 100%|██████████| 469/469 [00:13<00:00, 33.86it/s]\n",
            "  0%|          | 0/469 [00:00<?, ?it/s]"
          ],
          "name": "stderr"
        },
        {
          "output_type": "stream",
          "text": [
            "Number of Misclassifed Images =  73\n",
            "\n",
            "TEST: Average loss: 0.0246, Accuracy: 9927/10000 (99.27%)\n",
            "\n",
            "----------------------------------------------------------------------\n",
            "EPOCH # 6\n",
            "weight_decay 0\n",
            "Regularization_type L1\n",
            "BNType GBN\n"
          ],
          "name": "stdout"
        },
        {
          "output_type": "stream",
          "text": [
            "TRAINING Loss=0.039251212030649185 batch_id=468 TRAIN ACCURACY=98.44: 100%|██████████| 469/469 [00:13<00:00, 34.41it/s]\n",
            "  0%|          | 0/469 [00:00<?, ?it/s]"
          ],
          "name": "stderr"
        },
        {
          "output_type": "stream",
          "text": [
            "Number of Misclassifed Images =  93\n",
            "\n",
            "TEST: Average loss: 0.0313, Accuracy: 9907/10000 (99.07%)\n",
            "\n",
            "----------------------------------------------------------------------\n",
            "EPOCH # 7\n",
            "weight_decay 0\n",
            "Regularization_type L1\n",
            "BNType GBN\n"
          ],
          "name": "stdout"
        },
        {
          "output_type": "stream",
          "text": [
            "TRAINING Loss=0.05190885812044144 batch_id=468 TRAIN ACCURACY=98.55: 100%|██████████| 469/469 [00:13<00:00, 34.05it/s]\n",
            "  0%|          | 0/469 [00:00<?, ?it/s]"
          ],
          "name": "stderr"
        },
        {
          "output_type": "stream",
          "text": [
            "Number of Misclassifed Images =  61\n",
            "\n",
            "TEST: Average loss: 0.0238, Accuracy: 9939/10000 (99.39%)\n",
            "\n",
            "----------------------------------------------------------------------\n",
            "EPOCH # 8\n",
            "weight_decay 0\n",
            "Regularization_type L1\n",
            "BNType GBN\n"
          ],
          "name": "stdout"
        },
        {
          "output_type": "stream",
          "text": [
            "TRAINING Loss=0.03234227001667023 batch_id=468 TRAIN ACCURACY=98.69: 100%|██████████| 469/469 [00:13<00:00, 33.53it/s]\n",
            "  0%|          | 0/469 [00:00<?, ?it/s]"
          ],
          "name": "stderr"
        },
        {
          "output_type": "stream",
          "text": [
            "Number of Misclassifed Images =  71\n",
            "\n",
            "TEST: Average loss: 0.0242, Accuracy: 9929/10000 (99.29%)\n",
            "\n",
            "----------------------------------------------------------------------\n",
            "EPOCH # 9\n",
            "weight_decay 0\n",
            "Regularization_type L1\n",
            "BNType GBN\n"
          ],
          "name": "stdout"
        },
        {
          "output_type": "stream",
          "text": [
            "TRAINING Loss=0.03213895857334137 batch_id=468 TRAIN ACCURACY=98.73: 100%|██████████| 469/469 [00:13<00:00, 33.94it/s]\n",
            "  0%|          | 0/469 [00:00<?, ?it/s]"
          ],
          "name": "stderr"
        },
        {
          "output_type": "stream",
          "text": [
            "Number of Misclassifed Images =  66\n",
            "\n",
            "TEST: Average loss: 0.0248, Accuracy: 9934/10000 (99.34%)\n",
            "\n",
            "----------------------------------------------------------------------\n",
            "EPOCH # 10\n",
            "weight_decay 0\n",
            "Regularization_type L1\n",
            "BNType GBN\n"
          ],
          "name": "stdout"
        },
        {
          "output_type": "stream",
          "text": [
            "TRAINING Loss=0.06578736007213593 batch_id=468 TRAIN ACCURACY=98.82: 100%|██████████| 469/469 [00:13<00:00, 34.03it/s]\n",
            "  0%|          | 0/469 [00:00<?, ?it/s]"
          ],
          "name": "stderr"
        },
        {
          "output_type": "stream",
          "text": [
            "Number of Misclassifed Images =  69\n",
            "\n",
            "TEST: Average loss: 0.0235, Accuracy: 9931/10000 (99.31%)\n",
            "\n",
            "----------------------------------------------------------------------\n",
            "EPOCH # 11\n",
            "weight_decay 0\n",
            "Regularization_type L1\n",
            "BNType GBN\n"
          ],
          "name": "stdout"
        },
        {
          "output_type": "stream",
          "text": [
            "TRAINING Loss=0.019468994811177254 batch_id=468 TRAIN ACCURACY=98.84: 100%|██████████| 469/469 [00:14<00:00, 33.26it/s]\n",
            "  0%|          | 0/469 [00:00<?, ?it/s]"
          ],
          "name": "stderr"
        },
        {
          "output_type": "stream",
          "text": [
            "Number of Misclassifed Images =  66\n",
            "\n",
            "TEST: Average loss: 0.0238, Accuracy: 9934/10000 (99.34%)\n",
            "\n",
            "----------------------------------------------------------------------\n",
            "EPOCH # 12\n",
            "weight_decay 0\n",
            "Regularization_type L1\n",
            "BNType GBN\n"
          ],
          "name": "stdout"
        },
        {
          "output_type": "stream",
          "text": [
            "TRAINING Loss=0.02075526863336563 batch_id=468 TRAIN ACCURACY=98.84: 100%|██████████| 469/469 [00:13<00:00, 33.99it/s]\n",
            "  0%|          | 0/469 [00:00<?, ?it/s]"
          ],
          "name": "stderr"
        },
        {
          "output_type": "stream",
          "text": [
            "Number of Misclassifed Images =  66\n",
            "\n",
            "TEST: Average loss: 0.0228, Accuracy: 9934/10000 (99.34%)\n",
            "\n",
            "----------------------------------------------------------------------\n",
            "EPOCH # 13\n",
            "weight_decay 0\n",
            "Regularization_type L1\n",
            "BNType GBN\n"
          ],
          "name": "stdout"
        },
        {
          "output_type": "stream",
          "text": [
            "TRAINING Loss=0.08642865717411041 batch_id=468 TRAIN ACCURACY=98.83: 100%|██████████| 469/469 [00:13<00:00, 33.52it/s]\n",
            "  0%|          | 0/469 [00:00<?, ?it/s]"
          ],
          "name": "stderr"
        },
        {
          "output_type": "stream",
          "text": [
            "Number of Misclassifed Images =  74\n",
            "\n",
            "TEST: Average loss: 0.0237, Accuracy: 9926/10000 (99.26%)\n",
            "\n",
            "----------------------------------------------------------------------\n",
            "EPOCH # 14\n",
            "weight_decay 0\n",
            "Regularization_type L1\n",
            "BNType GBN\n"
          ],
          "name": "stdout"
        },
        {
          "output_type": "stream",
          "text": [
            "TRAINING Loss=0.0400918647646904 batch_id=468 TRAIN ACCURACY=98.92: 100%|██████████| 469/469 [00:13<00:00, 33.92it/s]\n",
            "  0%|          | 0/469 [00:00<?, ?it/s]"
          ],
          "name": "stderr"
        },
        {
          "output_type": "stream",
          "text": [
            "Number of Misclassifed Images =  68\n",
            "\n",
            "TEST: Average loss: 0.0237, Accuracy: 9932/10000 (99.32%)\n",
            "\n",
            "----------------------------------------------------------------------\n",
            "EPOCH # 15\n",
            "weight_decay 0\n",
            "Regularization_type L1\n",
            "BNType GBN\n"
          ],
          "name": "stdout"
        },
        {
          "output_type": "stream",
          "text": [
            "TRAINING Loss=0.010048226453363895 batch_id=468 TRAIN ACCURACY=99.05: 100%|██████████| 469/469 [00:14<00:00, 33.42it/s]\n",
            "  0%|          | 0/469 [00:00<?, ?it/s]"
          ],
          "name": "stderr"
        },
        {
          "output_type": "stream",
          "text": [
            "Number of Misclassifed Images =  69\n",
            "\n",
            "TEST: Average loss: 0.0230, Accuracy: 9931/10000 (99.31%)\n",
            "\n",
            "----------------------------------------------------------------------\n",
            "EPOCH # 16\n",
            "weight_decay 0\n",
            "Regularization_type L1\n",
            "BNType GBN\n"
          ],
          "name": "stdout"
        },
        {
          "output_type": "stream",
          "text": [
            "TRAINING Loss=0.028436841443181038 batch_id=468 TRAIN ACCURACY=98.95: 100%|██████████| 469/469 [00:14<00:00, 33.13it/s]\n",
            "  0%|          | 0/469 [00:00<?, ?it/s]"
          ],
          "name": "stderr"
        },
        {
          "output_type": "stream",
          "text": [
            "Number of Misclassifed Images =  68\n",
            "\n",
            "TEST: Average loss: 0.0210, Accuracy: 9932/10000 (99.32%)\n",
            "\n",
            "----------------------------------------------------------------------\n",
            "EPOCH # 17\n",
            "weight_decay 0\n",
            "Regularization_type L1\n",
            "BNType GBN\n"
          ],
          "name": "stdout"
        },
        {
          "output_type": "stream",
          "text": [
            "TRAINING Loss=0.02691715583205223 batch_id=468 TRAIN ACCURACY=98.98: 100%|██████████| 469/469 [00:14<00:00, 33.31it/s]\n",
            "  0%|          | 0/469 [00:00<?, ?it/s]"
          ],
          "name": "stderr"
        },
        {
          "output_type": "stream",
          "text": [
            "Number of Misclassifed Images =  60\n",
            "\n",
            "TEST: Average loss: 0.0200, Accuracy: 9940/10000 (99.40%)\n",
            "\n",
            "----------------------------------------------------------------------\n",
            "EPOCH # 18\n",
            "weight_decay 0\n",
            "Regularization_type L1\n",
            "BNType GBN\n"
          ],
          "name": "stdout"
        },
        {
          "output_type": "stream",
          "text": [
            "TRAINING Loss=0.007034310605376959 batch_id=468 TRAIN ACCURACY=99.00: 100%|██████████| 469/469 [00:14<00:00, 33.38it/s]\n",
            "  0%|          | 0/469 [00:00<?, ?it/s]"
          ],
          "name": "stderr"
        },
        {
          "output_type": "stream",
          "text": [
            "Number of Misclassifed Images =  65\n",
            "\n",
            "TEST: Average loss: 0.0213, Accuracy: 9935/10000 (99.35%)\n",
            "\n",
            "----------------------------------------------------------------------\n",
            "EPOCH # 19\n",
            "weight_decay 0\n",
            "Regularization_type L1\n",
            "BNType GBN\n"
          ],
          "name": "stdout"
        },
        {
          "output_type": "stream",
          "text": [
            "TRAINING Loss=0.08553626388311386 batch_id=468 TRAIN ACCURACY=99.02: 100%|██████████| 469/469 [00:14<00:00, 33.18it/s]\n",
            "  0%|          | 0/469 [00:00<?, ?it/s]"
          ],
          "name": "stderr"
        },
        {
          "output_type": "stream",
          "text": [
            "Number of Misclassifed Images =  61\n",
            "\n",
            "TEST: Average loss: 0.0203, Accuracy: 9939/10000 (99.39%)\n",
            "\n",
            "----------------------------------------------------------------------\n",
            "EPOCH # 20\n",
            "weight_decay 0\n",
            "Regularization_type L1\n",
            "BNType GBN\n"
          ],
          "name": "stdout"
        },
        {
          "output_type": "stream",
          "text": [
            "TRAINING Loss=0.0019069061381742358 batch_id=468 TRAIN ACCURACY=99.12: 100%|██████████| 469/469 [00:14<00:00, 32.39it/s]\n",
            "  0%|          | 0/469 [00:00<?, ?it/s]"
          ],
          "name": "stderr"
        },
        {
          "output_type": "stream",
          "text": [
            "Number of Misclassifed Images =  57\n",
            "\n",
            "TEST: Average loss: 0.0202, Accuracy: 9943/10000 (99.43%)\n",
            "\n",
            "----------------------------------------------------------------------\n",
            "EPOCH # 21\n",
            "weight_decay 0\n",
            "Regularization_type L1\n",
            "BNType GBN\n"
          ],
          "name": "stdout"
        },
        {
          "output_type": "stream",
          "text": [
            "TRAINING Loss=0.01322863344103098 batch_id=468 TRAIN ACCURACY=99.09: 100%|██████████| 469/469 [00:14<00:00, 32.51it/s]\n",
            "  0%|          | 0/469 [00:00<?, ?it/s]"
          ],
          "name": "stderr"
        },
        {
          "output_type": "stream",
          "text": [
            "Number of Misclassifed Images =  61\n",
            "\n",
            "TEST: Average loss: 0.0209, Accuracy: 9939/10000 (99.39%)\n",
            "\n",
            "----------------------------------------------------------------------\n",
            "EPOCH # 22\n",
            "weight_decay 0\n",
            "Regularization_type L1\n",
            "BNType GBN\n"
          ],
          "name": "stdout"
        },
        {
          "output_type": "stream",
          "text": [
            "TRAINING Loss=0.021494120359420776 batch_id=468 TRAIN ACCURACY=99.08: 100%|██████████| 469/469 [00:14<00:00, 32.98it/s]\n",
            "  0%|          | 0/469 [00:00<?, ?it/s]"
          ],
          "name": "stderr"
        },
        {
          "output_type": "stream",
          "text": [
            "Number of Misclassifed Images =  68\n",
            "\n",
            "TEST: Average loss: 0.0223, Accuracy: 9932/10000 (99.32%)\n",
            "\n",
            "----------------------------------------------------------------------\n",
            "EPOCH # 23\n",
            "weight_decay 0\n",
            "Regularization_type L1\n",
            "BNType GBN\n"
          ],
          "name": "stdout"
        },
        {
          "output_type": "stream",
          "text": [
            "TRAINING Loss=0.10663356631994247 batch_id=468 TRAIN ACCURACY=99.17: 100%|██████████| 469/469 [00:14<00:00, 33.34it/s]\n",
            "  0%|          | 0/469 [00:00<?, ?it/s]"
          ],
          "name": "stderr"
        },
        {
          "output_type": "stream",
          "text": [
            "Number of Misclassifed Images =  63\n",
            "\n",
            "TEST: Average loss: 0.0208, Accuracy: 9937/10000 (99.37%)\n",
            "\n",
            "----------------------------------------------------------------------\n",
            "EPOCH # 24\n",
            "weight_decay 0\n",
            "Regularization_type L1\n",
            "BNType GBN\n"
          ],
          "name": "stdout"
        },
        {
          "output_type": "stream",
          "text": [
            "TRAINING Loss=0.06984157860279083 batch_id=468 TRAIN ACCURACY=99.10: 100%|██████████| 469/469 [00:14<00:00, 32.40it/s]\n",
            "  0%|          | 0/469 [00:00<?, ?it/s]"
          ],
          "name": "stderr"
        },
        {
          "output_type": "stream",
          "text": [
            "Number of Misclassifed Images =  69\n",
            "\n",
            "TEST: Average loss: 0.0216, Accuracy: 9931/10000 (99.31%)\n",
            "\n",
            "----------------------------------------------------------------------\n",
            "Regualarization method L2\n",
            "BATCH NORMALIZATION TYPE? GBN\n",
            "output_channels:20\n",
            " Currently using Ghost Normalization \n",
            "GHOST NORM output_channels 20\n",
            "GhostBatchNorm CLASS 2\n",
            "output_channels:16\n",
            " Currently using Ghost Normalization \n",
            "GHOST NORM output_channels 16\n",
            "GhostBatchNorm CLASS 2\n",
            "output_channels:16\n",
            " Currently using Ghost Normalization \n",
            "GHOST NORM output_channels 16\n",
            "GhostBatchNorm CLASS 2\n",
            "output_channels:16\n",
            " Currently using Ghost Normalization \n",
            "GHOST NORM output_channels 16\n",
            "GhostBatchNorm CLASS 2\n",
            "output_channels:13\n",
            " Currently using Ghost Normalization \n",
            "GHOST NORM output_channels 13\n",
            "GhostBatchNorm CLASS 2\n",
            "----------------------------------------------------------------\n",
            "        Layer (type)               Output Shape         Param #\n",
            "================================================================\n",
            "            Conv2d-1           [-1, 20, 26, 26]             200\n",
            "    GhostBatchNorm-2           [-1, 20, 26, 26]              40\n",
            "           Dropout-3           [-1, 20, 26, 26]               0\n",
            "              ReLU-4           [-1, 20, 26, 26]               0\n",
            "            Conv2d-5           [-1, 16, 24, 24]           2,896\n",
            "    GhostBatchNorm-6           [-1, 16, 24, 24]              32\n",
            "           Dropout-7           [-1, 16, 24, 24]               0\n",
            "              ReLU-8           [-1, 16, 24, 24]               0\n",
            "         MaxPool2d-9           [-1, 16, 12, 12]               0\n",
            "           Conv2d-10           [-1, 16, 10, 10]           2,320\n",
            "   GhostBatchNorm-11           [-1, 16, 10, 10]              32\n",
            "          Dropout-12           [-1, 16, 10, 10]               0\n",
            "             ReLU-13           [-1, 16, 10, 10]               0\n",
            "        MaxPool2d-14             [-1, 16, 5, 5]               0\n",
            "           Conv2d-15             [-1, 16, 3, 3]           2,320\n",
            "   GhostBatchNorm-16             [-1, 16, 3, 3]              32\n",
            "          Dropout-17             [-1, 16, 3, 3]               0\n",
            "             ReLU-18             [-1, 16, 3, 3]               0\n",
            "           Conv2d-19             [-1, 13, 1, 1]           1,885\n",
            "   GhostBatchNorm-20             [-1, 13, 1, 1]              26\n",
            "          Dropout-21             [-1, 13, 1, 1]               0\n",
            "             ReLU-22             [-1, 13, 1, 1]               0\n",
            "           Conv2d-23             [-1, 10, 1, 1]             140\n",
            "================================================================\n",
            "Total params: 9,923\n",
            "Trainable params: 9,923\n",
            "Non-trainable params: 0\n",
            "----------------------------------------------------------------\n",
            "Input size (MB): 0.00\n",
            "Forward/backward pass size (MB): 0.77\n",
            "Params size (MB): 0.04\n",
            "Estimated Total Size (MB): 0.81\n",
            "----------------------------------------------------------------\n",
            "Regularization?? 0\n",
            "EPOCH # 0\n",
            "weight_decay 0.01\n",
            "Regularization_type L2\n",
            "BNType GBN\n"
          ],
          "name": "stdout"
        },
        {
          "output_type": "stream",
          "text": [
            "TRAINING Loss=0.19130589067935944 batch_id=468 TRAIN ACCURACY=88.45: 100%|██████████| 469/469 [00:12<00:00, 38.74it/s]\n",
            "  0%|          | 0/469 [00:00<?, ?it/s]"
          ],
          "name": "stderr"
        },
        {
          "output_type": "stream",
          "text": [
            "Number of Misclassifed Images =  253\n",
            "\n",
            "TEST: Average loss: 0.1565, Accuracy: 9747/10000 (97.47%)\n",
            "\n",
            "----------------------------------------------------------------------\n",
            "EPOCH # 1\n",
            "weight_decay 0.01\n",
            "Regularization_type L2\n",
            "BNType GBN\n"
          ],
          "name": "stdout"
        },
        {
          "output_type": "stream",
          "text": [
            "TRAINING Loss=0.15412797033786774 batch_id=468 TRAIN ACCURACY=96.79: 100%|██████████| 469/469 [00:12<00:00, 38.63it/s]\n",
            "  0%|          | 0/469 [00:00<?, ?it/s]"
          ],
          "name": "stderr"
        },
        {
          "output_type": "stream",
          "text": [
            "Number of Misclassifed Images =  170\n",
            "\n",
            "TEST: Average loss: 0.1145, Accuracy: 9830/10000 (98.30%)\n",
            "\n",
            "----------------------------------------------------------------------\n",
            "EPOCH # 2\n",
            "weight_decay 0.01\n",
            "Regularization_type L2\n",
            "BNType GBN\n"
          ],
          "name": "stdout"
        },
        {
          "output_type": "stream",
          "text": [
            "TRAINING Loss=0.1705392748117447 batch_id=468 TRAIN ACCURACY=97.74: 100%|██████████| 469/469 [00:11<00:00, 39.19it/s]\n",
            "  0%|          | 0/469 [00:00<?, ?it/s]"
          ],
          "name": "stderr"
        },
        {
          "output_type": "stream",
          "text": [
            "Number of Misclassifed Images =  110\n",
            "\n",
            "TEST: Average loss: 0.0828, Accuracy: 9890/10000 (98.90%)\n",
            "\n",
            "----------------------------------------------------------------------\n",
            "EPOCH # 3\n",
            "weight_decay 0.01\n",
            "Regularization_type L2\n",
            "BNType GBN\n"
          ],
          "name": "stdout"
        },
        {
          "output_type": "stream",
          "text": [
            "TRAINING Loss=0.13087159395217896 batch_id=468 TRAIN ACCURACY=97.89: 100%|██████████| 469/469 [00:12<00:00, 38.99it/s]\n",
            "  0%|          | 0/469 [00:00<?, ?it/s]"
          ],
          "name": "stderr"
        },
        {
          "output_type": "stream",
          "text": [
            "Number of Misclassifed Images =  108\n",
            "\n",
            "TEST: Average loss: 0.0938, Accuracy: 9892/10000 (98.92%)\n",
            "\n",
            "----------------------------------------------------------------------\n",
            "EPOCH # 4\n",
            "weight_decay 0.01\n",
            "Regularization_type L2\n",
            "BNType GBN\n"
          ],
          "name": "stdout"
        },
        {
          "output_type": "stream",
          "text": [
            "TRAINING Loss=0.09424713999032974 batch_id=468 TRAIN ACCURACY=98.14: 100%|██████████| 469/469 [00:11<00:00, 39.27it/s]\n",
            "  0%|          | 0/469 [00:00<?, ?it/s]"
          ],
          "name": "stderr"
        },
        {
          "output_type": "stream",
          "text": [
            "Number of Misclassifed Images =  124\n",
            "\n",
            "TEST: Average loss: 0.0976, Accuracy: 9876/10000 (98.76%)\n",
            "\n",
            "----------------------------------------------------------------------\n",
            "EPOCH # 5\n",
            "weight_decay 0.01\n",
            "Regularization_type L2\n",
            "BNType GBN\n"
          ],
          "name": "stdout"
        },
        {
          "output_type": "stream",
          "text": [
            "TRAINING Loss=0.14000679552555084 batch_id=468 TRAIN ACCURACY=98.00: 100%|██████████| 469/469 [00:12<00:00, 39.03it/s]\n",
            "  0%|          | 0/469 [00:00<?, ?it/s]"
          ],
          "name": "stderr"
        },
        {
          "output_type": "stream",
          "text": [
            "Number of Misclassifed Images =  108\n",
            "\n",
            "TEST: Average loss: 0.0830, Accuracy: 9892/10000 (98.92%)\n",
            "\n",
            "----------------------------------------------------------------------\n",
            "EPOCH # 6\n",
            "weight_decay 0.01\n",
            "Regularization_type L2\n",
            "BNType GBN\n"
          ],
          "name": "stdout"
        },
        {
          "output_type": "stream",
          "text": [
            "TRAINING Loss=0.10986550897359848 batch_id=468 TRAIN ACCURACY=98.17: 100%|██████████| 469/469 [00:11<00:00, 39.31it/s]\n",
            "  0%|          | 0/469 [00:00<?, ?it/s]"
          ],
          "name": "stderr"
        },
        {
          "output_type": "stream",
          "text": [
            "Number of Misclassifed Images =  137\n",
            "\n",
            "TEST: Average loss: 0.0965, Accuracy: 9863/10000 (98.63%)\n",
            "\n",
            "----------------------------------------------------------------------\n",
            "EPOCH # 7\n",
            "weight_decay 0.01\n",
            "Regularization_type L2\n",
            "BNType GBN\n"
          ],
          "name": "stdout"
        },
        {
          "output_type": "stream",
          "text": [
            "TRAINING Loss=0.12869878113269806 batch_id=468 TRAIN ACCURACY=98.21: 100%|██████████| 469/469 [00:12<00:00, 38.95it/s]\n",
            "  0%|          | 0/469 [00:00<?, ?it/s]"
          ],
          "name": "stderr"
        },
        {
          "output_type": "stream",
          "text": [
            "Number of Misclassifed Images =  116\n",
            "\n",
            "TEST: Average loss: 0.0872, Accuracy: 9884/10000 (98.84%)\n",
            "\n",
            "----------------------------------------------------------------------\n",
            "EPOCH # 8\n",
            "weight_decay 0.01\n",
            "Regularization_type L2\n",
            "BNType GBN\n"
          ],
          "name": "stdout"
        },
        {
          "output_type": "stream",
          "text": [
            "TRAINING Loss=0.27749350666999817 batch_id=468 TRAIN ACCURACY=98.25: 100%|██████████| 469/469 [00:11<00:00, 39.65it/s]\n",
            "  0%|          | 0/469 [00:00<?, ?it/s]"
          ],
          "name": "stderr"
        },
        {
          "output_type": "stream",
          "text": [
            "Number of Misclassifed Images =  109\n",
            "\n",
            "TEST: Average loss: 0.0780, Accuracy: 9891/10000 (98.91%)\n",
            "\n",
            "----------------------------------------------------------------------\n",
            "EPOCH # 9\n",
            "weight_decay 0.01\n",
            "Regularization_type L2\n",
            "BNType GBN\n"
          ],
          "name": "stdout"
        },
        {
          "output_type": "stream",
          "text": [
            "TRAINING Loss=0.06669557839632034 batch_id=468 TRAIN ACCURACY=98.31: 100%|██████████| 469/469 [00:11<00:00, 39.55it/s]\n",
            "  0%|          | 0/469 [00:00<?, ?it/s]"
          ],
          "name": "stderr"
        },
        {
          "output_type": "stream",
          "text": [
            "Number of Misclassifed Images =  121\n",
            "\n",
            "TEST: Average loss: 0.0830, Accuracy: 9879/10000 (98.79%)\n",
            "\n",
            "----------------------------------------------------------------------\n",
            "EPOCH # 10\n",
            "weight_decay 0.01\n",
            "Regularization_type L2\n",
            "BNType GBN\n"
          ],
          "name": "stdout"
        },
        {
          "output_type": "stream",
          "text": [
            "TRAINING Loss=0.13471467792987823 batch_id=468 TRAIN ACCURACY=98.30: 100%|██████████| 469/469 [00:11<00:00, 39.95it/s]\n",
            "  0%|          | 0/469 [00:00<?, ?it/s]"
          ],
          "name": "stderr"
        },
        {
          "output_type": "stream",
          "text": [
            "Number of Misclassifed Images =  107\n",
            "\n",
            "TEST: Average loss: 0.0827, Accuracy: 9893/10000 (98.93%)\n",
            "\n",
            "----------------------------------------------------------------------\n",
            "EPOCH # 11\n",
            "weight_decay 0.01\n",
            "Regularization_type L2\n",
            "BNType GBN\n"
          ],
          "name": "stdout"
        },
        {
          "output_type": "stream",
          "text": [
            "TRAINING Loss=0.10778883844614029 batch_id=468 TRAIN ACCURACY=98.27: 100%|██████████| 469/469 [00:11<00:00, 40.18it/s]\n",
            "  0%|          | 0/469 [00:00<?, ?it/s]"
          ],
          "name": "stderr"
        },
        {
          "output_type": "stream",
          "text": [
            "Number of Misclassifed Images =  100\n",
            "\n",
            "TEST: Average loss: 0.0778, Accuracy: 9900/10000 (99.00%)\n",
            "\n",
            "----------------------------------------------------------------------\n",
            "EPOCH # 12\n",
            "weight_decay 0.01\n",
            "Regularization_type L2\n",
            "BNType GBN\n"
          ],
          "name": "stdout"
        },
        {
          "output_type": "stream",
          "text": [
            "TRAINING Loss=0.1276761144399643 batch_id=468 TRAIN ACCURACY=98.26: 100%|██████████| 469/469 [00:11<00:00, 40.05it/s]\n",
            "  0%|          | 0/469 [00:00<?, ?it/s]"
          ],
          "name": "stderr"
        },
        {
          "output_type": "stream",
          "text": [
            "Number of Misclassifed Images =  110\n",
            "\n",
            "TEST: Average loss: 0.0732, Accuracy: 9890/10000 (98.90%)\n",
            "\n",
            "----------------------------------------------------------------------\n",
            "EPOCH # 13\n",
            "weight_decay 0.01\n",
            "Regularization_type L2\n",
            "BNType GBN\n"
          ],
          "name": "stdout"
        },
        {
          "output_type": "stream",
          "text": [
            "TRAINING Loss=0.12051957845687866 batch_id=468 TRAIN ACCURACY=98.30: 100%|██████████| 469/469 [00:12<00:00, 39.02it/s]\n",
            "  0%|          | 0/469 [00:00<?, ?it/s]"
          ],
          "name": "stderr"
        },
        {
          "output_type": "stream",
          "text": [
            "Number of Misclassifed Images =  129\n",
            "\n",
            "TEST: Average loss: 0.0766, Accuracy: 9871/10000 (98.71%)\n",
            "\n",
            "----------------------------------------------------------------------\n",
            "EPOCH # 14\n",
            "weight_decay 0.01\n",
            "Regularization_type L2\n",
            "BNType GBN\n"
          ],
          "name": "stdout"
        },
        {
          "output_type": "stream",
          "text": [
            "TRAINING Loss=0.11877142637968063 batch_id=468 TRAIN ACCURACY=98.35: 100%|██████████| 469/469 [00:11<00:00, 39.51it/s]\n",
            "  0%|          | 0/469 [00:00<?, ?it/s]"
          ],
          "name": "stderr"
        },
        {
          "output_type": "stream",
          "text": [
            "Number of Misclassifed Images =  117\n",
            "\n",
            "TEST: Average loss: 0.0871, Accuracy: 9883/10000 (98.83%)\n",
            "\n",
            "----------------------------------------------------------------------\n",
            "EPOCH # 15\n",
            "weight_decay 0.01\n",
            "Regularization_type L2\n",
            "BNType GBN\n"
          ],
          "name": "stdout"
        },
        {
          "output_type": "stream",
          "text": [
            "TRAINING Loss=0.09921620041131973 batch_id=468 TRAIN ACCURACY=98.36: 100%|██████████| 469/469 [00:11<00:00, 39.62it/s]\n",
            "  0%|          | 0/469 [00:00<?, ?it/s]"
          ],
          "name": "stderr"
        },
        {
          "output_type": "stream",
          "text": [
            "Number of Misclassifed Images =  107\n",
            "\n",
            "TEST: Average loss: 0.0741, Accuracy: 9893/10000 (98.93%)\n",
            "\n",
            "----------------------------------------------------------------------\n",
            "EPOCH # 16\n",
            "weight_decay 0.01\n",
            "Regularization_type L2\n",
            "BNType GBN\n"
          ],
          "name": "stdout"
        },
        {
          "output_type": "stream",
          "text": [
            "TRAINING Loss=0.0701231136918068 batch_id=468 TRAIN ACCURACY=98.34: 100%|██████████| 469/469 [00:11<00:00, 39.72it/s]\n",
            "  0%|          | 0/469 [00:00<?, ?it/s]"
          ],
          "name": "stderr"
        },
        {
          "output_type": "stream",
          "text": [
            "Number of Misclassifed Images =  109\n",
            "\n",
            "TEST: Average loss: 0.0761, Accuracy: 9891/10000 (98.91%)\n",
            "\n",
            "----------------------------------------------------------------------\n",
            "EPOCH # 17\n",
            "weight_decay 0.01\n",
            "Regularization_type L2\n",
            "BNType GBN\n"
          ],
          "name": "stdout"
        },
        {
          "output_type": "stream",
          "text": [
            "TRAINING Loss=0.11024060100317001 batch_id=468 TRAIN ACCURACY=98.41: 100%|██████████| 469/469 [00:12<00:00, 38.94it/s]\n",
            "  0%|          | 0/469 [00:00<?, ?it/s]"
          ],
          "name": "stderr"
        },
        {
          "output_type": "stream",
          "text": [
            "Number of Misclassifed Images =  106\n",
            "\n",
            "TEST: Average loss: 0.0729, Accuracy: 9894/10000 (98.94%)\n",
            "\n",
            "----------------------------------------------------------------------\n",
            "EPOCH # 18\n",
            "weight_decay 0.01\n",
            "Regularization_type L2\n",
            "BNType GBN\n"
          ],
          "name": "stdout"
        },
        {
          "output_type": "stream",
          "text": [
            "TRAINING Loss=0.14883603155612946 batch_id=468 TRAIN ACCURACY=98.45: 100%|██████████| 469/469 [00:11<00:00, 39.67it/s]\n",
            "  0%|          | 0/469 [00:00<?, ?it/s]"
          ],
          "name": "stderr"
        },
        {
          "output_type": "stream",
          "text": [
            "Number of Misclassifed Images =  137\n",
            "\n",
            "TEST: Average loss: 0.1009, Accuracy: 9863/10000 (98.63%)\n",
            "\n",
            "----------------------------------------------------------------------\n",
            "EPOCH # 19\n",
            "weight_decay 0.01\n",
            "Regularization_type L2\n",
            "BNType GBN\n"
          ],
          "name": "stdout"
        },
        {
          "output_type": "stream",
          "text": [
            "TRAINING Loss=0.09431084990501404 batch_id=468 TRAIN ACCURACY=98.40: 100%|██████████| 469/469 [00:11<00:00, 39.46it/s]\n",
            "  0%|          | 0/469 [00:00<?, ?it/s]"
          ],
          "name": "stderr"
        },
        {
          "output_type": "stream",
          "text": [
            "Number of Misclassifed Images =  105\n",
            "\n",
            "TEST: Average loss: 0.0773, Accuracy: 9895/10000 (98.95%)\n",
            "\n",
            "----------------------------------------------------------------------\n",
            "EPOCH # 20\n",
            "weight_decay 0.01\n",
            "Regularization_type L2\n",
            "BNType GBN\n"
          ],
          "name": "stdout"
        },
        {
          "output_type": "stream",
          "text": [
            "TRAINING Loss=0.1007951870560646 batch_id=468 TRAIN ACCURACY=98.39: 100%|██████████| 469/469 [00:11<00:00, 40.27it/s]\n",
            "  0%|          | 0/469 [00:00<?, ?it/s]"
          ],
          "name": "stderr"
        },
        {
          "output_type": "stream",
          "text": [
            "Number of Misclassifed Images =  143\n",
            "\n",
            "TEST: Average loss: 0.0837, Accuracy: 9857/10000 (98.57%)\n",
            "\n",
            "----------------------------------------------------------------------\n",
            "EPOCH # 21\n",
            "weight_decay 0.01\n",
            "Regularization_type L2\n",
            "BNType GBN\n"
          ],
          "name": "stdout"
        },
        {
          "output_type": "stream",
          "text": [
            "TRAINING Loss=0.12131661176681519 batch_id=468 TRAIN ACCURACY=98.42: 100%|██████████| 469/469 [00:11<00:00, 40.03it/s]\n",
            "  0%|          | 0/469 [00:00<?, ?it/s]"
          ],
          "name": "stderr"
        },
        {
          "output_type": "stream",
          "text": [
            "Number of Misclassifed Images =  105\n",
            "\n",
            "TEST: Average loss: 0.0697, Accuracy: 9895/10000 (98.95%)\n",
            "\n",
            "----------------------------------------------------------------------\n",
            "EPOCH # 22\n",
            "weight_decay 0.01\n",
            "Regularization_type L2\n",
            "BNType GBN\n"
          ],
          "name": "stdout"
        },
        {
          "output_type": "stream",
          "text": [
            "TRAINING Loss=0.15301738679409027 batch_id=468 TRAIN ACCURACY=98.41: 100%|██████████| 469/469 [00:11<00:00, 40.36it/s]\n",
            "  0%|          | 0/469 [00:00<?, ?it/s]"
          ],
          "name": "stderr"
        },
        {
          "output_type": "stream",
          "text": [
            "Number of Misclassifed Images =  110\n",
            "\n",
            "TEST: Average loss: 0.0724, Accuracy: 9890/10000 (98.90%)\n",
            "\n",
            "----------------------------------------------------------------------\n",
            "EPOCH # 23\n",
            "weight_decay 0.01\n",
            "Regularization_type L2\n",
            "BNType GBN\n"
          ],
          "name": "stdout"
        },
        {
          "output_type": "stream",
          "text": [
            "TRAINING Loss=0.12196897715330124 batch_id=468 TRAIN ACCURACY=98.51: 100%|██████████| 469/469 [00:11<00:00, 40.61it/s]\n",
            "  0%|          | 0/469 [00:00<?, ?it/s]"
          ],
          "name": "stderr"
        },
        {
          "output_type": "stream",
          "text": [
            "Number of Misclassifed Images =  98\n",
            "\n",
            "TEST: Average loss: 0.0742, Accuracy: 9902/10000 (99.02%)\n",
            "\n",
            "----------------------------------------------------------------------\n",
            "EPOCH # 24\n",
            "weight_decay 0.01\n",
            "Regularization_type L2\n",
            "BNType GBN\n"
          ],
          "name": "stdout"
        },
        {
          "output_type": "stream",
          "text": [
            "TRAINING Loss=0.12749649584293365 batch_id=468 TRAIN ACCURACY=98.54: 100%|██████████| 469/469 [00:11<00:00, 40.30it/s]\n",
            "  0%|          | 0/469 [00:00<?, ?it/s]"
          ],
          "name": "stderr"
        },
        {
          "output_type": "stream",
          "text": [
            "Number of Misclassifed Images =  79\n",
            "\n",
            "TEST: Average loss: 0.0675, Accuracy: 9921/10000 (99.21%)\n",
            "\n",
            "----------------------------------------------------------------------\n",
            "Regualarization method L1L2\n",
            "BATCH NORMALIZATION TYPE? GBN\n",
            "output_channels:20\n",
            " Currently using Ghost Normalization \n",
            "GHOST NORM output_channels 20\n",
            "GhostBatchNorm CLASS 2\n",
            "output_channels:16\n",
            " Currently using Ghost Normalization \n",
            "GHOST NORM output_channels 16\n",
            "GhostBatchNorm CLASS 2\n",
            "output_channels:16\n",
            " Currently using Ghost Normalization \n",
            "GHOST NORM output_channels 16\n",
            "GhostBatchNorm CLASS 2\n",
            "output_channels:16\n",
            " Currently using Ghost Normalization \n",
            "GHOST NORM output_channels 16\n",
            "GhostBatchNorm CLASS 2\n",
            "output_channels:13\n",
            " Currently using Ghost Normalization \n",
            "GHOST NORM output_channels 13\n",
            "GhostBatchNorm CLASS 2\n",
            "----------------------------------------------------------------\n",
            "        Layer (type)               Output Shape         Param #\n",
            "================================================================\n",
            "            Conv2d-1           [-1, 20, 26, 26]             200\n",
            "    GhostBatchNorm-2           [-1, 20, 26, 26]              40\n",
            "           Dropout-3           [-1, 20, 26, 26]               0\n",
            "              ReLU-4           [-1, 20, 26, 26]               0\n",
            "            Conv2d-5           [-1, 16, 24, 24]           2,896\n",
            "    GhostBatchNorm-6           [-1, 16, 24, 24]              32\n",
            "           Dropout-7           [-1, 16, 24, 24]               0\n",
            "              ReLU-8           [-1, 16, 24, 24]               0\n",
            "         MaxPool2d-9           [-1, 16, 12, 12]               0\n",
            "           Conv2d-10           [-1, 16, 10, 10]           2,320\n",
            "   GhostBatchNorm-11           [-1, 16, 10, 10]              32\n",
            "          Dropout-12           [-1, 16, 10, 10]               0\n",
            "             ReLU-13           [-1, 16, 10, 10]               0\n",
            "        MaxPool2d-14             [-1, 16, 5, 5]               0\n",
            "           Conv2d-15             [-1, 16, 3, 3]           2,320\n",
            "   GhostBatchNorm-16             [-1, 16, 3, 3]              32\n",
            "          Dropout-17             [-1, 16, 3, 3]               0\n",
            "             ReLU-18             [-1, 16, 3, 3]               0\n",
            "           Conv2d-19             [-1, 13, 1, 1]           1,885\n",
            "   GhostBatchNorm-20             [-1, 13, 1, 1]              26\n",
            "          Dropout-21             [-1, 13, 1, 1]               0\n",
            "             ReLU-22             [-1, 13, 1, 1]               0\n",
            "           Conv2d-23             [-1, 10, 1, 1]             140\n",
            "================================================================\n",
            "Total params: 9,923\n",
            "Trainable params: 9,923\n",
            "Non-trainable params: 0\n",
            "----------------------------------------------------------------\n",
            "Input size (MB): 0.00\n",
            "Forward/backward pass size (MB): 0.77\n",
            "Params size (MB): 0.04\n",
            "Estimated Total Size (MB): 0.81\n",
            "----------------------------------------------------------------\n",
            "Regularization?? 0\n",
            "EPOCH # 0\n",
            "weight_decay 0.01\n",
            "Regularization_type L1L2\n",
            "BNType GBN\n"
          ],
          "name": "stdout"
        },
        {
          "output_type": "stream",
          "text": [
            "TRAINING Loss=0.12989993393421173 batch_id=468 TRAIN ACCURACY=89.43: 100%|██████████| 469/469 [00:13<00:00, 33.54it/s]\n",
            "  0%|          | 0/469 [00:00<?, ?it/s]"
          ],
          "name": "stderr"
        },
        {
          "output_type": "stream",
          "text": [
            "Number of Misclassifed Images =  260\n",
            "\n",
            "TEST: Average loss: 0.1513, Accuracy: 9740/10000 (97.40%)\n",
            "\n",
            "----------------------------------------------------------------------\n",
            "EPOCH # 1\n",
            "weight_decay 0.01\n",
            "Regularization_type L1L2\n",
            "BNType GBN\n"
          ],
          "name": "stdout"
        },
        {
          "output_type": "stream",
          "text": [
            "TRAINING Loss=0.15501877665519714 batch_id=468 TRAIN ACCURACY=97.04: 100%|██████████| 469/469 [00:13<00:00, 33.72it/s]\n",
            "  0%|          | 0/469 [00:00<?, ?it/s]"
          ],
          "name": "stderr"
        },
        {
          "output_type": "stream",
          "text": [
            "Number of Misclassifed Images =  133\n",
            "\n",
            "TEST: Average loss: 0.1117, Accuracy: 9867/10000 (98.67%)\n",
            "\n",
            "----------------------------------------------------------------------\n",
            "EPOCH # 2\n",
            "weight_decay 0.01\n",
            "Regularization_type L1L2\n",
            "BNType GBN\n"
          ],
          "name": "stdout"
        },
        {
          "output_type": "stream",
          "text": [
            "TRAINING Loss=0.1484914869070053 batch_id=468 TRAIN ACCURACY=97.70: 100%|██████████| 469/469 [00:13<00:00, 33.61it/s]\n",
            "  0%|          | 0/469 [00:00<?, ?it/s]"
          ],
          "name": "stderr"
        },
        {
          "output_type": "stream",
          "text": [
            "Number of Misclassifed Images =  122\n",
            "\n",
            "TEST: Average loss: 0.0815, Accuracy: 9878/10000 (98.78%)\n",
            "\n",
            "----------------------------------------------------------------------\n",
            "EPOCH # 3\n",
            "weight_decay 0.01\n",
            "Regularization_type L1L2\n",
            "BNType GBN\n"
          ],
          "name": "stdout"
        },
        {
          "output_type": "stream",
          "text": [
            "TRAINING Loss=0.1261102706193924 batch_id=468 TRAIN ACCURACY=97.81: 100%|██████████| 469/469 [00:13<00:00, 34.32it/s]\n",
            "  0%|          | 0/469 [00:00<?, ?it/s]"
          ],
          "name": "stderr"
        },
        {
          "output_type": "stream",
          "text": [
            "Number of Misclassifed Images =  97\n",
            "\n",
            "TEST: Average loss: 0.0767, Accuracy: 9903/10000 (99.03%)\n",
            "\n",
            "----------------------------------------------------------------------\n",
            "EPOCH # 4\n",
            "weight_decay 0.01\n",
            "Regularization_type L1L2\n",
            "BNType GBN\n"
          ],
          "name": "stdout"
        },
        {
          "output_type": "stream",
          "text": [
            "TRAINING Loss=0.11578298360109329 batch_id=468 TRAIN ACCURACY=97.95: 100%|██████████| 469/469 [00:13<00:00, 34.09it/s]\n",
            "  0%|          | 0/469 [00:00<?, ?it/s]"
          ],
          "name": "stderr"
        },
        {
          "output_type": "stream",
          "text": [
            "Number of Misclassifed Images =  108\n",
            "\n",
            "TEST: Average loss: 0.0820, Accuracy: 9892/10000 (98.92%)\n",
            "\n",
            "----------------------------------------------------------------------\n",
            "EPOCH # 5\n",
            "weight_decay 0.01\n",
            "Regularization_type L1L2\n",
            "BNType GBN\n"
          ],
          "name": "stdout"
        },
        {
          "output_type": "stream",
          "text": [
            "TRAINING Loss=0.18063844740390778 batch_id=468 TRAIN ACCURACY=98.01: 100%|██████████| 469/469 [00:14<00:00, 33.42it/s]\n",
            "  0%|          | 0/469 [00:00<?, ?it/s]"
          ],
          "name": "stderr"
        },
        {
          "output_type": "stream",
          "text": [
            "Number of Misclassifed Images =  138\n",
            "\n",
            "TEST: Average loss: 0.0842, Accuracy: 9862/10000 (98.62%)\n",
            "\n",
            "----------------------------------------------------------------------\n",
            "EPOCH # 6\n",
            "weight_decay 0.01\n",
            "Regularization_type L1L2\n",
            "BNType GBN\n"
          ],
          "name": "stdout"
        },
        {
          "output_type": "stream",
          "text": [
            "TRAINING Loss=0.15374206006526947 batch_id=468 TRAIN ACCURACY=98.20: 100%|██████████| 469/469 [00:13<00:00, 34.20it/s]\n",
            "  0%|          | 0/469 [00:00<?, ?it/s]"
          ],
          "name": "stderr"
        },
        {
          "output_type": "stream",
          "text": [
            "Number of Misclassifed Images =  134\n",
            "\n",
            "TEST: Average loss: 0.0881, Accuracy: 9866/10000 (98.66%)\n",
            "\n",
            "----------------------------------------------------------------------\n",
            "EPOCH # 7\n",
            "weight_decay 0.01\n",
            "Regularization_type L1L2\n",
            "BNType GBN\n"
          ],
          "name": "stdout"
        },
        {
          "output_type": "stream",
          "text": [
            "TRAINING Loss=0.08980678021907806 batch_id=468 TRAIN ACCURACY=98.14: 100%|██████████| 469/469 [00:13<00:00, 34.20it/s]\n",
            "  0%|          | 0/469 [00:00<?, ?it/s]"
          ],
          "name": "stderr"
        },
        {
          "output_type": "stream",
          "text": [
            "Number of Misclassifed Images =  120\n",
            "\n",
            "TEST: Average loss: 0.0777, Accuracy: 9880/10000 (98.80%)\n",
            "\n",
            "----------------------------------------------------------------------\n",
            "EPOCH # 8\n",
            "weight_decay 0.01\n",
            "Regularization_type L1L2\n",
            "BNType GBN\n"
          ],
          "name": "stdout"
        },
        {
          "output_type": "stream",
          "text": [
            "TRAINING Loss=0.13515500724315643 batch_id=468 TRAIN ACCURACY=98.18: 100%|██████████| 469/469 [00:13<00:00, 33.93it/s]\n",
            "  0%|          | 0/469 [00:00<?, ?it/s]"
          ],
          "name": "stderr"
        },
        {
          "output_type": "stream",
          "text": [
            "Number of Misclassifed Images =  128\n",
            "\n",
            "TEST: Average loss: 0.0807, Accuracy: 9872/10000 (98.72%)\n",
            "\n",
            "----------------------------------------------------------------------\n",
            "EPOCH # 9\n",
            "weight_decay 0.01\n",
            "Regularization_type L1L2\n",
            "BNType GBN\n"
          ],
          "name": "stdout"
        },
        {
          "output_type": "stream",
          "text": [
            "TRAINING Loss=0.11813698709011078 batch_id=468 TRAIN ACCURACY=98.30: 100%|██████████| 469/469 [00:13<00:00, 33.52it/s]\n",
            "  0%|          | 0/469 [00:00<?, ?it/s]"
          ],
          "name": "stderr"
        },
        {
          "output_type": "stream",
          "text": [
            "Number of Misclassifed Images =  139\n",
            "\n",
            "TEST: Average loss: 0.0829, Accuracy: 9861/10000 (98.61%)\n",
            "\n",
            "----------------------------------------------------------------------\n",
            "EPOCH # 10\n",
            "weight_decay 0.01\n",
            "Regularization_type L1L2\n",
            "BNType GBN\n"
          ],
          "name": "stdout"
        },
        {
          "output_type": "stream",
          "text": [
            "TRAINING Loss=0.08799624443054199 batch_id=468 TRAIN ACCURACY=98.28: 100%|██████████| 469/469 [00:14<00:00, 33.30it/s]\n",
            "  0%|          | 0/469 [00:00<?, ?it/s]"
          ],
          "name": "stderr"
        },
        {
          "output_type": "stream",
          "text": [
            "Number of Misclassifed Images =  117\n",
            "\n",
            "TEST: Average loss: 0.0794, Accuracy: 9883/10000 (98.83%)\n",
            "\n",
            "----------------------------------------------------------------------\n",
            "EPOCH # 11\n",
            "weight_decay 0.01\n",
            "Regularization_type L1L2\n",
            "BNType GBN\n"
          ],
          "name": "stdout"
        },
        {
          "output_type": "stream",
          "text": [
            "TRAINING Loss=0.1272745579481125 batch_id=468 TRAIN ACCURACY=98.32: 100%|██████████| 469/469 [00:13<00:00, 33.77it/s]\n",
            "  0%|          | 0/469 [00:00<?, ?it/s]"
          ],
          "name": "stderr"
        },
        {
          "output_type": "stream",
          "text": [
            "Number of Misclassifed Images =  105\n",
            "\n",
            "TEST: Average loss: 0.0811, Accuracy: 9895/10000 (98.95%)\n",
            "\n",
            "----------------------------------------------------------------------\n",
            "EPOCH # 12\n",
            "weight_decay 0.01\n",
            "Regularization_type L1L2\n",
            "BNType GBN\n"
          ],
          "name": "stdout"
        },
        {
          "output_type": "stream",
          "text": [
            "TRAINING Loss=0.12117264419794083 batch_id=468 TRAIN ACCURACY=98.18: 100%|██████████| 469/469 [00:14<00:00, 33.30it/s]\n",
            "  0%|          | 0/469 [00:00<?, ?it/s]"
          ],
          "name": "stderr"
        },
        {
          "output_type": "stream",
          "text": [
            "Number of Misclassifed Images =  89\n",
            "\n",
            "TEST: Average loss: 0.0705, Accuracy: 9911/10000 (99.11%)\n",
            "\n",
            "----------------------------------------------------------------------\n",
            "EPOCH # 13\n",
            "weight_decay 0.01\n",
            "Regularization_type L1L2\n",
            "BNType GBN\n"
          ],
          "name": "stdout"
        },
        {
          "output_type": "stream",
          "text": [
            "TRAINING Loss=0.10733862966299057 batch_id=468 TRAIN ACCURACY=98.33: 100%|██████████| 469/469 [00:14<00:00, 32.51it/s]\n",
            "  0%|          | 0/469 [00:00<?, ?it/s]"
          ],
          "name": "stderr"
        },
        {
          "output_type": "stream",
          "text": [
            "Number of Misclassifed Images =  105\n",
            "\n",
            "TEST: Average loss: 0.0802, Accuracy: 9895/10000 (98.95%)\n",
            "\n",
            "----------------------------------------------------------------------\n",
            "EPOCH # 14\n",
            "weight_decay 0.01\n",
            "Regularization_type L1L2\n",
            "BNType GBN\n"
          ],
          "name": "stdout"
        },
        {
          "output_type": "stream",
          "text": [
            "TRAINING Loss=0.23042552173137665 batch_id=468 TRAIN ACCURACY=98.33: 100%|██████████| 469/469 [00:14<00:00, 33.48it/s]\n",
            "  0%|          | 0/469 [00:00<?, ?it/s]"
          ],
          "name": "stderr"
        },
        {
          "output_type": "stream",
          "text": [
            "Number of Misclassifed Images =  97\n",
            "\n",
            "TEST: Average loss: 0.0750, Accuracy: 9903/10000 (99.03%)\n",
            "\n",
            "----------------------------------------------------------------------\n",
            "EPOCH # 15\n",
            "weight_decay 0.01\n",
            "Regularization_type L1L2\n",
            "BNType GBN\n"
          ],
          "name": "stdout"
        },
        {
          "output_type": "stream",
          "text": [
            "TRAINING Loss=0.1078428402543068 batch_id=468 TRAIN ACCURACY=98.30: 100%|██████████| 469/469 [00:14<00:00, 33.40it/s]\n",
            "  0%|          | 0/469 [00:00<?, ?it/s]"
          ],
          "name": "stderr"
        },
        {
          "output_type": "stream",
          "text": [
            "Number of Misclassifed Images =  117\n",
            "\n",
            "TEST: Average loss: 0.0798, Accuracy: 9883/10000 (98.83%)\n",
            "\n",
            "----------------------------------------------------------------------\n",
            "EPOCH # 16\n",
            "weight_decay 0.01\n",
            "Regularization_type L1L2\n",
            "BNType GBN\n"
          ],
          "name": "stdout"
        },
        {
          "output_type": "stream",
          "text": [
            "TRAINING Loss=0.16983942687511444 batch_id=468 TRAIN ACCURACY=98.29: 100%|██████████| 469/469 [00:13<00:00, 33.50it/s]\n",
            "  0%|          | 0/469 [00:00<?, ?it/s]"
          ],
          "name": "stderr"
        },
        {
          "output_type": "stream",
          "text": [
            "Number of Misclassifed Images =  105\n",
            "\n",
            "TEST: Average loss: 0.0744, Accuracy: 9895/10000 (98.95%)\n",
            "\n",
            "----------------------------------------------------------------------\n",
            "EPOCH # 17\n",
            "weight_decay 0.01\n",
            "Regularization_type L1L2\n",
            "BNType GBN\n"
          ],
          "name": "stdout"
        },
        {
          "output_type": "stream",
          "text": [
            "TRAINING Loss=0.14433178305625916 batch_id=468 TRAIN ACCURACY=98.32: 100%|██████████| 469/469 [00:13<00:00, 33.82it/s]\n",
            "  0%|          | 0/469 [00:00<?, ?it/s]"
          ],
          "name": "stderr"
        },
        {
          "output_type": "stream",
          "text": [
            "Number of Misclassifed Images =  84\n",
            "\n",
            "TEST: Average loss: 0.0754, Accuracy: 9916/10000 (99.16%)\n",
            "\n",
            "----------------------------------------------------------------------\n",
            "EPOCH # 18\n",
            "weight_decay 0.01\n",
            "Regularization_type L1L2\n",
            "BNType GBN\n"
          ],
          "name": "stdout"
        },
        {
          "output_type": "stream",
          "text": [
            "TRAINING Loss=0.11086150258779526 batch_id=468 TRAIN ACCURACY=98.36: 100%|██████████| 469/469 [00:13<00:00, 33.80it/s]\n",
            "  0%|          | 0/469 [00:00<?, ?it/s]"
          ],
          "name": "stderr"
        },
        {
          "output_type": "stream",
          "text": [
            "Number of Misclassifed Images =  115\n",
            "\n",
            "TEST: Average loss: 0.0746, Accuracy: 9885/10000 (98.85%)\n",
            "\n",
            "----------------------------------------------------------------------\n",
            "EPOCH # 19\n",
            "weight_decay 0.01\n",
            "Regularization_type L1L2\n",
            "BNType GBN\n"
          ],
          "name": "stdout"
        },
        {
          "output_type": "stream",
          "text": [
            "TRAINING Loss=0.10445202887058258 batch_id=468 TRAIN ACCURACY=98.34: 100%|██████████| 469/469 [00:13<00:00, 33.93it/s]\n",
            "  0%|          | 0/469 [00:00<?, ?it/s]"
          ],
          "name": "stderr"
        },
        {
          "output_type": "stream",
          "text": [
            "Number of Misclassifed Images =  114\n",
            "\n",
            "TEST: Average loss: 0.0733, Accuracy: 9886/10000 (98.86%)\n",
            "\n",
            "----------------------------------------------------------------------\n",
            "EPOCH # 20\n",
            "weight_decay 0.01\n",
            "Regularization_type L1L2\n",
            "BNType GBN\n"
          ],
          "name": "stdout"
        },
        {
          "output_type": "stream",
          "text": [
            "TRAINING Loss=0.13027217984199524 batch_id=468 TRAIN ACCURACY=98.36: 100%|██████████| 469/469 [00:14<00:00, 33.18it/s]\n",
            "  0%|          | 0/469 [00:00<?, ?it/s]"
          ],
          "name": "stderr"
        },
        {
          "output_type": "stream",
          "text": [
            "Number of Misclassifed Images =  115\n",
            "\n",
            "TEST: Average loss: 0.0746, Accuracy: 9885/10000 (98.85%)\n",
            "\n",
            "----------------------------------------------------------------------\n",
            "EPOCH # 21\n",
            "weight_decay 0.01\n",
            "Regularization_type L1L2\n",
            "BNType GBN\n"
          ],
          "name": "stdout"
        },
        {
          "output_type": "stream",
          "text": [
            "TRAINING Loss=0.15166130661964417 batch_id=468 TRAIN ACCURACY=98.34: 100%|██████████| 469/469 [00:13<00:00, 34.16it/s]\n",
            "  0%|          | 0/469 [00:00<?, ?it/s]"
          ],
          "name": "stderr"
        },
        {
          "output_type": "stream",
          "text": [
            "Number of Misclassifed Images =  125\n",
            "\n",
            "TEST: Average loss: 0.0980, Accuracy: 9875/10000 (98.75%)\n",
            "\n",
            "----------------------------------------------------------------------\n",
            "EPOCH # 22\n",
            "weight_decay 0.01\n",
            "Regularization_type L1L2\n",
            "BNType GBN\n"
          ],
          "name": "stdout"
        },
        {
          "output_type": "stream",
          "text": [
            "TRAINING Loss=0.17769667506217957 batch_id=468 TRAIN ACCURACY=98.31: 100%|██████████| 469/469 [00:13<00:00, 34.36it/s]\n",
            "  0%|          | 0/469 [00:00<?, ?it/s]"
          ],
          "name": "stderr"
        },
        {
          "output_type": "stream",
          "text": [
            "Number of Misclassifed Images =  155\n",
            "\n",
            "TEST: Average loss: 0.0821, Accuracy: 9845/10000 (98.45%)\n",
            "\n",
            "----------------------------------------------------------------------\n",
            "EPOCH # 23\n",
            "weight_decay 0.01\n",
            "Regularization_type L1L2\n",
            "BNType GBN\n"
          ],
          "name": "stdout"
        },
        {
          "output_type": "stream",
          "text": [
            "TRAINING Loss=0.112272247672081 batch_id=468 TRAIN ACCURACY=98.41: 100%|██████████| 469/469 [00:13<00:00, 34.07it/s]\n",
            "  0%|          | 0/469 [00:00<?, ?it/s]"
          ],
          "name": "stderr"
        },
        {
          "output_type": "stream",
          "text": [
            "Number of Misclassifed Images =  142\n",
            "\n",
            "TEST: Average loss: 0.0800, Accuracy: 9858/10000 (98.58%)\n",
            "\n",
            "----------------------------------------------------------------------\n",
            "EPOCH # 24\n",
            "weight_decay 0.01\n",
            "Regularization_type L1L2\n",
            "BNType GBN\n"
          ],
          "name": "stdout"
        },
        {
          "output_type": "stream",
          "text": [
            "TRAINING Loss=0.09046951681375504 batch_id=468 TRAIN ACCURACY=98.42: 100%|██████████| 469/469 [00:13<00:00, 34.02it/s]\n",
            "  0%|          | 0/938 [00:00<?, ?it/s]"
          ],
          "name": "stderr"
        },
        {
          "output_type": "stream",
          "text": [
            "Number of Misclassifed Images =  112\n",
            "\n",
            "TEST: Average loss: 0.0785, Accuracy: 9888/10000 (98.88%)\n",
            "\n",
            "----------------------------------------------------------------------\n",
            "BN\n",
            "Regualarization method None\n",
            "BATCH NORMALIZATION TYPE? BN\n",
            "output_channels:20\n",
            "output_channels:16\n",
            "output_channels:16\n",
            "output_channels:16\n",
            "output_channels:13\n",
            "----------------------------------------------------------------\n",
            "        Layer (type)               Output Shape         Param #\n",
            "================================================================\n",
            "            Conv2d-1           [-1, 20, 26, 26]             200\n",
            "       BatchNorm2d-2           [-1, 20, 26, 26]              40\n",
            "           Dropout-3           [-1, 20, 26, 26]               0\n",
            "              ReLU-4           [-1, 20, 26, 26]               0\n",
            "            Conv2d-5           [-1, 16, 24, 24]           2,896\n",
            "       BatchNorm2d-6           [-1, 16, 24, 24]              32\n",
            "           Dropout-7           [-1, 16, 24, 24]               0\n",
            "              ReLU-8           [-1, 16, 24, 24]               0\n",
            "         MaxPool2d-9           [-1, 16, 12, 12]               0\n",
            "           Conv2d-10           [-1, 16, 10, 10]           2,320\n",
            "      BatchNorm2d-11           [-1, 16, 10, 10]              32\n",
            "          Dropout-12           [-1, 16, 10, 10]               0\n",
            "             ReLU-13           [-1, 16, 10, 10]               0\n",
            "        MaxPool2d-14             [-1, 16, 5, 5]               0\n",
            "           Conv2d-15             [-1, 16, 3, 3]           2,320\n",
            "      BatchNorm2d-16             [-1, 16, 3, 3]              32\n",
            "          Dropout-17             [-1, 16, 3, 3]               0\n",
            "             ReLU-18             [-1, 16, 3, 3]               0\n",
            "           Conv2d-19             [-1, 13, 1, 1]           1,885\n",
            "      BatchNorm2d-20             [-1, 13, 1, 1]              26\n",
            "          Dropout-21             [-1, 13, 1, 1]               0\n",
            "             ReLU-22             [-1, 13, 1, 1]               0\n",
            "           Conv2d-23             [-1, 10, 1, 1]             140\n",
            "================================================================\n",
            "Total params: 9,923\n",
            "Trainable params: 9,923\n",
            "Non-trainable params: 0\n",
            "----------------------------------------------------------------\n",
            "Input size (MB): 0.00\n",
            "Forward/backward pass size (MB): 0.77\n",
            "Params size (MB): 0.04\n",
            "Estimated Total Size (MB): 0.81\n",
            "----------------------------------------------------------------\n",
            "Regularization?? 0\n",
            "EPOCH # 0\n",
            "weight_decay 0\n",
            "Regularization_type None\n",
            "BNType BN\n"
          ],
          "name": "stdout"
        },
        {
          "output_type": "stream",
          "text": [
            "TRAINING Loss=0.09255049377679825 batch_id=937 TRAIN ACCURACY=91.76: 100%|██████████| 938/938 [00:15<00:00, 61.05it/s]\n",
            "  0%|          | 0/938 [00:00<?, ?it/s]"
          ],
          "name": "stderr"
        },
        {
          "output_type": "stream",
          "text": [
            "Number of Misclassifed Images =  163\n",
            "\n",
            "TEST: Average loss: 0.0589, Accuracy: 9837/10000 (98.37%)\n",
            "\n",
            "----------------------------------------------------------------------\n",
            "EPOCH # 1\n",
            "weight_decay 0\n",
            "Regularization_type None\n",
            "BNType BN\n"
          ],
          "name": "stdout"
        },
        {
          "output_type": "stream",
          "text": [
            "TRAINING Loss=0.1062784492969513 batch_id=937 TRAIN ACCURACY=97.36: 100%|██████████| 938/938 [00:15<00:00, 61.72it/s]\n",
            "  0%|          | 0/938 [00:00<?, ?it/s]"
          ],
          "name": "stderr"
        },
        {
          "output_type": "stream",
          "text": [
            "Number of Misclassifed Images =  114\n",
            "\n",
            "TEST: Average loss: 0.0344, Accuracy: 9886/10000 (98.86%)\n",
            "\n",
            "----------------------------------------------------------------------\n",
            "EPOCH # 2\n",
            "weight_decay 0\n",
            "Regularization_type None\n",
            "BNType BN\n"
          ],
          "name": "stdout"
        },
        {
          "output_type": "stream",
          "text": [
            "TRAINING Loss=0.16549034416675568 batch_id=937 TRAIN ACCURACY=97.89: 100%|██████████| 938/938 [00:15<00:00, 61.76it/s]\n",
            "  0%|          | 0/938 [00:00<?, ?it/s]"
          ],
          "name": "stderr"
        },
        {
          "output_type": "stream",
          "text": [
            "Number of Misclassifed Images =  123\n",
            "\n",
            "TEST: Average loss: 0.0405, Accuracy: 9877/10000 (98.77%)\n",
            "\n",
            "----------------------------------------------------------------------\n",
            "EPOCH # 3\n",
            "weight_decay 0\n",
            "Regularization_type None\n",
            "BNType BN\n"
          ],
          "name": "stdout"
        },
        {
          "output_type": "stream",
          "text": [
            "TRAINING Loss=0.007737770676612854 batch_id=937 TRAIN ACCURACY=98.22: 100%|██████████| 938/938 [00:15<00:00, 61.12it/s]\n",
            "  0%|          | 0/938 [00:00<?, ?it/s]"
          ],
          "name": "stderr"
        },
        {
          "output_type": "stream",
          "text": [
            "Number of Misclassifed Images =  97\n",
            "\n",
            "TEST: Average loss: 0.0297, Accuracy: 9903/10000 (99.03%)\n",
            "\n",
            "----------------------------------------------------------------------\n",
            "EPOCH # 4\n",
            "weight_decay 0\n",
            "Regularization_type None\n",
            "BNType BN\n"
          ],
          "name": "stdout"
        },
        {
          "output_type": "stream",
          "text": [
            "TRAINING Loss=0.030317753553390503 batch_id=937 TRAIN ACCURACY=98.35: 100%|██████████| 938/938 [00:15<00:00, 60.73it/s]\n",
            "  0%|          | 0/938 [00:00<?, ?it/s]"
          ],
          "name": "stderr"
        },
        {
          "output_type": "stream",
          "text": [
            "Number of Misclassifed Images =  94\n",
            "\n",
            "TEST: Average loss: 0.0296, Accuracy: 9906/10000 (99.06%)\n",
            "\n",
            "----------------------------------------------------------------------\n",
            "EPOCH # 5\n",
            "weight_decay 0\n",
            "Regularization_type None\n",
            "BNType BN\n"
          ],
          "name": "stdout"
        },
        {
          "output_type": "stream",
          "text": [
            "TRAINING Loss=0.27107909321784973 batch_id=937 TRAIN ACCURACY=98.47: 100%|██████████| 938/938 [00:15<00:00, 59.46it/s]\n",
            "  0%|          | 0/938 [00:00<?, ?it/s]"
          ],
          "name": "stderr"
        },
        {
          "output_type": "stream",
          "text": [
            "Number of Misclassifed Images =  108\n",
            "\n",
            "TEST: Average loss: 0.0317, Accuracy: 9892/10000 (98.92%)\n",
            "\n",
            "----------------------------------------------------------------------\n",
            "EPOCH # 6\n",
            "weight_decay 0\n",
            "Regularization_type None\n",
            "BNType BN\n"
          ],
          "name": "stdout"
        },
        {
          "output_type": "stream",
          "text": [
            "TRAINING Loss=0.021226778626441956 batch_id=937 TRAIN ACCURACY=98.60: 100%|██████████| 938/938 [00:15<00:00, 59.60it/s]\n",
            "  0%|          | 0/938 [00:00<?, ?it/s]"
          ],
          "name": "stderr"
        },
        {
          "output_type": "stream",
          "text": [
            "Number of Misclassifed Images =  83\n",
            "\n",
            "TEST: Average loss: 0.0251, Accuracy: 9917/10000 (99.17%)\n",
            "\n",
            "----------------------------------------------------------------------\n",
            "EPOCH # 7\n",
            "weight_decay 0\n",
            "Regularization_type None\n",
            "BNType BN\n"
          ],
          "name": "stdout"
        },
        {
          "output_type": "stream",
          "text": [
            "TRAINING Loss=0.0020191818475723267 batch_id=937 TRAIN ACCURACY=98.76: 100%|██████████| 938/938 [00:15<00:00, 58.77it/s]\n",
            "  0%|          | 0/938 [00:00<?, ?it/s]"
          ],
          "name": "stderr"
        },
        {
          "output_type": "stream",
          "text": [
            "Number of Misclassifed Images =  78\n",
            "\n",
            "TEST: Average loss: 0.0247, Accuracy: 9922/10000 (99.22%)\n",
            "\n",
            "----------------------------------------------------------------------\n",
            "EPOCH # 8\n",
            "weight_decay 0\n",
            "Regularization_type None\n",
            "BNType BN\n"
          ],
          "name": "stdout"
        },
        {
          "output_type": "stream",
          "text": [
            "TRAINING Loss=0.04038471728563309 batch_id=937 TRAIN ACCURACY=98.81: 100%|██████████| 938/938 [00:15<00:00, 59.61it/s]\n",
            "  0%|          | 0/938 [00:00<?, ?it/s]"
          ],
          "name": "stderr"
        },
        {
          "output_type": "stream",
          "text": [
            "Number of Misclassifed Images =  89\n",
            "\n",
            "TEST: Average loss: 0.0282, Accuracy: 9911/10000 (99.11%)\n",
            "\n",
            "----------------------------------------------------------------------\n",
            "EPOCH # 9\n",
            "weight_decay 0\n",
            "Regularization_type None\n",
            "BNType BN\n"
          ],
          "name": "stdout"
        },
        {
          "output_type": "stream",
          "text": [
            "TRAINING Loss=0.06805486977100372 batch_id=937 TRAIN ACCURACY=98.80: 100%|██████████| 938/938 [00:15<00:00, 59.57it/s]\n",
            "  0%|          | 0/938 [00:00<?, ?it/s]"
          ],
          "name": "stderr"
        },
        {
          "output_type": "stream",
          "text": [
            "Number of Misclassifed Images =  80\n",
            "\n",
            "TEST: Average loss: 0.0246, Accuracy: 9920/10000 (99.20%)\n",
            "\n",
            "----------------------------------------------------------------------\n",
            "EPOCH # 10\n",
            "weight_decay 0\n",
            "Regularization_type None\n",
            "BNType BN\n"
          ],
          "name": "stdout"
        },
        {
          "output_type": "stream",
          "text": [
            "TRAINING Loss=0.08861663937568665 batch_id=937 TRAIN ACCURACY=98.90: 100%|██████████| 938/938 [00:15<00:00, 59.33it/s]\n",
            "  0%|          | 0/938 [00:00<?, ?it/s]"
          ],
          "name": "stderr"
        },
        {
          "output_type": "stream",
          "text": [
            "Number of Misclassifed Images =  76\n",
            "\n",
            "TEST: Average loss: 0.0255, Accuracy: 9924/10000 (99.24%)\n",
            "\n",
            "----------------------------------------------------------------------\n",
            "EPOCH # 11\n",
            "weight_decay 0\n",
            "Regularization_type None\n",
            "BNType BN\n"
          ],
          "name": "stdout"
        },
        {
          "output_type": "stream",
          "text": [
            "TRAINING Loss=0.0013347864151000977 batch_id=937 TRAIN ACCURACY=98.94: 100%|██████████| 938/938 [00:15<00:00, 59.53it/s]\n",
            "  0%|          | 0/938 [00:00<?, ?it/s]"
          ],
          "name": "stderr"
        },
        {
          "output_type": "stream",
          "text": [
            "Number of Misclassifed Images =  77\n",
            "\n",
            "TEST: Average loss: 0.0226, Accuracy: 9923/10000 (99.23%)\n",
            "\n",
            "----------------------------------------------------------------------\n",
            "EPOCH # 12\n",
            "weight_decay 0\n",
            "Regularization_type None\n",
            "BNType BN\n"
          ],
          "name": "stdout"
        },
        {
          "output_type": "stream",
          "text": [
            "TRAINING Loss=0.07014138996601105 batch_id=937 TRAIN ACCURACY=98.95: 100%|██████████| 938/938 [00:15<00:00, 59.75it/s]\n",
            "  0%|          | 0/938 [00:00<?, ?it/s]"
          ],
          "name": "stderr"
        },
        {
          "output_type": "stream",
          "text": [
            "Number of Misclassifed Images =  74\n",
            "\n",
            "TEST: Average loss: 0.0224, Accuracy: 9926/10000 (99.26%)\n",
            "\n",
            "----------------------------------------------------------------------\n",
            "EPOCH # 13\n",
            "weight_decay 0\n",
            "Regularization_type None\n",
            "BNType BN\n"
          ],
          "name": "stdout"
        },
        {
          "output_type": "stream",
          "text": [
            "TRAINING Loss=0.0060625821352005005 batch_id=937 TRAIN ACCURACY=98.92: 100%|██████████| 938/938 [00:15<00:00, 58.77it/s]\n",
            "  0%|          | 0/938 [00:00<?, ?it/s]"
          ],
          "name": "stderr"
        },
        {
          "output_type": "stream",
          "text": [
            "Number of Misclassifed Images =  78\n",
            "\n",
            "TEST: Average loss: 0.0246, Accuracy: 9922/10000 (99.22%)\n",
            "\n",
            "----------------------------------------------------------------------\n",
            "EPOCH # 14\n",
            "weight_decay 0\n",
            "Regularization_type None\n",
            "BNType BN\n"
          ],
          "name": "stdout"
        },
        {
          "output_type": "stream",
          "text": [
            "TRAINING Loss=0.10953211784362793 batch_id=937 TRAIN ACCURACY=98.96: 100%|██████████| 938/938 [00:15<00:00, 59.14it/s]\n",
            "  0%|          | 0/938 [00:00<?, ?it/s]"
          ],
          "name": "stderr"
        },
        {
          "output_type": "stream",
          "text": [
            "Number of Misclassifed Images =  57\n",
            "\n",
            "TEST: Average loss: 0.0223, Accuracy: 9943/10000 (99.43%)\n",
            "\n",
            "----------------------------------------------------------------------\n",
            "EPOCH # 15\n",
            "weight_decay 0\n",
            "Regularization_type None\n",
            "BNType BN\n"
          ],
          "name": "stdout"
        },
        {
          "output_type": "stream",
          "text": [
            "TRAINING Loss=0.007118523120880127 batch_id=937 TRAIN ACCURACY=99.07: 100%|██████████| 938/938 [00:15<00:00, 60.77it/s]\n",
            "  0%|          | 0/938 [00:00<?, ?it/s]"
          ],
          "name": "stderr"
        },
        {
          "output_type": "stream",
          "text": [
            "Number of Misclassifed Images =  71\n",
            "\n",
            "TEST: Average loss: 0.0232, Accuracy: 9929/10000 (99.29%)\n",
            "\n",
            "----------------------------------------------------------------------\n",
            "EPOCH # 16\n",
            "weight_decay 0\n",
            "Regularization_type None\n",
            "BNType BN\n"
          ],
          "name": "stdout"
        },
        {
          "output_type": "stream",
          "text": [
            "TRAINING Loss=0.019360065460205078 batch_id=937 TRAIN ACCURACY=99.14: 100%|██████████| 938/938 [00:15<00:00, 60.26it/s]\n",
            "  0%|          | 0/938 [00:00<?, ?it/s]"
          ],
          "name": "stderr"
        },
        {
          "output_type": "stream",
          "text": [
            "Number of Misclassifed Images =  71\n",
            "\n",
            "TEST: Average loss: 0.0227, Accuracy: 9929/10000 (99.29%)\n",
            "\n",
            "----------------------------------------------------------------------\n",
            "EPOCH # 17\n",
            "weight_decay 0\n",
            "Regularization_type None\n",
            "BNType BN\n"
          ],
          "name": "stdout"
        },
        {
          "output_type": "stream",
          "text": [
            "TRAINING Loss=0.03479817509651184 batch_id=937 TRAIN ACCURACY=99.13: 100%|██████████| 938/938 [00:15<00:00, 61.05it/s]\n",
            "  0%|          | 0/938 [00:00<?, ?it/s]"
          ],
          "name": "stderr"
        },
        {
          "output_type": "stream",
          "text": [
            "Number of Misclassifed Images =  63\n",
            "\n",
            "TEST: Average loss: 0.0218, Accuracy: 9937/10000 (99.37%)\n",
            "\n",
            "----------------------------------------------------------------------\n",
            "EPOCH # 18\n",
            "weight_decay 0\n",
            "Regularization_type None\n",
            "BNType BN\n"
          ],
          "name": "stdout"
        },
        {
          "output_type": "stream",
          "text": [
            "TRAINING Loss=0.19565896689891815 batch_id=937 TRAIN ACCURACY=99.06: 100%|██████████| 938/938 [00:15<00:00, 60.87it/s]\n",
            "  0%|          | 0/938 [00:00<?, ?it/s]"
          ],
          "name": "stderr"
        },
        {
          "output_type": "stream",
          "text": [
            "Number of Misclassifed Images =  59\n",
            "\n",
            "TEST: Average loss: 0.0221, Accuracy: 9941/10000 (99.41%)\n",
            "\n",
            "----------------------------------------------------------------------\n",
            "EPOCH # 19\n",
            "weight_decay 0\n",
            "Regularization_type None\n",
            "BNType BN\n"
          ],
          "name": "stdout"
        },
        {
          "output_type": "stream",
          "text": [
            "TRAINING Loss=0.033760085701942444 batch_id=937 TRAIN ACCURACY=99.09: 100%|██████████| 938/938 [00:15<00:00, 60.50it/s]\n",
            "  0%|          | 0/938 [00:00<?, ?it/s]"
          ],
          "name": "stderr"
        },
        {
          "output_type": "stream",
          "text": [
            "Number of Misclassifed Images =  82\n",
            "\n",
            "TEST: Average loss: 0.0262, Accuracy: 9918/10000 (99.18%)\n",
            "\n",
            "----------------------------------------------------------------------\n",
            "EPOCH # 20\n",
            "weight_decay 0\n",
            "Regularization_type None\n",
            "BNType BN\n"
          ],
          "name": "stdout"
        },
        {
          "output_type": "stream",
          "text": [
            "TRAINING Loss=0.023517459630966187 batch_id=937 TRAIN ACCURACY=99.11: 100%|██████████| 938/938 [00:15<00:00, 60.52it/s]\n",
            "  0%|          | 0/938 [00:00<?, ?it/s]"
          ],
          "name": "stderr"
        },
        {
          "output_type": "stream",
          "text": [
            "Number of Misclassifed Images =  61\n",
            "\n",
            "TEST: Average loss: 0.0203, Accuracy: 9939/10000 (99.39%)\n",
            "\n",
            "----------------------------------------------------------------------\n",
            "EPOCH # 21\n",
            "weight_decay 0\n",
            "Regularization_type None\n",
            "BNType BN\n"
          ],
          "name": "stdout"
        },
        {
          "output_type": "stream",
          "text": [
            "TRAINING Loss=0.009975433349609375 batch_id=937 TRAIN ACCURACY=99.18: 100%|██████████| 938/938 [00:15<00:00, 60.72it/s]\n",
            "  0%|          | 0/938 [00:00<?, ?it/s]"
          ],
          "name": "stderr"
        },
        {
          "output_type": "stream",
          "text": [
            "Number of Misclassifed Images =  71\n",
            "\n",
            "TEST: Average loss: 0.0230, Accuracy: 9929/10000 (99.29%)\n",
            "\n",
            "----------------------------------------------------------------------\n",
            "EPOCH # 22\n",
            "weight_decay 0\n",
            "Regularization_type None\n",
            "BNType BN\n"
          ],
          "name": "stdout"
        },
        {
          "output_type": "stream",
          "text": [
            "TRAINING Loss=0.22034114599227905 batch_id=937 TRAIN ACCURACY=99.15: 100%|██████████| 938/938 [00:15<00:00, 61.21it/s]\n",
            "  0%|          | 0/938 [00:00<?, ?it/s]"
          ],
          "name": "stderr"
        },
        {
          "output_type": "stream",
          "text": [
            "Number of Misclassifed Images =  75\n",
            "\n",
            "TEST: Average loss: 0.0282, Accuracy: 9925/10000 (99.25%)\n",
            "\n",
            "----------------------------------------------------------------------\n",
            "EPOCH # 23\n",
            "weight_decay 0\n",
            "Regularization_type None\n",
            "BNType BN\n"
          ],
          "name": "stdout"
        },
        {
          "output_type": "stream",
          "text": [
            "TRAINING Loss=0.0019593387842178345 batch_id=937 TRAIN ACCURACY=99.15: 100%|██████████| 938/938 [00:15<00:00, 60.59it/s]\n",
            "  0%|          | 0/938 [00:00<?, ?it/s]"
          ],
          "name": "stderr"
        },
        {
          "output_type": "stream",
          "text": [
            "Number of Misclassifed Images =  58\n",
            "\n",
            "TEST: Average loss: 0.0205, Accuracy: 9942/10000 (99.42%)\n",
            "\n",
            "----------------------------------------------------------------------\n",
            "EPOCH # 24\n",
            "weight_decay 0\n",
            "Regularization_type None\n",
            "BNType BN\n"
          ],
          "name": "stdout"
        },
        {
          "output_type": "stream",
          "text": [
            "TRAINING Loss=0.012455910444259644 batch_id=937 TRAIN ACCURACY=99.24: 100%|██████████| 938/938 [00:15<00:00, 60.10it/s]\n",
            "  0%|          | 0/938 [00:00<?, ?it/s]"
          ],
          "name": "stderr"
        },
        {
          "output_type": "stream",
          "text": [
            "Number of Misclassifed Images =  57\n",
            "\n",
            "TEST: Average loss: 0.0204, Accuracy: 9943/10000 (99.43%)\n",
            "\n",
            "----------------------------------------------------------------------\n",
            "Regualarization method L1\n",
            "BATCH NORMALIZATION TYPE? BN\n",
            "output_channels:20\n",
            "output_channels:16\n",
            "output_channels:16\n",
            "output_channels:16\n",
            "output_channels:13\n",
            "----------------------------------------------------------------\n",
            "        Layer (type)               Output Shape         Param #\n",
            "================================================================\n",
            "            Conv2d-1           [-1, 20, 26, 26]             200\n",
            "       BatchNorm2d-2           [-1, 20, 26, 26]              40\n",
            "           Dropout-3           [-1, 20, 26, 26]               0\n",
            "              ReLU-4           [-1, 20, 26, 26]               0\n",
            "            Conv2d-5           [-1, 16, 24, 24]           2,896\n",
            "       BatchNorm2d-6           [-1, 16, 24, 24]              32\n",
            "           Dropout-7           [-1, 16, 24, 24]               0\n",
            "              ReLU-8           [-1, 16, 24, 24]               0\n",
            "         MaxPool2d-9           [-1, 16, 12, 12]               0\n",
            "           Conv2d-10           [-1, 16, 10, 10]           2,320\n",
            "      BatchNorm2d-11           [-1, 16, 10, 10]              32\n",
            "          Dropout-12           [-1, 16, 10, 10]               0\n",
            "             ReLU-13           [-1, 16, 10, 10]               0\n",
            "        MaxPool2d-14             [-1, 16, 5, 5]               0\n",
            "           Conv2d-15             [-1, 16, 3, 3]           2,320\n",
            "      BatchNorm2d-16             [-1, 16, 3, 3]              32\n",
            "          Dropout-17             [-1, 16, 3, 3]               0\n",
            "             ReLU-18             [-1, 16, 3, 3]               0\n",
            "           Conv2d-19             [-1, 13, 1, 1]           1,885\n",
            "      BatchNorm2d-20             [-1, 13, 1, 1]              26\n",
            "          Dropout-21             [-1, 13, 1, 1]               0\n",
            "             ReLU-22             [-1, 13, 1, 1]               0\n",
            "           Conv2d-23             [-1, 10, 1, 1]             140\n",
            "================================================================\n",
            "Total params: 9,923\n",
            "Trainable params: 9,923\n",
            "Non-trainable params: 0\n",
            "----------------------------------------------------------------\n",
            "Input size (MB): 0.00\n",
            "Forward/backward pass size (MB): 0.77\n",
            "Params size (MB): 0.04\n",
            "Estimated Total Size (MB): 0.81\n",
            "----------------------------------------------------------------\n",
            "Regularization?? 0\n",
            "EPOCH # 0\n",
            "weight_decay 0\n",
            "Regularization_type L1\n",
            "BNType BN\n"
          ],
          "name": "stdout"
        },
        {
          "output_type": "stream",
          "text": [
            "TRAINING Loss=0.23119808733463287 batch_id=937 TRAIN ACCURACY=92.97: 100%|██████████| 938/938 [00:18<00:00, 51.13it/s]\n",
            "  0%|          | 0/938 [00:00<?, ?it/s]"
          ],
          "name": "stderr"
        },
        {
          "output_type": "stream",
          "text": [
            "Number of Misclassifed Images =  157\n",
            "\n",
            "TEST: Average loss: 0.0580, Accuracy: 9843/10000 (98.43%)\n",
            "\n",
            "----------------------------------------------------------------------\n",
            "EPOCH # 1\n",
            "weight_decay 0\n",
            "Regularization_type L1\n",
            "BNType BN\n"
          ],
          "name": "stdout"
        },
        {
          "output_type": "stream",
          "text": [
            "TRAINING Loss=0.1394650638103485 batch_id=937 TRAIN ACCURACY=97.46: 100%|██████████| 938/938 [00:18<00:00, 50.72it/s]\n",
            "  0%|          | 0/938 [00:00<?, ?it/s]"
          ],
          "name": "stderr"
        },
        {
          "output_type": "stream",
          "text": [
            "Number of Misclassifed Images =  122\n",
            "\n",
            "TEST: Average loss: 0.0396, Accuracy: 9878/10000 (98.78%)\n",
            "\n",
            "----------------------------------------------------------------------\n",
            "EPOCH # 2\n",
            "weight_decay 0\n",
            "Regularization_type L1\n",
            "BNType BN\n"
          ],
          "name": "stdout"
        },
        {
          "output_type": "stream",
          "text": [
            "TRAINING Loss=0.019301753491163254 batch_id=937 TRAIN ACCURACY=98.00: 100%|██████████| 938/938 [00:18<00:00, 50.39it/s]\n",
            "  0%|          | 0/938 [00:00<?, ?it/s]"
          ],
          "name": "stderr"
        },
        {
          "output_type": "stream",
          "text": [
            "Number of Misclassifed Images =  106\n",
            "\n",
            "TEST: Average loss: 0.0328, Accuracy: 9894/10000 (98.94%)\n",
            "\n",
            "----------------------------------------------------------------------\n",
            "EPOCH # 3\n",
            "weight_decay 0\n",
            "Regularization_type L1\n",
            "BNType BN\n"
          ],
          "name": "stdout"
        },
        {
          "output_type": "stream",
          "text": [
            "TRAINING Loss=0.1044023260474205 batch_id=937 TRAIN ACCURACY=98.19: 100%|██████████| 938/938 [00:18<00:00, 49.97it/s]\n",
            "  0%|          | 0/938 [00:00<?, ?it/s]"
          ],
          "name": "stderr"
        },
        {
          "output_type": "stream",
          "text": [
            "Number of Misclassifed Images =  109\n",
            "\n",
            "TEST: Average loss: 0.0344, Accuracy: 9891/10000 (98.91%)\n",
            "\n",
            "----------------------------------------------------------------------\n",
            "EPOCH # 4\n",
            "weight_decay 0\n",
            "Regularization_type L1\n",
            "BNType BN\n"
          ],
          "name": "stdout"
        },
        {
          "output_type": "stream",
          "text": [
            "TRAINING Loss=0.06266456097364426 batch_id=937 TRAIN ACCURACY=98.42: 100%|██████████| 938/938 [00:19<00:00, 49.21it/s]\n",
            "  0%|          | 0/938 [00:00<?, ?it/s]"
          ],
          "name": "stderr"
        },
        {
          "output_type": "stream",
          "text": [
            "Number of Misclassifed Images =  79\n",
            "\n",
            "TEST: Average loss: 0.0269, Accuracy: 9921/10000 (99.21%)\n",
            "\n",
            "----------------------------------------------------------------------\n",
            "EPOCH # 5\n",
            "weight_decay 0\n",
            "Regularization_type L1\n",
            "BNType BN\n"
          ],
          "name": "stdout"
        },
        {
          "output_type": "stream",
          "text": [
            "TRAINING Loss=0.005488247144967318 batch_id=937 TRAIN ACCURACY=98.54: 100%|██████████| 938/938 [00:18<00:00, 49.71it/s]\n",
            "  0%|          | 0/938 [00:00<?, ?it/s]"
          ],
          "name": "stderr"
        },
        {
          "output_type": "stream",
          "text": [
            "Number of Misclassifed Images =  89\n",
            "\n",
            "TEST: Average loss: 0.0278, Accuracy: 9911/10000 (99.11%)\n",
            "\n",
            "----------------------------------------------------------------------\n",
            "EPOCH # 6\n",
            "weight_decay 0\n",
            "Regularization_type L1\n",
            "BNType BN\n"
          ],
          "name": "stdout"
        },
        {
          "output_type": "stream",
          "text": [
            "TRAINING Loss=0.1454753279685974 batch_id=937 TRAIN ACCURACY=98.64: 100%|██████████| 938/938 [00:18<00:00, 49.69it/s]\n",
            "  0%|          | 0/938 [00:00<?, ?it/s]"
          ],
          "name": "stderr"
        },
        {
          "output_type": "stream",
          "text": [
            "Number of Misclassifed Images =  91\n",
            "\n",
            "TEST: Average loss: 0.0274, Accuracy: 9909/10000 (99.09%)\n",
            "\n",
            "----------------------------------------------------------------------\n",
            "EPOCH # 7\n",
            "weight_decay 0\n",
            "Regularization_type L1\n",
            "BNType BN\n"
          ],
          "name": "stdout"
        },
        {
          "output_type": "stream",
          "text": [
            "TRAINING Loss=0.01702188514173031 batch_id=937 TRAIN ACCURACY=98.70: 100%|██████████| 938/938 [00:19<00:00, 49.33it/s]\n",
            "  0%|          | 0/938 [00:00<?, ?it/s]"
          ],
          "name": "stderr"
        },
        {
          "output_type": "stream",
          "text": [
            "Number of Misclassifed Images =  85\n",
            "\n",
            "TEST: Average loss: 0.0259, Accuracy: 9915/10000 (99.15%)\n",
            "\n",
            "----------------------------------------------------------------------\n",
            "EPOCH # 8\n",
            "weight_decay 0\n",
            "Regularization_type L1\n",
            "BNType BN\n"
          ],
          "name": "stdout"
        },
        {
          "output_type": "stream",
          "text": [
            "TRAINING Loss=0.018755776807665825 batch_id=937 TRAIN ACCURACY=98.78: 100%|██████████| 938/938 [00:18<00:00, 50.04it/s]\n",
            "  0%|          | 0/938 [00:00<?, ?it/s]"
          ],
          "name": "stderr"
        },
        {
          "output_type": "stream",
          "text": [
            "Number of Misclassifed Images =  80\n",
            "\n",
            "TEST: Average loss: 0.0253, Accuracy: 9920/10000 (99.20%)\n",
            "\n",
            "----------------------------------------------------------------------\n",
            "EPOCH # 9\n",
            "weight_decay 0\n",
            "Regularization_type L1\n",
            "BNType BN\n"
          ],
          "name": "stdout"
        },
        {
          "output_type": "stream",
          "text": [
            "TRAINING Loss=0.04017602652311325 batch_id=937 TRAIN ACCURACY=98.79: 100%|██████████| 938/938 [00:18<00:00, 49.88it/s]\n",
            "  0%|          | 0/938 [00:00<?, ?it/s]"
          ],
          "name": "stderr"
        },
        {
          "output_type": "stream",
          "text": [
            "Number of Misclassifed Images =  66\n",
            "\n",
            "TEST: Average loss: 0.0240, Accuracy: 9934/10000 (99.34%)\n",
            "\n",
            "----------------------------------------------------------------------\n",
            "EPOCH # 10\n",
            "weight_decay 0\n",
            "Regularization_type L1\n",
            "BNType BN\n"
          ],
          "name": "stdout"
        },
        {
          "output_type": "stream",
          "text": [
            "TRAINING Loss=0.027124227955937386 batch_id=937 TRAIN ACCURACY=98.89: 100%|██████████| 938/938 [00:19<00:00, 49.18it/s]\n",
            "  0%|          | 0/938 [00:00<?, ?it/s]"
          ],
          "name": "stderr"
        },
        {
          "output_type": "stream",
          "text": [
            "Number of Misclassifed Images =  73\n",
            "\n",
            "TEST: Average loss: 0.0222, Accuracy: 9927/10000 (99.27%)\n",
            "\n",
            "----------------------------------------------------------------------\n",
            "EPOCH # 11\n",
            "weight_decay 0\n",
            "Regularization_type L1\n",
            "BNType BN\n"
          ],
          "name": "stdout"
        },
        {
          "output_type": "stream",
          "text": [
            "TRAINING Loss=0.01716180145740509 batch_id=937 TRAIN ACCURACY=98.88: 100%|██████████| 938/938 [00:18<00:00, 50.10it/s]\n",
            "  0%|          | 0/938 [00:00<?, ?it/s]"
          ],
          "name": "stderr"
        },
        {
          "output_type": "stream",
          "text": [
            "Number of Misclassifed Images =  78\n",
            "\n",
            "TEST: Average loss: 0.0276, Accuracy: 9922/10000 (99.22%)\n",
            "\n",
            "----------------------------------------------------------------------\n",
            "EPOCH # 12\n",
            "weight_decay 0\n",
            "Regularization_type L1\n",
            "BNType BN\n"
          ],
          "name": "stdout"
        },
        {
          "output_type": "stream",
          "text": [
            "TRAINING Loss=0.0023087533190846443 batch_id=937 TRAIN ACCURACY=98.93: 100%|██████████| 938/938 [00:18<00:00, 50.53it/s]\n",
            "  0%|          | 0/938 [00:00<?, ?it/s]"
          ],
          "name": "stderr"
        },
        {
          "output_type": "stream",
          "text": [
            "Number of Misclassifed Images =  66\n",
            "\n",
            "TEST: Average loss: 0.0226, Accuracy: 9934/10000 (99.34%)\n",
            "\n",
            "----------------------------------------------------------------------\n",
            "EPOCH # 13\n",
            "weight_decay 0\n",
            "Regularization_type L1\n",
            "BNType BN\n"
          ],
          "name": "stdout"
        },
        {
          "output_type": "stream",
          "text": [
            "TRAINING Loss=0.2053094208240509 batch_id=937 TRAIN ACCURACY=98.98: 100%|██████████| 938/938 [00:18<00:00, 50.13it/s]\n",
            "  0%|          | 0/938 [00:00<?, ?it/s]"
          ],
          "name": "stderr"
        },
        {
          "output_type": "stream",
          "text": [
            "Number of Misclassifed Images =  67\n",
            "\n",
            "TEST: Average loss: 0.0225, Accuracy: 9933/10000 (99.33%)\n",
            "\n",
            "----------------------------------------------------------------------\n",
            "EPOCH # 14\n",
            "weight_decay 0\n",
            "Regularization_type L1\n",
            "BNType BN\n"
          ],
          "name": "stdout"
        },
        {
          "output_type": "stream",
          "text": [
            "TRAINING Loss=0.13587407767772675 batch_id=937 TRAIN ACCURACY=99.02: 100%|██████████| 938/938 [00:18<00:00, 49.81it/s]\n",
            "  0%|          | 0/938 [00:00<?, ?it/s]"
          ],
          "name": "stderr"
        },
        {
          "output_type": "stream",
          "text": [
            "Number of Misclassifed Images =  63\n",
            "\n",
            "TEST: Average loss: 0.0217, Accuracy: 9937/10000 (99.37%)\n",
            "\n",
            "----------------------------------------------------------------------\n",
            "EPOCH # 15\n",
            "weight_decay 0\n",
            "Regularization_type L1\n",
            "BNType BN\n"
          ],
          "name": "stdout"
        },
        {
          "output_type": "stream",
          "text": [
            "TRAINING Loss=0.0030635781586170197 batch_id=937 TRAIN ACCURACY=99.04: 100%|██████████| 938/938 [00:18<00:00, 50.00it/s]\n",
            "  0%|          | 0/938 [00:00<?, ?it/s]"
          ],
          "name": "stderr"
        },
        {
          "output_type": "stream",
          "text": [
            "Number of Misclassifed Images =  81\n",
            "\n",
            "TEST: Average loss: 0.0248, Accuracy: 9919/10000 (99.19%)\n",
            "\n",
            "----------------------------------------------------------------------\n",
            "EPOCH # 16\n",
            "weight_decay 0\n",
            "Regularization_type L1\n",
            "BNType BN\n"
          ],
          "name": "stdout"
        },
        {
          "output_type": "stream",
          "text": [
            "TRAINING Loss=0.0051063005812466145 batch_id=937 TRAIN ACCURACY=99.03: 100%|██████████| 938/938 [00:18<00:00, 49.89it/s]\n",
            "  0%|          | 0/938 [00:00<?, ?it/s]"
          ],
          "name": "stderr"
        },
        {
          "output_type": "stream",
          "text": [
            "Number of Misclassifed Images =  64\n",
            "\n",
            "TEST: Average loss: 0.0218, Accuracy: 9936/10000 (99.36%)\n",
            "\n",
            "----------------------------------------------------------------------\n",
            "EPOCH # 17\n",
            "weight_decay 0\n",
            "Regularization_type L1\n",
            "BNType BN\n"
          ],
          "name": "stdout"
        },
        {
          "output_type": "stream",
          "text": [
            "TRAINING Loss=0.008751308545470238 batch_id=937 TRAIN ACCURACY=99.10: 100%|██████████| 938/938 [00:18<00:00, 50.79it/s]\n",
            "  0%|          | 0/938 [00:00<?, ?it/s]"
          ],
          "name": "stderr"
        },
        {
          "output_type": "stream",
          "text": [
            "Number of Misclassifed Images =  61\n",
            "\n",
            "TEST: Average loss: 0.0190, Accuracy: 9939/10000 (99.39%)\n",
            "\n",
            "----------------------------------------------------------------------\n",
            "EPOCH # 18\n",
            "weight_decay 0\n",
            "Regularization_type L1\n",
            "BNType BN\n"
          ],
          "name": "stdout"
        },
        {
          "output_type": "stream",
          "text": [
            "TRAINING Loss=0.0361693874001503 batch_id=937 TRAIN ACCURACY=99.11: 100%|██████████| 938/938 [00:18<00:00, 50.60it/s]\n",
            "  0%|          | 0/938 [00:00<?, ?it/s]"
          ],
          "name": "stderr"
        },
        {
          "output_type": "stream",
          "text": [
            "Number of Misclassifed Images =  78\n",
            "\n",
            "TEST: Average loss: 0.0239, Accuracy: 9922/10000 (99.22%)\n",
            "\n",
            "----------------------------------------------------------------------\n",
            "EPOCH # 19\n",
            "weight_decay 0\n",
            "Regularization_type L1\n",
            "BNType BN\n"
          ],
          "name": "stdout"
        },
        {
          "output_type": "stream",
          "text": [
            "TRAINING Loss=0.02049322798848152 batch_id=937 TRAIN ACCURACY=99.10: 100%|██████████| 938/938 [00:18<00:00, 50.32it/s]\n",
            "  0%|          | 0/938 [00:00<?, ?it/s]"
          ],
          "name": "stderr"
        },
        {
          "output_type": "stream",
          "text": [
            "Number of Misclassifed Images =  69\n",
            "\n",
            "TEST: Average loss: 0.0231, Accuracy: 9931/10000 (99.31%)\n",
            "\n",
            "----------------------------------------------------------------------\n",
            "EPOCH # 20\n",
            "weight_decay 0\n",
            "Regularization_type L1\n",
            "BNType BN\n"
          ],
          "name": "stdout"
        },
        {
          "output_type": "stream",
          "text": [
            "TRAINING Loss=0.000587338232435286 batch_id=937 TRAIN ACCURACY=99.20: 100%|██████████| 938/938 [00:18<00:00, 50.67it/s]\n",
            "  0%|          | 0/938 [00:00<?, ?it/s]"
          ],
          "name": "stderr"
        },
        {
          "output_type": "stream",
          "text": [
            "Number of Misclassifed Images =  66\n",
            "\n",
            "TEST: Average loss: 0.0199, Accuracy: 9934/10000 (99.34%)\n",
            "\n",
            "----------------------------------------------------------------------\n",
            "EPOCH # 21\n",
            "weight_decay 0\n",
            "Regularization_type L1\n",
            "BNType BN\n"
          ],
          "name": "stdout"
        },
        {
          "output_type": "stream",
          "text": [
            "TRAINING Loss=0.002103737322613597 batch_id=937 TRAIN ACCURACY=99.25: 100%|██████████| 938/938 [00:18<00:00, 50.53it/s]\n",
            "  0%|          | 0/938 [00:00<?, ?it/s]"
          ],
          "name": "stderr"
        },
        {
          "output_type": "stream",
          "text": [
            "Number of Misclassifed Images =  74\n",
            "\n",
            "TEST: Average loss: 0.0237, Accuracy: 9926/10000 (99.26%)\n",
            "\n",
            "----------------------------------------------------------------------\n",
            "EPOCH # 22\n",
            "weight_decay 0\n",
            "Regularization_type L1\n",
            "BNType BN\n"
          ],
          "name": "stdout"
        },
        {
          "output_type": "stream",
          "text": [
            "TRAINING Loss=0.019651956856250763 batch_id=937 TRAIN ACCURACY=99.19: 100%|██████████| 938/938 [00:18<00:00, 50.24it/s]\n",
            "  0%|          | 0/938 [00:00<?, ?it/s]"
          ],
          "name": "stderr"
        },
        {
          "output_type": "stream",
          "text": [
            "Number of Misclassifed Images =  91\n",
            "\n",
            "TEST: Average loss: 0.0279, Accuracy: 9909/10000 (99.09%)\n",
            "\n",
            "----------------------------------------------------------------------\n",
            "EPOCH # 23\n",
            "weight_decay 0\n",
            "Regularization_type L1\n",
            "BNType BN\n"
          ],
          "name": "stdout"
        },
        {
          "output_type": "stream",
          "text": [
            "TRAINING Loss=0.03245892375707626 batch_id=937 TRAIN ACCURACY=99.20: 100%|██████████| 938/938 [00:18<00:00, 51.00it/s]\n",
            "  0%|          | 0/938 [00:00<?, ?it/s]"
          ],
          "name": "stderr"
        },
        {
          "output_type": "stream",
          "text": [
            "Number of Misclassifed Images =  73\n",
            "\n",
            "TEST: Average loss: 0.0236, Accuracy: 9927/10000 (99.27%)\n",
            "\n",
            "----------------------------------------------------------------------\n",
            "EPOCH # 24\n",
            "weight_decay 0\n",
            "Regularization_type L1\n",
            "BNType BN\n"
          ],
          "name": "stdout"
        },
        {
          "output_type": "stream",
          "text": [
            "TRAINING Loss=0.0006632926524616778 batch_id=937 TRAIN ACCURACY=99.20: 100%|██████████| 938/938 [00:18<00:00, 50.80it/s]\n",
            "  0%|          | 0/938 [00:00<?, ?it/s]"
          ],
          "name": "stderr"
        },
        {
          "output_type": "stream",
          "text": [
            "Number of Misclassifed Images =  81\n",
            "\n",
            "TEST: Average loss: 0.0261, Accuracy: 9919/10000 (99.19%)\n",
            "\n",
            "----------------------------------------------------------------------\n",
            "Regualarization method L2\n",
            "BATCH NORMALIZATION TYPE? BN\n",
            "output_channels:20\n",
            "output_channels:16\n",
            "output_channels:16\n",
            "output_channels:16\n",
            "output_channels:13\n",
            "----------------------------------------------------------------\n",
            "        Layer (type)               Output Shape         Param #\n",
            "================================================================\n",
            "            Conv2d-1           [-1, 20, 26, 26]             200\n",
            "       BatchNorm2d-2           [-1, 20, 26, 26]              40\n",
            "           Dropout-3           [-1, 20, 26, 26]               0\n",
            "              ReLU-4           [-1, 20, 26, 26]               0\n",
            "            Conv2d-5           [-1, 16, 24, 24]           2,896\n",
            "       BatchNorm2d-6           [-1, 16, 24, 24]              32\n",
            "           Dropout-7           [-1, 16, 24, 24]               0\n",
            "              ReLU-8           [-1, 16, 24, 24]               0\n",
            "         MaxPool2d-9           [-1, 16, 12, 12]               0\n",
            "           Conv2d-10           [-1, 16, 10, 10]           2,320\n",
            "      BatchNorm2d-11           [-1, 16, 10, 10]              32\n",
            "          Dropout-12           [-1, 16, 10, 10]               0\n",
            "             ReLU-13           [-1, 16, 10, 10]               0\n",
            "        MaxPool2d-14             [-1, 16, 5, 5]               0\n",
            "           Conv2d-15             [-1, 16, 3, 3]           2,320\n",
            "      BatchNorm2d-16             [-1, 16, 3, 3]              32\n",
            "          Dropout-17             [-1, 16, 3, 3]               0\n",
            "             ReLU-18             [-1, 16, 3, 3]               0\n",
            "           Conv2d-19             [-1, 13, 1, 1]           1,885\n",
            "      BatchNorm2d-20             [-1, 13, 1, 1]              26\n",
            "          Dropout-21             [-1, 13, 1, 1]               0\n",
            "             ReLU-22             [-1, 13, 1, 1]               0\n",
            "           Conv2d-23             [-1, 10, 1, 1]             140\n",
            "================================================================\n",
            "Total params: 9,923\n",
            "Trainable params: 9,923\n",
            "Non-trainable params: 0\n",
            "----------------------------------------------------------------\n",
            "Input size (MB): 0.00\n",
            "Forward/backward pass size (MB): 0.77\n",
            "Params size (MB): 0.04\n",
            "Estimated Total Size (MB): 0.81\n",
            "----------------------------------------------------------------\n",
            "Regularization?? 0\n",
            "EPOCH # 0\n",
            "weight_decay 0.01\n",
            "Regularization_type L2\n",
            "BNType BN\n"
          ],
          "name": "stdout"
        },
        {
          "output_type": "stream",
          "text": [
            "TRAINING Loss=0.20533233880996704 batch_id=937 TRAIN ACCURACY=92.00: 100%|██████████| 938/938 [00:15<00:00, 60.30it/s]\n",
            "  0%|          | 0/938 [00:00<?, ?it/s]"
          ],
          "name": "stderr"
        },
        {
          "output_type": "stream",
          "text": [
            "Number of Misclassifed Images =  163\n",
            "\n",
            "TEST: Average loss: 0.1068, Accuracy: 9837/10000 (98.37%)\n",
            "\n",
            "----------------------------------------------------------------------\n",
            "EPOCH # 1\n",
            "weight_decay 0.01\n",
            "Regularization_type L2\n",
            "BNType BN\n"
          ],
          "name": "stdout"
        },
        {
          "output_type": "stream",
          "text": [
            "TRAINING Loss=0.2083217203617096 batch_id=937 TRAIN ACCURACY=97.42: 100%|██████████| 938/938 [00:17<00:00, 54.60it/s]\n",
            "  0%|          | 0/938 [00:00<?, ?it/s]"
          ],
          "name": "stderr"
        },
        {
          "output_type": "stream",
          "text": [
            "Number of Misclassifed Images =  194\n",
            "\n",
            "TEST: Average loss: 0.1214, Accuracy: 9806/10000 (98.06%)\n",
            "\n",
            "----------------------------------------------------------------------\n",
            "EPOCH # 2\n",
            "weight_decay 0.01\n",
            "Regularization_type L2\n",
            "BNType BN\n"
          ],
          "name": "stdout"
        },
        {
          "output_type": "stream",
          "text": [
            "TRAINING Loss=0.2210034281015396 batch_id=937 TRAIN ACCURACY=97.73: 100%|██████████| 938/938 [00:15<00:00, 59.70it/s]\n",
            "  0%|          | 0/938 [00:00<?, ?it/s]"
          ],
          "name": "stderr"
        },
        {
          "output_type": "stream",
          "text": [
            "Number of Misclassifed Images =  175\n",
            "\n",
            "TEST: Average loss: 0.1142, Accuracy: 9825/10000 (98.25%)\n",
            "\n",
            "----------------------------------------------------------------------\n",
            "EPOCH # 3\n",
            "weight_decay 0.01\n",
            "Regularization_type L2\n",
            "BNType BN\n"
          ],
          "name": "stdout"
        },
        {
          "output_type": "stream",
          "text": [
            "TRAINING Loss=0.08908309042453766 batch_id=937 TRAIN ACCURACY=97.99: 100%|██████████| 938/938 [00:15<00:00, 59.27it/s]\n",
            "  0%|          | 0/938 [00:00<?, ?it/s]"
          ],
          "name": "stderr"
        },
        {
          "output_type": "stream",
          "text": [
            "Number of Misclassifed Images =  142\n",
            "\n",
            "TEST: Average loss: 0.0980, Accuracy: 9858/10000 (98.58%)\n",
            "\n",
            "----------------------------------------------------------------------\n",
            "EPOCH # 4\n",
            "weight_decay 0.01\n",
            "Regularization_type L2\n",
            "BNType BN\n"
          ],
          "name": "stdout"
        },
        {
          "output_type": "stream",
          "text": [
            "TRAINING Loss=0.13586561381816864 batch_id=937 TRAIN ACCURACY=97.84: 100%|██████████| 938/938 [00:15<00:00, 59.26it/s]\n",
            "  0%|          | 0/938 [00:00<?, ?it/s]"
          ],
          "name": "stderr"
        },
        {
          "output_type": "stream",
          "text": [
            "Number of Misclassifed Images =  108\n",
            "\n",
            "TEST: Average loss: 0.0917, Accuracy: 9892/10000 (98.92%)\n",
            "\n",
            "----------------------------------------------------------------------\n",
            "EPOCH # 5\n",
            "weight_decay 0.01\n",
            "Regularization_type L2\n",
            "BNType BN\n"
          ],
          "name": "stdout"
        },
        {
          "output_type": "stream",
          "text": [
            "TRAINING Loss=0.10516136884689331 batch_id=937 TRAIN ACCURACY=98.01: 100%|██████████| 938/938 [00:16<00:00, 58.25it/s]\n",
            "  0%|          | 0/938 [00:00<?, ?it/s]"
          ],
          "name": "stderr"
        },
        {
          "output_type": "stream",
          "text": [
            "Number of Misclassifed Images =  117\n",
            "\n",
            "TEST: Average loss: 0.0774, Accuracy: 9883/10000 (98.83%)\n",
            "\n",
            "----------------------------------------------------------------------\n",
            "EPOCH # 6\n",
            "weight_decay 0.01\n",
            "Regularization_type L2\n",
            "BNType BN\n"
          ],
          "name": "stdout"
        },
        {
          "output_type": "stream",
          "text": [
            "TRAINING Loss=0.1321689337491989 batch_id=937 TRAIN ACCURACY=97.99: 100%|██████████| 938/938 [00:15<00:00, 59.16it/s]\n",
            "  0%|          | 0/938 [00:00<?, ?it/s]"
          ],
          "name": "stderr"
        },
        {
          "output_type": "stream",
          "text": [
            "Number of Misclassifed Images =  156\n",
            "\n",
            "TEST: Average loss: 0.1028, Accuracy: 9844/10000 (98.44%)\n",
            "\n",
            "----------------------------------------------------------------------\n",
            "EPOCH # 7\n",
            "weight_decay 0.01\n",
            "Regularization_type L2\n",
            "BNType BN\n"
          ],
          "name": "stdout"
        },
        {
          "output_type": "stream",
          "text": [
            "TRAINING Loss=0.08871427178382874 batch_id=937 TRAIN ACCURACY=98.00: 100%|██████████| 938/938 [00:15<00:00, 59.74it/s]\n",
            "  0%|          | 0/938 [00:00<?, ?it/s]"
          ],
          "name": "stderr"
        },
        {
          "output_type": "stream",
          "text": [
            "Number of Misclassifed Images =  173\n",
            "\n",
            "TEST: Average loss: 0.0910, Accuracy: 9827/10000 (98.27%)\n",
            "\n",
            "----------------------------------------------------------------------\n",
            "EPOCH # 8\n",
            "weight_decay 0.01\n",
            "Regularization_type L2\n",
            "BNType BN\n"
          ],
          "name": "stdout"
        },
        {
          "output_type": "stream",
          "text": [
            "TRAINING Loss=0.20698659121990204 batch_id=937 TRAIN ACCURACY=98.10: 100%|██████████| 938/938 [00:15<00:00, 59.43it/s]\n",
            "  0%|          | 0/938 [00:00<?, ?it/s]"
          ],
          "name": "stderr"
        },
        {
          "output_type": "stream",
          "text": [
            "Number of Misclassifed Images =  142\n",
            "\n",
            "TEST: Average loss: 0.0837, Accuracy: 9858/10000 (98.58%)\n",
            "\n",
            "----------------------------------------------------------------------\n",
            "EPOCH # 9\n",
            "weight_decay 0.01\n",
            "Regularization_type L2\n",
            "BNType BN\n"
          ],
          "name": "stdout"
        },
        {
          "output_type": "stream",
          "text": [
            "TRAINING Loss=0.2721366882324219 batch_id=937 TRAIN ACCURACY=98.07: 100%|██████████| 938/938 [00:15<00:00, 59.53it/s]\n",
            "  0%|          | 0/938 [00:00<?, ?it/s]"
          ],
          "name": "stderr"
        },
        {
          "output_type": "stream",
          "text": [
            "Number of Misclassifed Images =  118\n",
            "\n",
            "TEST: Average loss: 0.0822, Accuracy: 9882/10000 (98.82%)\n",
            "\n",
            "----------------------------------------------------------------------\n",
            "EPOCH # 10\n",
            "weight_decay 0.01\n",
            "Regularization_type L2\n",
            "BNType BN\n"
          ],
          "name": "stdout"
        },
        {
          "output_type": "stream",
          "text": [
            "TRAINING Loss=0.1533348262310028 batch_id=937 TRAIN ACCURACY=98.10: 100%|██████████| 938/938 [00:16<00:00, 58.15it/s]\n",
            "  0%|          | 0/938 [00:00<?, ?it/s]"
          ],
          "name": "stderr"
        },
        {
          "output_type": "stream",
          "text": [
            "Number of Misclassifed Images =  124\n",
            "\n",
            "TEST: Average loss: 0.0916, Accuracy: 9876/10000 (98.76%)\n",
            "\n",
            "----------------------------------------------------------------------\n",
            "EPOCH # 11\n",
            "weight_decay 0.01\n",
            "Regularization_type L2\n",
            "BNType BN\n"
          ],
          "name": "stdout"
        },
        {
          "output_type": "stream",
          "text": [
            "TRAINING Loss=0.07381021231412888 batch_id=937 TRAIN ACCURACY=97.96: 100%|██████████| 938/938 [00:15<00:00, 59.41it/s]\n",
            "  0%|          | 0/938 [00:00<?, ?it/s]"
          ],
          "name": "stderr"
        },
        {
          "output_type": "stream",
          "text": [
            "Number of Misclassifed Images =  230\n",
            "\n",
            "TEST: Average loss: 0.1282, Accuracy: 9770/10000 (97.70%)\n",
            "\n",
            "----------------------------------------------------------------------\n",
            "EPOCH # 12\n",
            "weight_decay 0.01\n",
            "Regularization_type L2\n",
            "BNType BN\n"
          ],
          "name": "stdout"
        },
        {
          "output_type": "stream",
          "text": [
            "TRAINING Loss=0.10670851171016693 batch_id=937 TRAIN ACCURACY=98.03: 100%|██████████| 938/938 [00:15<00:00, 60.25it/s]\n",
            "  0%|          | 0/938 [00:00<?, ?it/s]"
          ],
          "name": "stderr"
        },
        {
          "output_type": "stream",
          "text": [
            "Number of Misclassifed Images =  131\n",
            "\n",
            "TEST: Average loss: 0.0864, Accuracy: 9869/10000 (98.69%)\n",
            "\n",
            "----------------------------------------------------------------------\n",
            "EPOCH # 13\n",
            "weight_decay 0.01\n",
            "Regularization_type L2\n",
            "BNType BN\n"
          ],
          "name": "stdout"
        },
        {
          "output_type": "stream",
          "text": [
            "TRAINING Loss=0.10318982601165771 batch_id=937 TRAIN ACCURACY=97.93: 100%|██████████| 938/938 [00:15<00:00, 59.49it/s]\n",
            "  0%|          | 0/938 [00:00<?, ?it/s]"
          ],
          "name": "stderr"
        },
        {
          "output_type": "stream",
          "text": [
            "Number of Misclassifed Images =  135\n",
            "\n",
            "TEST: Average loss: 0.0861, Accuracy: 9865/10000 (98.65%)\n",
            "\n",
            "----------------------------------------------------------------------\n",
            "EPOCH # 14\n",
            "weight_decay 0.01\n",
            "Regularization_type L2\n",
            "BNType BN\n"
          ],
          "name": "stdout"
        },
        {
          "output_type": "stream",
          "text": [
            "TRAINING Loss=0.12885180115699768 batch_id=937 TRAIN ACCURACY=98.08: 100%|██████████| 938/938 [00:15<00:00, 60.53it/s]\n",
            "  0%|          | 0/938 [00:00<?, ?it/s]"
          ],
          "name": "stderr"
        },
        {
          "output_type": "stream",
          "text": [
            "Number of Misclassifed Images =  276\n",
            "\n",
            "TEST: Average loss: 0.1515, Accuracy: 9724/10000 (97.24%)\n",
            "\n",
            "----------------------------------------------------------------------\n",
            "EPOCH # 15\n",
            "weight_decay 0.01\n",
            "Regularization_type L2\n",
            "BNType BN\n"
          ],
          "name": "stdout"
        },
        {
          "output_type": "stream",
          "text": [
            "TRAINING Loss=0.12287336587905884 batch_id=937 TRAIN ACCURACY=98.01: 100%|██████████| 938/938 [00:15<00:00, 60.56it/s]\n",
            "  0%|          | 0/938 [00:00<?, ?it/s]"
          ],
          "name": "stderr"
        },
        {
          "output_type": "stream",
          "text": [
            "Number of Misclassifed Images =  147\n",
            "\n",
            "TEST: Average loss: 0.0910, Accuracy: 9853/10000 (98.53%)\n",
            "\n",
            "----------------------------------------------------------------------\n",
            "EPOCH # 16\n",
            "weight_decay 0.01\n",
            "Regularization_type L2\n",
            "BNType BN\n"
          ],
          "name": "stdout"
        },
        {
          "output_type": "stream",
          "text": [
            "TRAINING Loss=0.09930092096328735 batch_id=937 TRAIN ACCURACY=97.99: 100%|██████████| 938/938 [00:15<00:00, 60.60it/s]\n",
            "  0%|          | 0/938 [00:00<?, ?it/s]"
          ],
          "name": "stderr"
        },
        {
          "output_type": "stream",
          "text": [
            "Number of Misclassifed Images =  126\n",
            "\n",
            "TEST: Average loss: 0.1018, Accuracy: 9874/10000 (98.74%)\n",
            "\n",
            "----------------------------------------------------------------------\n",
            "EPOCH # 17\n",
            "weight_decay 0.01\n",
            "Regularization_type L2\n",
            "BNType BN\n"
          ],
          "name": "stdout"
        },
        {
          "output_type": "stream",
          "text": [
            "TRAINING Loss=0.1751498579978943 batch_id=937 TRAIN ACCURACY=98.02: 100%|██████████| 938/938 [00:15<00:00, 60.46it/s]\n",
            "  0%|          | 0/938 [00:00<?, ?it/s]"
          ],
          "name": "stderr"
        },
        {
          "output_type": "stream",
          "text": [
            "Number of Misclassifed Images =  151\n",
            "\n",
            "TEST: Average loss: 0.0915, Accuracy: 9849/10000 (98.49%)\n",
            "\n",
            "----------------------------------------------------------------------\n",
            "EPOCH # 18\n",
            "weight_decay 0.01\n",
            "Regularization_type L2\n",
            "BNType BN\n"
          ],
          "name": "stdout"
        },
        {
          "output_type": "stream",
          "text": [
            "TRAINING Loss=0.18149593472480774 batch_id=937 TRAIN ACCURACY=98.01: 100%|██████████| 938/938 [00:15<00:00, 60.98it/s]\n",
            "  0%|          | 0/938 [00:00<?, ?it/s]"
          ],
          "name": "stderr"
        },
        {
          "output_type": "stream",
          "text": [
            "Number of Misclassifed Images =  124\n",
            "\n",
            "TEST: Average loss: 0.0801, Accuracy: 9876/10000 (98.76%)\n",
            "\n",
            "----------------------------------------------------------------------\n",
            "EPOCH # 19\n",
            "weight_decay 0.01\n",
            "Regularization_type L2\n",
            "BNType BN\n"
          ],
          "name": "stdout"
        },
        {
          "output_type": "stream",
          "text": [
            "TRAINING Loss=0.093233123421669 batch_id=937 TRAIN ACCURACY=97.98: 100%|██████████| 938/938 [00:15<00:00, 60.83it/s]\n",
            "  0%|          | 0/938 [00:00<?, ?it/s]"
          ],
          "name": "stderr"
        },
        {
          "output_type": "stream",
          "text": [
            "Number of Misclassifed Images =  133\n",
            "\n",
            "TEST: Average loss: 0.0887, Accuracy: 9867/10000 (98.67%)\n",
            "\n",
            "----------------------------------------------------------------------\n",
            "EPOCH # 20\n",
            "weight_decay 0.01\n",
            "Regularization_type L2\n",
            "BNType BN\n"
          ],
          "name": "stdout"
        },
        {
          "output_type": "stream",
          "text": [
            "TRAINING Loss=0.14688166975975037 batch_id=937 TRAIN ACCURACY=98.04: 100%|██████████| 938/938 [00:15<00:00, 60.54it/s]\n",
            "  0%|          | 0/938 [00:00<?, ?it/s]"
          ],
          "name": "stderr"
        },
        {
          "output_type": "stream",
          "text": [
            "Number of Misclassifed Images =  128\n",
            "\n",
            "TEST: Average loss: 0.0961, Accuracy: 9872/10000 (98.72%)\n",
            "\n",
            "----------------------------------------------------------------------\n",
            "EPOCH # 21\n",
            "weight_decay 0.01\n",
            "Regularization_type L2\n",
            "BNType BN\n"
          ],
          "name": "stdout"
        },
        {
          "output_type": "stream",
          "text": [
            "TRAINING Loss=0.09670761227607727 batch_id=937 TRAIN ACCURACY=98.14: 100%|██████████| 938/938 [00:15<00:00, 61.15it/s]\n",
            "  0%|          | 0/938 [00:00<?, ?it/s]"
          ],
          "name": "stderr"
        },
        {
          "output_type": "stream",
          "text": [
            "Number of Misclassifed Images =  148\n",
            "\n",
            "TEST: Average loss: 0.0927, Accuracy: 9852/10000 (98.52%)\n",
            "\n",
            "----------------------------------------------------------------------\n",
            "EPOCH # 22\n",
            "weight_decay 0.01\n",
            "Regularization_type L2\n",
            "BNType BN\n"
          ],
          "name": "stdout"
        },
        {
          "output_type": "stream",
          "text": [
            "TRAINING Loss=0.10872171819210052 batch_id=937 TRAIN ACCURACY=98.05: 100%|██████████| 938/938 [00:15<00:00, 60.72it/s]\n",
            "  0%|          | 0/938 [00:00<?, ?it/s]"
          ],
          "name": "stderr"
        },
        {
          "output_type": "stream",
          "text": [
            "Number of Misclassifed Images =  158\n",
            "\n",
            "TEST: Average loss: 0.1024, Accuracy: 9842/10000 (98.42%)\n",
            "\n",
            "----------------------------------------------------------------------\n",
            "EPOCH # 23\n",
            "weight_decay 0.01\n",
            "Regularization_type L2\n",
            "BNType BN\n"
          ],
          "name": "stdout"
        },
        {
          "output_type": "stream",
          "text": [
            "TRAINING Loss=0.24758045375347137 batch_id=937 TRAIN ACCURACY=98.17: 100%|██████████| 938/938 [00:15<00:00, 59.17it/s]\n",
            "  0%|          | 0/938 [00:00<?, ?it/s]"
          ],
          "name": "stderr"
        },
        {
          "output_type": "stream",
          "text": [
            "Number of Misclassifed Images =  156\n",
            "\n",
            "TEST: Average loss: 0.1001, Accuracy: 9844/10000 (98.44%)\n",
            "\n",
            "----------------------------------------------------------------------\n",
            "EPOCH # 24\n",
            "weight_decay 0.01\n",
            "Regularization_type L2\n",
            "BNType BN\n"
          ],
          "name": "stdout"
        },
        {
          "output_type": "stream",
          "text": [
            "TRAINING Loss=0.14797775447368622 batch_id=937 TRAIN ACCURACY=98.04: 100%|██████████| 938/938 [00:15<00:00, 61.15it/s]\n",
            "  0%|          | 0/938 [00:00<?, ?it/s]"
          ],
          "name": "stderr"
        },
        {
          "output_type": "stream",
          "text": [
            "Number of Misclassifed Images =  121\n",
            "\n",
            "TEST: Average loss: 0.0695, Accuracy: 9879/10000 (98.79%)\n",
            "\n",
            "----------------------------------------------------------------------\n",
            "Regualarization method L1L2\n",
            "BATCH NORMALIZATION TYPE? BN\n",
            "output_channels:20\n",
            "output_channels:16\n",
            "output_channels:16\n",
            "output_channels:16\n",
            "output_channels:13\n",
            "----------------------------------------------------------------\n",
            "        Layer (type)               Output Shape         Param #\n",
            "================================================================\n",
            "            Conv2d-1           [-1, 20, 26, 26]             200\n",
            "       BatchNorm2d-2           [-1, 20, 26, 26]              40\n",
            "           Dropout-3           [-1, 20, 26, 26]               0\n",
            "              ReLU-4           [-1, 20, 26, 26]               0\n",
            "            Conv2d-5           [-1, 16, 24, 24]           2,896\n",
            "       BatchNorm2d-6           [-1, 16, 24, 24]              32\n",
            "           Dropout-7           [-1, 16, 24, 24]               0\n",
            "              ReLU-8           [-1, 16, 24, 24]               0\n",
            "         MaxPool2d-9           [-1, 16, 12, 12]               0\n",
            "           Conv2d-10           [-1, 16, 10, 10]           2,320\n",
            "      BatchNorm2d-11           [-1, 16, 10, 10]              32\n",
            "          Dropout-12           [-1, 16, 10, 10]               0\n",
            "             ReLU-13           [-1, 16, 10, 10]               0\n",
            "        MaxPool2d-14             [-1, 16, 5, 5]               0\n",
            "           Conv2d-15             [-1, 16, 3, 3]           2,320\n",
            "      BatchNorm2d-16             [-1, 16, 3, 3]              32\n",
            "          Dropout-17             [-1, 16, 3, 3]               0\n",
            "             ReLU-18             [-1, 16, 3, 3]               0\n",
            "           Conv2d-19             [-1, 13, 1, 1]           1,885\n",
            "      BatchNorm2d-20             [-1, 13, 1, 1]              26\n",
            "          Dropout-21             [-1, 13, 1, 1]               0\n",
            "             ReLU-22             [-1, 13, 1, 1]               0\n",
            "           Conv2d-23             [-1, 10, 1, 1]             140\n",
            "================================================================\n",
            "Total params: 9,923\n",
            "Trainable params: 9,923\n",
            "Non-trainable params: 0\n",
            "----------------------------------------------------------------\n",
            "Input size (MB): 0.00\n",
            "Forward/backward pass size (MB): 0.77\n",
            "Params size (MB): 0.04\n",
            "Estimated Total Size (MB): 0.81\n",
            "----------------------------------------------------------------\n",
            "Regularization?? 0\n",
            "EPOCH # 0\n",
            "weight_decay 0.01\n",
            "Regularization_type L1L2\n",
            "BNType BN\n"
          ],
          "name": "stdout"
        },
        {
          "output_type": "stream",
          "text": [
            "TRAINING Loss=0.19624577462673187 batch_id=937 TRAIN ACCURACY=92.96: 100%|██████████| 938/938 [00:18<00:00, 50.89it/s]\n",
            "  0%|          | 0/938 [00:00<?, ?it/s]"
          ],
          "name": "stderr"
        },
        {
          "output_type": "stream",
          "text": [
            "Number of Misclassifed Images =  155\n",
            "\n",
            "TEST: Average loss: 0.1025, Accuracy: 9845/10000 (98.45%)\n",
            "\n",
            "----------------------------------------------------------------------\n",
            "EPOCH # 1\n",
            "weight_decay 0.01\n",
            "Regularization_type L1L2\n",
            "BNType BN\n"
          ],
          "name": "stdout"
        },
        {
          "output_type": "stream",
          "text": [
            "TRAINING Loss=0.19532229006290436 batch_id=937 TRAIN ACCURACY=97.27: 100%|██████████| 938/938 [00:18<00:00, 51.28it/s]\n",
            "  0%|          | 0/938 [00:00<?, ?it/s]"
          ],
          "name": "stderr"
        },
        {
          "output_type": "stream",
          "text": [
            "Number of Misclassifed Images =  160\n",
            "\n",
            "TEST: Average loss: 0.1079, Accuracy: 9840/10000 (98.40%)\n",
            "\n",
            "----------------------------------------------------------------------\n",
            "EPOCH # 2\n",
            "weight_decay 0.01\n",
            "Regularization_type L1L2\n",
            "BNType BN\n"
          ],
          "name": "stdout"
        },
        {
          "output_type": "stream",
          "text": [
            "TRAINING Loss=0.2379618138074875 batch_id=937 TRAIN ACCURACY=97.60: 100%|██████████| 938/938 [00:18<00:00, 50.17it/s]\n",
            "  0%|          | 0/938 [00:00<?, ?it/s]"
          ],
          "name": "stderr"
        },
        {
          "output_type": "stream",
          "text": [
            "Number of Misclassifed Images =  137\n",
            "\n",
            "TEST: Average loss: 0.0880, Accuracy: 9863/10000 (98.63%)\n",
            "\n",
            "----------------------------------------------------------------------\n",
            "EPOCH # 3\n",
            "weight_decay 0.01\n",
            "Regularization_type L1L2\n",
            "BNType BN\n"
          ],
          "name": "stdout"
        },
        {
          "output_type": "stream",
          "text": [
            "TRAINING Loss=0.13527588546276093 batch_id=937 TRAIN ACCURACY=97.65: 100%|██████████| 938/938 [00:18<00:00, 50.71it/s]\n",
            "  0%|          | 0/938 [00:00<?, ?it/s]"
          ],
          "name": "stderr"
        },
        {
          "output_type": "stream",
          "text": [
            "Number of Misclassifed Images =  135\n",
            "\n",
            "TEST: Average loss: 0.0894, Accuracy: 9865/10000 (98.65%)\n",
            "\n",
            "----------------------------------------------------------------------\n",
            "EPOCH # 4\n",
            "weight_decay 0.01\n",
            "Regularization_type L1L2\n",
            "BNType BN\n"
          ],
          "name": "stdout"
        },
        {
          "output_type": "stream",
          "text": [
            "TRAINING Loss=0.13504384458065033 batch_id=937 TRAIN ACCURACY=97.73: 100%|██████████| 938/938 [00:18<00:00, 50.88it/s]\n",
            "  0%|          | 0/938 [00:00<?, ?it/s]"
          ],
          "name": "stderr"
        },
        {
          "output_type": "stream",
          "text": [
            "Number of Misclassifed Images =  149\n",
            "\n",
            "TEST: Average loss: 0.0897, Accuracy: 9851/10000 (98.51%)\n",
            "\n",
            "----------------------------------------------------------------------\n",
            "EPOCH # 5\n",
            "weight_decay 0.01\n",
            "Regularization_type L1L2\n",
            "BNType BN\n"
          ],
          "name": "stdout"
        },
        {
          "output_type": "stream",
          "text": [
            "TRAINING Loss=0.14925292134284973 batch_id=937 TRAIN ACCURACY=97.84: 100%|██████████| 938/938 [00:18<00:00, 50.57it/s]\n",
            "  0%|          | 0/938 [00:00<?, ?it/s]"
          ],
          "name": "stderr"
        },
        {
          "output_type": "stream",
          "text": [
            "Number of Misclassifed Images =  171\n",
            "\n",
            "TEST: Average loss: 0.0923, Accuracy: 9829/10000 (98.29%)\n",
            "\n",
            "----------------------------------------------------------------------\n",
            "EPOCH # 6\n",
            "weight_decay 0.01\n",
            "Regularization_type L1L2\n",
            "BNType BN\n"
          ],
          "name": "stdout"
        },
        {
          "output_type": "stream",
          "text": [
            "TRAINING Loss=0.15588130056858063 batch_id=937 TRAIN ACCURACY=97.83: 100%|██████████| 938/938 [00:18<00:00, 50.94it/s]\n",
            "  0%|          | 0/938 [00:00<?, ?it/s]"
          ],
          "name": "stderr"
        },
        {
          "output_type": "stream",
          "text": [
            "Number of Misclassifed Images =  101\n",
            "\n",
            "TEST: Average loss: 0.0773, Accuracy: 9899/10000 (98.99%)\n",
            "\n",
            "----------------------------------------------------------------------\n",
            "EPOCH # 7\n",
            "weight_decay 0.01\n",
            "Regularization_type L1L2\n",
            "BNType BN\n"
          ],
          "name": "stdout"
        },
        {
          "output_type": "stream",
          "text": [
            "TRAINING Loss=0.15047872066497803 batch_id=937 TRAIN ACCURACY=97.87: 100%|██████████| 938/938 [00:18<00:00, 50.43it/s]\n",
            "  0%|          | 0/938 [00:00<?, ?it/s]"
          ],
          "name": "stderr"
        },
        {
          "output_type": "stream",
          "text": [
            "Number of Misclassifed Images =  149\n",
            "\n",
            "TEST: Average loss: 0.0880, Accuracy: 9851/10000 (98.51%)\n",
            "\n",
            "----------------------------------------------------------------------\n",
            "EPOCH # 8\n",
            "weight_decay 0.01\n",
            "Regularization_type L1L2\n",
            "BNType BN\n"
          ],
          "name": "stdout"
        },
        {
          "output_type": "stream",
          "text": [
            "TRAINING Loss=0.045945215970277786 batch_id=937 TRAIN ACCURACY=97.94: 100%|██████████| 938/938 [00:18<00:00, 50.04it/s]\n",
            "  0%|          | 0/938 [00:00<?, ?it/s]"
          ],
          "name": "stderr"
        },
        {
          "output_type": "stream",
          "text": [
            "Number of Misclassifed Images =  128\n",
            "\n",
            "TEST: Average loss: 0.0903, Accuracy: 9872/10000 (98.72%)\n",
            "\n",
            "----------------------------------------------------------------------\n",
            "EPOCH # 9\n",
            "weight_decay 0.01\n",
            "Regularization_type L1L2\n",
            "BNType BN\n"
          ],
          "name": "stdout"
        },
        {
          "output_type": "stream",
          "text": [
            "TRAINING Loss=0.2306639701128006 batch_id=937 TRAIN ACCURACY=97.95: 100%|██████████| 938/938 [00:18<00:00, 50.92it/s]\n",
            "  0%|          | 0/938 [00:00<?, ?it/s]"
          ],
          "name": "stderr"
        },
        {
          "output_type": "stream",
          "text": [
            "Number of Misclassifed Images =  139\n",
            "\n",
            "TEST: Average loss: 0.1012, Accuracy: 9861/10000 (98.61%)\n",
            "\n",
            "----------------------------------------------------------------------\n",
            "EPOCH # 10\n",
            "weight_decay 0.01\n",
            "Regularization_type L1L2\n",
            "BNType BN\n"
          ],
          "name": "stdout"
        },
        {
          "output_type": "stream",
          "text": [
            "TRAINING Loss=0.18601667881011963 batch_id=937 TRAIN ACCURACY=97.88: 100%|██████████| 938/938 [00:18<00:00, 50.54it/s]\n",
            "  0%|          | 0/938 [00:00<?, ?it/s]"
          ],
          "name": "stderr"
        },
        {
          "output_type": "stream",
          "text": [
            "Number of Misclassifed Images =  120\n",
            "\n",
            "TEST: Average loss: 0.0694, Accuracy: 9880/10000 (98.80%)\n",
            "\n",
            "----------------------------------------------------------------------\n",
            "EPOCH # 11\n",
            "weight_decay 0.01\n",
            "Regularization_type L1L2\n",
            "BNType BN\n"
          ],
          "name": "stdout"
        },
        {
          "output_type": "stream",
          "text": [
            "TRAINING Loss=0.11470203846693039 batch_id=937 TRAIN ACCURACY=97.91: 100%|██████████| 938/938 [00:18<00:00, 50.76it/s]\n",
            "  0%|          | 0/938 [00:00<?, ?it/s]"
          ],
          "name": "stderr"
        },
        {
          "output_type": "stream",
          "text": [
            "Number of Misclassifed Images =  131\n",
            "\n",
            "TEST: Average loss: 0.0846, Accuracy: 9869/10000 (98.69%)\n",
            "\n",
            "----------------------------------------------------------------------\n",
            "EPOCH # 12\n",
            "weight_decay 0.01\n",
            "Regularization_type L1L2\n",
            "BNType BN\n"
          ],
          "name": "stdout"
        },
        {
          "output_type": "stream",
          "text": [
            "TRAINING Loss=0.4156770408153534 batch_id=937 TRAIN ACCURACY=97.85: 100%|██████████| 938/938 [00:18<00:00, 50.96it/s]\n",
            "  0%|          | 0/938 [00:00<?, ?it/s]"
          ],
          "name": "stderr"
        },
        {
          "output_type": "stream",
          "text": [
            "Number of Misclassifed Images =  153\n",
            "\n",
            "TEST: Average loss: 0.1018, Accuracy: 9847/10000 (98.47%)\n",
            "\n",
            "----------------------------------------------------------------------\n",
            "EPOCH # 13\n",
            "weight_decay 0.01\n",
            "Regularization_type L1L2\n",
            "BNType BN\n"
          ],
          "name": "stdout"
        },
        {
          "output_type": "stream",
          "text": [
            "TRAINING Loss=0.2062905728816986 batch_id=937 TRAIN ACCURACY=97.94: 100%|██████████| 938/938 [00:18<00:00, 50.19it/s]\n",
            "  0%|          | 0/938 [00:00<?, ?it/s]"
          ],
          "name": "stderr"
        },
        {
          "output_type": "stream",
          "text": [
            "Number of Misclassifed Images =  151\n",
            "\n",
            "TEST: Average loss: 0.1021, Accuracy: 9849/10000 (98.49%)\n",
            "\n",
            "----------------------------------------------------------------------\n",
            "EPOCH # 14\n",
            "weight_decay 0.01\n",
            "Regularization_type L1L2\n",
            "BNType BN\n"
          ],
          "name": "stdout"
        },
        {
          "output_type": "stream",
          "text": [
            "TRAINING Loss=0.26347583532333374 batch_id=937 TRAIN ACCURACY=97.93: 100%|██████████| 938/938 [00:18<00:00, 50.65it/s]\n",
            "  0%|          | 0/938 [00:00<?, ?it/s]"
          ],
          "name": "stderr"
        },
        {
          "output_type": "stream",
          "text": [
            "Number of Misclassifed Images =  161\n",
            "\n",
            "TEST: Average loss: 0.0935, Accuracy: 9839/10000 (98.39%)\n",
            "\n",
            "----------------------------------------------------------------------\n",
            "EPOCH # 15\n",
            "weight_decay 0.01\n",
            "Regularization_type L1L2\n",
            "BNType BN\n"
          ],
          "name": "stdout"
        },
        {
          "output_type": "stream",
          "text": [
            "TRAINING Loss=0.43610861897468567 batch_id=937 TRAIN ACCURACY=97.91: 100%|██████████| 938/938 [00:18<00:00, 50.50it/s]\n",
            "  0%|          | 0/938 [00:00<?, ?it/s]"
          ],
          "name": "stderr"
        },
        {
          "output_type": "stream",
          "text": [
            "Number of Misclassifed Images =  124\n",
            "\n",
            "TEST: Average loss: 0.0846, Accuracy: 9876/10000 (98.76%)\n",
            "\n",
            "----------------------------------------------------------------------\n",
            "EPOCH # 16\n",
            "weight_decay 0.01\n",
            "Regularization_type L1L2\n",
            "BNType BN\n"
          ],
          "name": "stdout"
        },
        {
          "output_type": "stream",
          "text": [
            "TRAINING Loss=0.11383774876594543 batch_id=937 TRAIN ACCURACY=97.94: 100%|██████████| 938/938 [00:18<00:00, 50.35it/s]\n",
            "  0%|          | 0/938 [00:00<?, ?it/s]"
          ],
          "name": "stderr"
        },
        {
          "output_type": "stream",
          "text": [
            "Number of Misclassifed Images =  124\n",
            "\n",
            "TEST: Average loss: 0.0889, Accuracy: 9876/10000 (98.76%)\n",
            "\n",
            "----------------------------------------------------------------------\n",
            "EPOCH # 17\n",
            "weight_decay 0.01\n",
            "Regularization_type L1L2\n",
            "BNType BN\n"
          ],
          "name": "stdout"
        },
        {
          "output_type": "stream",
          "text": [
            "TRAINING Loss=0.14150334894657135 batch_id=937 TRAIN ACCURACY=97.99: 100%|██████████| 938/938 [00:18<00:00, 50.08it/s]\n",
            "  0%|          | 0/938 [00:00<?, ?it/s]"
          ],
          "name": "stderr"
        },
        {
          "output_type": "stream",
          "text": [
            "Number of Misclassifed Images =  135\n",
            "\n",
            "TEST: Average loss: 0.0889, Accuracy: 9865/10000 (98.65%)\n",
            "\n",
            "----------------------------------------------------------------------\n",
            "EPOCH # 18\n",
            "weight_decay 0.01\n",
            "Regularization_type L1L2\n",
            "BNType BN\n"
          ],
          "name": "stdout"
        },
        {
          "output_type": "stream",
          "text": [
            "TRAINING Loss=0.07702694088220596 batch_id=937 TRAIN ACCURACY=97.90: 100%|██████████| 938/938 [00:18<00:00, 50.30it/s]\n",
            "  0%|          | 0/938 [00:00<?, ?it/s]"
          ],
          "name": "stderr"
        },
        {
          "output_type": "stream",
          "text": [
            "Number of Misclassifed Images =  159\n",
            "\n",
            "TEST: Average loss: 0.0984, Accuracy: 9841/10000 (98.41%)\n",
            "\n",
            "----------------------------------------------------------------------\n",
            "EPOCH # 19\n",
            "weight_decay 0.01\n",
            "Regularization_type L1L2\n",
            "BNType BN\n"
          ],
          "name": "stdout"
        },
        {
          "output_type": "stream",
          "text": [
            "TRAINING Loss=0.1001787781715393 batch_id=937 TRAIN ACCURACY=97.92: 100%|██████████| 938/938 [00:18<00:00, 49.45it/s]\n",
            "  0%|          | 0/938 [00:00<?, ?it/s]"
          ],
          "name": "stderr"
        },
        {
          "output_type": "stream",
          "text": [
            "Number of Misclassifed Images =  125\n",
            "\n",
            "TEST: Average loss: 0.0774, Accuracy: 9875/10000 (98.75%)\n",
            "\n",
            "----------------------------------------------------------------------\n",
            "EPOCH # 20\n",
            "weight_decay 0.01\n",
            "Regularization_type L1L2\n",
            "BNType BN\n"
          ],
          "name": "stdout"
        },
        {
          "output_type": "stream",
          "text": [
            "TRAINING Loss=0.16434796154499054 batch_id=937 TRAIN ACCURACY=97.93: 100%|██████████| 938/938 [00:18<00:00, 50.66it/s]\n",
            "  0%|          | 0/938 [00:00<?, ?it/s]"
          ],
          "name": "stderr"
        },
        {
          "output_type": "stream",
          "text": [
            "Number of Misclassifed Images =  184\n",
            "\n",
            "TEST: Average loss: 0.1177, Accuracy: 9816/10000 (98.16%)\n",
            "\n",
            "----------------------------------------------------------------------\n",
            "EPOCH # 21\n",
            "weight_decay 0.01\n",
            "Regularization_type L1L2\n",
            "BNType BN\n"
          ],
          "name": "stdout"
        },
        {
          "output_type": "stream",
          "text": [
            "TRAINING Loss=0.09628842025995255 batch_id=937 TRAIN ACCURACY=97.86: 100%|██████████| 938/938 [00:18<00:00, 50.69it/s]\n",
            "  0%|          | 0/938 [00:00<?, ?it/s]"
          ],
          "name": "stderr"
        },
        {
          "output_type": "stream",
          "text": [
            "Number of Misclassifed Images =  199\n",
            "\n",
            "TEST: Average loss: 0.1178, Accuracy: 9801/10000 (98.01%)\n",
            "\n",
            "----------------------------------------------------------------------\n",
            "EPOCH # 22\n",
            "weight_decay 0.01\n",
            "Regularization_type L1L2\n",
            "BNType BN\n"
          ],
          "name": "stdout"
        },
        {
          "output_type": "stream",
          "text": [
            "TRAINING Loss=0.3108471930027008 batch_id=937 TRAIN ACCURACY=97.96: 100%|██████████| 938/938 [00:18<00:00, 50.17it/s]\n",
            "  0%|          | 0/938 [00:00<?, ?it/s]"
          ],
          "name": "stderr"
        },
        {
          "output_type": "stream",
          "text": [
            "Number of Misclassifed Images =  154\n",
            "\n",
            "TEST: Average loss: 0.1013, Accuracy: 9846/10000 (98.46%)\n",
            "\n",
            "----------------------------------------------------------------------\n",
            "EPOCH # 23\n",
            "weight_decay 0.01\n",
            "Regularization_type L1L2\n",
            "BNType BN\n"
          ],
          "name": "stdout"
        },
        {
          "output_type": "stream",
          "text": [
            "TRAINING Loss=0.11749061942100525 batch_id=937 TRAIN ACCURACY=97.92: 100%|██████████| 938/938 [00:18<00:00, 50.76it/s]\n",
            "  0%|          | 0/938 [00:00<?, ?it/s]"
          ],
          "name": "stderr"
        },
        {
          "output_type": "stream",
          "text": [
            "Number of Misclassifed Images =  103\n",
            "\n",
            "TEST: Average loss: 0.0911, Accuracy: 9897/10000 (98.97%)\n",
            "\n",
            "----------------------------------------------------------------------\n",
            "EPOCH # 24\n",
            "weight_decay 0.01\n",
            "Regularization_type L1L2\n",
            "BNType BN\n"
          ],
          "name": "stdout"
        },
        {
          "output_type": "stream",
          "text": [
            "TRAINING Loss=0.07498808205127716 batch_id=937 TRAIN ACCURACY=97.81: 100%|██████████| 938/938 [00:18<00:00, 51.27it/s]\n"
          ],
          "name": "stderr"
        },
        {
          "output_type": "stream",
          "text": [
            "Number of Misclassifed Images =  109\n",
            "\n",
            "TEST: Average loss: 0.0829, Accuracy: 9891/10000 (98.91%)\n",
            "\n",
            "----------------------------------------------------------------------\n"
          ],
          "name": "stdout"
        },
        {
          "output_type": "error",
          "ename": "NameError",
          "evalue": "ignored",
          "traceback": [
            "\u001b[0;31m---------------------------------------------------------------------------\u001b[0m",
            "\u001b[0;31mNameError\u001b[0m                                 Traceback (most recent call last)",
            "\u001b[0;32m<ipython-input-10-2acc9d2416b9>\u001b[0m in \u001b[0;36m<module>\u001b[0;34m()\u001b[0m\n\u001b[1;32m     26\u001b[0m       \u001b[0mMisclassfication_false_images_BN\u001b[0m\u001b[0;34m,\u001b[0m\u001b[0mMisclassfication_false_images_GBN\u001b[0m\u001b[0;34m=\u001b[0m\u001b[0mexec_Models\u001b[0m\u001b[0;34m(\u001b[0m\u001b[0mmodel\u001b[0m\u001b[0;34m,\u001b[0m\u001b[0mReg_method\u001b[0m\u001b[0;34m,\u001b[0m  \u001b[0mEPOCHS\u001b[0m\u001b[0;34m,\u001b[0m\u001b[0mbnType_method\u001b[0m\u001b[0;34m,\u001b[0m \u001b[0mtrain_loader\u001b[0m\u001b[0;34m,\u001b[0m\u001b[0mtest_loader\u001b[0m\u001b[0;34m)\u001b[0m\u001b[0;34m\u001b[0m\u001b[0;34m\u001b[0m\u001b[0m\n\u001b[1;32m     27\u001b[0m \u001b[0;34m\u001b[0m\u001b[0m\n\u001b[0;32m---> 28\u001b[0;31m \u001b[0mplot_Misclassified_Images\u001b[0m\u001b[0;34m(\u001b[0m\u001b[0mMisclassfication_false_images_BN\u001b[0m\u001b[0;34m)\u001b[0m \u001b[0;31m# BN without L1/L2\u001b[0m\u001b[0;34m\u001b[0m\u001b[0;34m\u001b[0m\u001b[0m\n\u001b[0m\u001b[1;32m     29\u001b[0m \u001b[0mplot_Misclassified_Images\u001b[0m\u001b[0;34m(\u001b[0m\u001b[0mMisclassfication_false_images_GBN\u001b[0m\u001b[0;34m)\u001b[0m \u001b[0;31m# GBN without L1/L2\u001b[0m\u001b[0;34m\u001b[0m\u001b[0;34m\u001b[0m\u001b[0m\n\u001b[1;32m     30\u001b[0m \u001b[0;34m\u001b[0m\u001b[0m\n",
            "\u001b[0;31mNameError\u001b[0m: name 'plot_Misclassified_Images' is not defined"
          ]
        }
      ]
    },
    {
      "cell_type": "code",
      "metadata": {
        "id": "Rl_wrH5B2_R0",
        "colab_type": "code",
        "colab": {}
      },
      "source": [
        "\n"
      ],
      "execution_count": 0,
      "outputs": []
    },
    {
      "cell_type": "markdown",
      "metadata": {
        "id": "2KnrvB_M76UD",
        "colab_type": "text"
      },
      "source": [
        "#Display Plot for: X-axis Epochs, Y-Axis Validation Accuracy"
      ]
    },
    {
      "cell_type": "code",
      "metadata": {
        "id": "5mncKZS0tgkl",
        "colab_type": "code",
        "colab": {
          "base_uri": "https://localhost:8080/",
          "height": 504
        },
        "outputId": "fcae11f5-1ce0-461c-b42e-7f1a586b49d1"
      },
      "source": [
        "##Display Plot for: X-axis Epochs, Y-Axis Validation Accruacy\n",
        "import matplotlib.pyplot as plt\n",
        "plt.figure(1,figsize=(20,8))\n",
        "plt.xticks(range(0,EPOCHS),fontsize=15)\n",
        "plt.yticks(fontsize=10)\n",
        "\n",
        "plt.plot(range(0,EPOCHS),Validation_Accuracy_GBN_NONE,'-r',label='  GBN -  No Regularization   Test Accuracy')\n",
        "plt.plot(range(0,EPOCHS),Validation_Accuracy_GBN_L1,'-c',label='  GBN -   L1  Test Accuracy')\n",
        "plt.plot(range(0,EPOCHS),Validation_Accuracy_GBN_L2,'-m',label='  GBN -  L2  Test Accuracy')\n",
        "plt.plot(range(0,EPOCHS),Validation_Accuracy_GBN_L1L2,'-g',label='  GBN -  L1L2  Test Accuracy')\n",
        "plt.legend(loc=0,fontsize=15)\n",
        "plt.title(\"Validation Accuracy -4 Variants :GBN, For {} EPOCHS\".format(EPOCHS))\n",
        "plt.show()"
      ],
      "execution_count": 50,
      "outputs": [
        {
          "output_type": "display_data",
          "data": {
            "image/png": "[encoded data removed]",
            "text/plain": [
              "<Figure size 1440x576 with 1 Axes>"
            ]
          },
          "metadata": {
            "tags": [],
            "needs_background": "light"
          }
        }
      ]
    },
    {
      "cell_type": "code",
      "metadata": {
        "id": "YuEJZe2p2iQK",
        "colab_type": "code",
        "outputId": "64cf08bb-b0d1-4ae0-c1a1-03152a211141",
        "colab": {
          "base_uri": "https://localhost:8080/",
          "height": 849
        }
      },
      "source": [
        "##Display Plot for: X-axis Epochs, Y-Axis Validation Accruacy\n",
        "import matplotlib.pyplot as plt\n",
        "plt.figure(1,figsize=(20,8))\n",
        "plt.xticks(range(0,EPOCHS),fontsize=15)\n",
        "plt.yticks(fontsize=10)\n",
        "plt.plot(range(0,EPOCHS),Validation_Accuracy_BN_NONE,'-b',label=' BN - No Regularization  Test Accuracy')\n",
        "plt.plot(range(0,EPOCHS),Validation_Accuracy_BN_L1,'-g',label='  BN - L1 Test Accuracy')\n",
        "plt.plot(range(0,EPOCHS),Validation_Accuracy_BN_L2,'-r',label='  BN -  L2  Test Accuracy')\n",
        "plt.plot(range(0,EPOCHS),Validation_Accuracy_BN_L1L2,'-y',label='  BN -  L1L2  Test Accuracy')\n",
        "plt.plot(range(0,EPOCHS),Validation_Accuracy_GBN_NONE,'-r',label='  GBN -  No Regularization   Test Accuracy')\n",
        "plt.plot(range(0,EPOCHS),Validation_Accuracy_GBN_L1,'-c',label='  GBN -   L1  Test Accuracy')\n",
        "plt.plot(range(0,EPOCHS),Validation_Accuracy_GBN_L2,'-m',label='  GBN -  L2  Test Accuracy')\n",
        "plt.plot(range(0,EPOCHS),Validation_Accuracy_GBN_L1L2,'-g',label='  GBN -  L1L2  Test Accuracy')\n",
        "\n",
        "plt.legend(loc=0,fontsize=15)\n",
        "plt.title(\"Validation Accuracy Loss -8 Variants, For {} EPOCHS\".format(EPOCHS))\n",
        "plt.show()"
      ],
      "execution_count": 43,
      "outputs": [
        {
          "output_type": "error",
          "ename": "ValueError",
          "evalue": "ignored",
          "traceback": [
            "\u001b[0;31m---------------------------------------------------------------------------\u001b[0m",
            "\u001b[0;31mValueError\u001b[0m                                Traceback (most recent call last)",
            "\u001b[0;32m<ipython-input-43-ec902332f1da>\u001b[0m in \u001b[0;36m<module>\u001b[0;34m()\u001b[0m\n\u001b[1;32m      3\u001b[0m \u001b[0mplt\u001b[0m\u001b[0;34m.\u001b[0m\u001b[0mxticks\u001b[0m\u001b[0;34m(\u001b[0m\u001b[0mrange\u001b[0m\u001b[0;34m(\u001b[0m\u001b[0;36m0\u001b[0m\u001b[0;34m,\u001b[0m\u001b[0mEPOCHS\u001b[0m\u001b[0;34m)\u001b[0m\u001b[0;34m,\u001b[0m\u001b[0mfontsize\u001b[0m\u001b[0;34m=\u001b[0m\u001b[0;36m15\u001b[0m\u001b[0;34m)\u001b[0m\u001b[0;34m\u001b[0m\u001b[0;34m\u001b[0m\u001b[0m\n\u001b[1;32m      4\u001b[0m \u001b[0mplt\u001b[0m\u001b[0;34m.\u001b[0m\u001b[0myticks\u001b[0m\u001b[0;34m(\u001b[0m\u001b[0mfontsize\u001b[0m\u001b[0;34m=\u001b[0m\u001b[0;36m10\u001b[0m\u001b[0;34m)\u001b[0m\u001b[0;34m\u001b[0m\u001b[0;34m\u001b[0m\u001b[0m\n\u001b[0;32m----> 5\u001b[0;31m \u001b[0mplt\u001b[0m\u001b[0;34m.\u001b[0m\u001b[0mplot\u001b[0m\u001b[0;34m(\u001b[0m\u001b[0mrange\u001b[0m\u001b[0;34m(\u001b[0m\u001b[0;36m0\u001b[0m\u001b[0;34m,\u001b[0m\u001b[0mEPOCHS\u001b[0m\u001b[0;34m)\u001b[0m\u001b[0;34m,\u001b[0m\u001b[0mValidation_Accuracy_BN_NONE\u001b[0m\u001b[0;34m,\u001b[0m\u001b[0;34m'-b'\u001b[0m\u001b[0;34m,\u001b[0m\u001b[0mlabel\u001b[0m\u001b[0;34m=\u001b[0m\u001b[0;34m' BN - No Regularization  Test Accuracy'\u001b[0m\u001b[0;34m)\u001b[0m\u001b[0;34m\u001b[0m\u001b[0;34m\u001b[0m\u001b[0m\n\u001b[0m\u001b[1;32m      6\u001b[0m \u001b[0mplt\u001b[0m\u001b[0;34m.\u001b[0m\u001b[0mplot\u001b[0m\u001b[0;34m(\u001b[0m\u001b[0mrange\u001b[0m\u001b[0;34m(\u001b[0m\u001b[0;36m0\u001b[0m\u001b[0;34m,\u001b[0m\u001b[0mEPOCHS\u001b[0m\u001b[0;34m)\u001b[0m\u001b[0;34m,\u001b[0m\u001b[0mValidation_Accuracy_BN_L1\u001b[0m\u001b[0;34m,\u001b[0m\u001b[0;34m'-g'\u001b[0m\u001b[0;34m,\u001b[0m\u001b[0mlabel\u001b[0m\u001b[0;34m=\u001b[0m\u001b[0;34m'  BN - L1 Test Accuracy'\u001b[0m\u001b[0;34m)\u001b[0m\u001b[0;34m\u001b[0m\u001b[0;34m\u001b[0m\u001b[0m\n\u001b[1;32m      7\u001b[0m \u001b[0mplt\u001b[0m\u001b[0;34m.\u001b[0m\u001b[0mplot\u001b[0m\u001b[0;34m(\u001b[0m\u001b[0mrange\u001b[0m\u001b[0;34m(\u001b[0m\u001b[0;36m0\u001b[0m\u001b[0;34m,\u001b[0m\u001b[0mEPOCHS\u001b[0m\u001b[0;34m)\u001b[0m\u001b[0;34m,\u001b[0m\u001b[0mValidation_Accuracy_BN_L2\u001b[0m\u001b[0;34m,\u001b[0m\u001b[0;34m'-r'\u001b[0m\u001b[0;34m,\u001b[0m\u001b[0mlabel\u001b[0m\u001b[0;34m=\u001b[0m\u001b[0;34m'  BN -  L2  Test Accuracy'\u001b[0m\u001b[0;34m)\u001b[0m\u001b[0;34m\u001b[0m\u001b[0;34m\u001b[0m\u001b[0m\n",
            "\u001b[0;32m/usr/local/lib/python3.6/dist-packages/matplotlib/pyplot.py\u001b[0m in \u001b[0;36mplot\u001b[0;34m(scalex, scaley, data, *args, **kwargs)\u001b[0m\n\u001b[1;32m   2761\u001b[0m     return gca().plot(\n\u001b[1;32m   2762\u001b[0m         *args, scalex=scalex, scaley=scaley, **({\"data\": data} if data\n\u001b[0;32m-> 2763\u001b[0;31m         is not None else {}), **kwargs)\n\u001b[0m\u001b[1;32m   2764\u001b[0m \u001b[0;34m\u001b[0m\u001b[0m\n\u001b[1;32m   2765\u001b[0m \u001b[0;34m\u001b[0m\u001b[0m\n",
            "\u001b[0;32m/usr/local/lib/python3.6/dist-packages/matplotlib/axes/_axes.py\u001b[0m in \u001b[0;36mplot\u001b[0;34m(self, scalex, scaley, data, *args, **kwargs)\u001b[0m\n\u001b[1;32m   1644\u001b[0m         \"\"\"\n\u001b[1;32m   1645\u001b[0m         \u001b[0mkwargs\u001b[0m \u001b[0;34m=\u001b[0m \u001b[0mcbook\u001b[0m\u001b[0;34m.\u001b[0m\u001b[0mnormalize_kwargs\u001b[0m\u001b[0;34m(\u001b[0m\u001b[0mkwargs\u001b[0m\u001b[0;34m,\u001b[0m \u001b[0mmlines\u001b[0m\u001b[0;34m.\u001b[0m\u001b[0mLine2D\u001b[0m\u001b[0;34m)\u001b[0m\u001b[0;34m\u001b[0m\u001b[0;34m\u001b[0m\u001b[0m\n\u001b[0;32m-> 1646\u001b[0;31m         \u001b[0mlines\u001b[0m \u001b[0;34m=\u001b[0m \u001b[0;34m[\u001b[0m\u001b[0;34m*\u001b[0m\u001b[0mself\u001b[0m\u001b[0;34m.\u001b[0m\u001b[0m_get_lines\u001b[0m\u001b[0;34m(\u001b[0m\u001b[0;34m*\u001b[0m\u001b[0margs\u001b[0m\u001b[0;34m,\u001b[0m \u001b[0mdata\u001b[0m\u001b[0;34m=\u001b[0m\u001b[0mdata\u001b[0m\u001b[0;34m,\u001b[0m \u001b[0;34m**\u001b[0m\u001b[0mkwargs\u001b[0m\u001b[0;34m)\u001b[0m\u001b[0;34m]\u001b[0m\u001b[0;34m\u001b[0m\u001b[0;34m\u001b[0m\u001b[0m\n\u001b[0m\u001b[1;32m   1647\u001b[0m         \u001b[0;32mfor\u001b[0m \u001b[0mline\u001b[0m \u001b[0;32min\u001b[0m \u001b[0mlines\u001b[0m\u001b[0;34m:\u001b[0m\u001b[0;34m\u001b[0m\u001b[0;34m\u001b[0m\u001b[0m\n\u001b[1;32m   1648\u001b[0m             \u001b[0mself\u001b[0m\u001b[0;34m.\u001b[0m\u001b[0madd_line\u001b[0m\u001b[0;34m(\u001b[0m\u001b[0mline\u001b[0m\u001b[0;34m)\u001b[0m\u001b[0;34m\u001b[0m\u001b[0;34m\u001b[0m\u001b[0m\n",
            "\u001b[0;32m/usr/local/lib/python3.6/dist-packages/matplotlib/axes/_base.py\u001b[0m in \u001b[0;36m__call__\u001b[0;34m(self, *args, **kwargs)\u001b[0m\n\u001b[1;32m    214\u001b[0m                 \u001b[0mthis\u001b[0m \u001b[0;34m+=\u001b[0m \u001b[0margs\u001b[0m\u001b[0;34m[\u001b[0m\u001b[0;36m0\u001b[0m\u001b[0;34m]\u001b[0m\u001b[0;34m,\u001b[0m\u001b[0;34m\u001b[0m\u001b[0;34m\u001b[0m\u001b[0m\n\u001b[1;32m    215\u001b[0m                 \u001b[0margs\u001b[0m \u001b[0;34m=\u001b[0m \u001b[0margs\u001b[0m\u001b[0;34m[\u001b[0m\u001b[0;36m1\u001b[0m\u001b[0;34m:\u001b[0m\u001b[0;34m]\u001b[0m\u001b[0;34m\u001b[0m\u001b[0;34m\u001b[0m\u001b[0m\n\u001b[0;32m--> 216\u001b[0;31m             \u001b[0;32myield\u001b[0m \u001b[0;32mfrom\u001b[0m \u001b[0mself\u001b[0m\u001b[0;34m.\u001b[0m\u001b[0m_plot_args\u001b[0m\u001b[0;34m(\u001b[0m\u001b[0mthis\u001b[0m\u001b[0;34m,\u001b[0m \u001b[0mkwargs\u001b[0m\u001b[0;34m)\u001b[0m\u001b[0;34m\u001b[0m\u001b[0;34m\u001b[0m\u001b[0m\n\u001b[0m\u001b[1;32m    217\u001b[0m \u001b[0;34m\u001b[0m\u001b[0m\n\u001b[1;32m    218\u001b[0m     \u001b[0;32mdef\u001b[0m \u001b[0mget_next_color\u001b[0m\u001b[0;34m(\u001b[0m\u001b[0mself\u001b[0m\u001b[0;34m)\u001b[0m\u001b[0;34m:\u001b[0m\u001b[0;34m\u001b[0m\u001b[0;34m\u001b[0m\u001b[0m\n",
            "\u001b[0;32m/usr/local/lib/python3.6/dist-packages/matplotlib/axes/_base.py\u001b[0m in \u001b[0;36m_plot_args\u001b[0;34m(self, tup, kwargs)\u001b[0m\n\u001b[1;32m    340\u001b[0m \u001b[0;34m\u001b[0m\u001b[0m\n\u001b[1;32m    341\u001b[0m         \u001b[0;32mif\u001b[0m \u001b[0mx\u001b[0m\u001b[0;34m.\u001b[0m\u001b[0mshape\u001b[0m\u001b[0;34m[\u001b[0m\u001b[0;36m0\u001b[0m\u001b[0;34m]\u001b[0m \u001b[0;34m!=\u001b[0m \u001b[0my\u001b[0m\u001b[0;34m.\u001b[0m\u001b[0mshape\u001b[0m\u001b[0;34m[\u001b[0m\u001b[0;36m0\u001b[0m\u001b[0;34m]\u001b[0m\u001b[0;34m:\u001b[0m\u001b[0;34m\u001b[0m\u001b[0;34m\u001b[0m\u001b[0m\n\u001b[0;32m--> 342\u001b[0;31m             raise ValueError(f\"x and y must have same first dimension, but \"\n\u001b[0m\u001b[1;32m    343\u001b[0m                              f\"have shapes {x.shape} and {y.shape}\")\n\u001b[1;32m    344\u001b[0m         \u001b[0;32mif\u001b[0m \u001b[0mx\u001b[0m\u001b[0;34m.\u001b[0m\u001b[0mndim\u001b[0m \u001b[0;34m>\u001b[0m \u001b[0;36m2\u001b[0m \u001b[0;32mor\u001b[0m \u001b[0my\u001b[0m\u001b[0;34m.\u001b[0m\u001b[0mndim\u001b[0m \u001b[0;34m>\u001b[0m \u001b[0;36m2\u001b[0m\u001b[0;34m:\u001b[0m\u001b[0;34m\u001b[0m\u001b[0;34m\u001b[0m\u001b[0m\n",
            "\u001b[0;31mValueError\u001b[0m: x and y must have same first dimension, but have shapes (25,) and (50,)"
          ]
        },
        {
          "output_type": "display_data",
          "data": {
            "image/png": "[encoded data removed]",
            "text/plain": [
              "<Figure size 1440x576 with 1 Axes>"
            ]
          },
          "metadata": {
            "tags": [],
            "needs_background": "light"
          }
        }
      ]
    },
    {
      "cell_type": "markdown",
      "metadata": {
        "id": "8CwkT9gX8qLr",
        "colab_type": "text"
      },
      "source": [
        "#Display Plot for: X-axis Epochs, Y-Axis Validation Loss"
      ]
    },
    {
      "cell_type": "code",
      "metadata": {
        "id": "UezqEP4x8wzf",
        "colab_type": "code",
        "colab": {
          "base_uri": "https://localhost:8080/",
          "height": 504
        },
        "outputId": "a9909ec0-9eef-48bd-e3d2-b2f646cbfd73"
      },
      "source": [
        "\n",
        "plt.figure(1,figsize=(20,8))\n",
        "plt.xticks(range(0,EPOCHS),fontsize=15)\n",
        "plt.yticks(fontsize=10)\n",
        "#plt.plot(range(0,EPOCHS),Total_Test_loss_BN_NONE,'-b',label=' BN - No Regularization Validation Loss')\n",
        "#plt.plot(range(0,EPOCHS),Total_Test_loss_BN_L1,'-g',label='  BN - L1 Validation Loss')\n",
        "#plt.plot(range(0,EPOCHS),Total_Test_loss_BN_L2,'-r',label='  BN -  L2 Validation Loss')\n",
        "#plt.plot(range(0,EPOCHS),Total_Test_loss_BN_L1L2,'-y',label='  BN -  L1L2 Validation Loss')\n",
        "plt.plot(range(0,EPOCHS),Total_Test_loss_GBN_NONE,'-r',label='  GBN -  No Regularization  Validation Loss')\n",
        "plt.plot(range(0,EPOCHS),Total_Test_loss_GBN_L1,'-c',label='  GBN -   L1 Validation Loss')\n",
        "plt.plot(range(0,EPOCHS),Total_Test_loss_GBN_L2,'-m',label='  GBN -  L2 Validation Loss')\n",
        "plt.plot(range(0,EPOCHS),Total_Test_loss_GBN_L1L2,'-g',label='  GBN -  L1L2 Validation Loss')\n",
        "\n",
        "plt.legend(loc=0,fontsize=15)\n",
        "plt.title(\"Training Loss -8 Variants, For {} EPOCHS\".format(EPOCHS))\n",
        "plt.show()\n"
      ],
      "execution_count": 20,
      "outputs": [
        {
          "output_type": "display_data",
          "data": {
            "image/png": "[encoded data removed]",
            "text/plain": [
              "<Figure size 1440x576 with 1 Axes>"
            ]
          },
          "metadata": {
            "tags": [],
            "needs_background": "light"
          }
        }
      ]
    },
    {
      "cell_type": "code",
      "metadata": {
        "id": "0Qd0MIM-tpOF",
        "colab_type": "code",
        "colab": {
          "base_uri": "https://localhost:8080/",
          "height": 504
        },
        "outputId": "26d4216f-2803-4efc-b9ba-677d6290b010"
      },
      "source": [
        "plt.figure(1,figsize=(20,8))\n",
        "plt.xticks(range(0,EPOCHS),fontsize=15)\n",
        "plt.yticks(fontsize=10)\n",
        "plt.plot(range(0,EPOCHS),Total_Test_loss_BN_NONE,'-b',label=' BN - No Regularization Validation Loss')\n",
        "plt.plot(range(0,EPOCHS),Total_Test_loss_BN_L1,'-g',label='  BN - L1 Validation Loss')\n",
        "plt.plot(range(0,EPOCHS),Total_Test_loss_BN_L2,'-y',label='  BN -  L2 Validation Loss')\n",
        "#plt.plot(range(0,EPOCHS),Total_Test_loss_BN_L1L2,'-y',label='  BN -  L1L2 Validation Loss')\n",
        "plt.plot(range(0,EPOCHS),Total_Test_loss_GBN_NONE,'-r',label='  GBN -  No Regularization  Validation Loss')\n",
        "plt.plot(range(0,EPOCHS),Total_Test_loss_GBN_L1,'-c',label='  GBN -   L1 Validation Loss')\n",
        "plt.plot(range(0,EPOCHS),Total_Test_loss_GBN_L2,'-m',label='  GBN -  L2 Validation Loss')\n",
        "plt.plot(range(0,EPOCHS),Total_Test_loss_GBN_L1L2,'-k',label='  GBN -  L1L2 Validation Loss')\n",
        "\n",
        "plt.legend(loc=0,fontsize=15)\n",
        "plt.title(\"Validation Loss -8 Variants, For {} EPOCHS\".format(EPOCHS))\n",
        "plt.show()\n"
      ],
      "execution_count": 42,
      "outputs": [
        {
          "output_type": "display_data",
          "data": {
            "image/png": "[encoded data removed]",
            "text/plain": [
              "<Figure size 1440x576 with 1 Axes>"
            ]
          },
          "metadata": {
            "tags": [],
            "needs_background": "light"
          }
        }
      ]
    },
    {
      "cell_type": "markdown",
      "metadata": {
        "id": "nQJewIQl73aF",
        "colab_type": "text"
      },
      "source": [
        "#Display Plot for: X-axis Epochs, Y-Axis Training Loss"
      ]
    },
    {
      "cell_type": "code",
      "metadata": {
        "id": "7yH9r4rV4Dx-",
        "colab_type": "code",
        "outputId": "d6e371bf-7608-4fc7-bfd2-f28a99c9c6c5",
        "colab": {
          "base_uri": "https://localhost:8080/",
          "height": 504
        }
      },
      "source": [
        "\n",
        "plt.figure(1,figsize=(20,8))\n",
        "plt.xticks(range(0,EPOCHS),fontsize=15)\n",
        "plt.yticks(fontsize=10)\n",
        "plt.plot(range(0,EPOCHS),Total_train_loss_BN_NONE,'-b',label=' BN - No Regularization Train Loss')\n",
        "plt.plot(range(0,EPOCHS),Total_train_loss_BN_L1,'-g',label='  BN - L1 Train Loss')\n",
        "plt.plot(range(0,EPOCHS),Total_train_loss_BN_L2,'-r',label='  BN -  L2 Train Loss')\n",
        "plt.plot(range(0,EPOCHS),Total_train_loss_BN_L1L2,'-y',label='  BN -  L1L2 Train Loss')\n",
        "plt.plot(range(0,EPOCHS),Total_train_loss_GBN_NONE,'-r',label='  GBN -  No Regularization  Train Loss')\n",
        "plt.plot(range(0,EPOCHS),Total_train_loss_GBN_L1,'-c',label='  GBN -   L1 Train Loss')\n",
        "plt.plot(range(0,EPOCHS),Total_train_loss_GBN_L2,'-m',label='  GBN -  L2 Train Loss')\n",
        "plt.plot(range(0,EPOCHS),Total_train_loss_GBN_L1L2,'-g',label='  GBN -  L1L2 Train Loss')\n",
        "\n",
        "plt.legend(loc=0,fontsize=15)\n",
        "plt.title(\"Training Loss -8 Variants, For {} EPOCHS\".format(EPOCHS))\n",
        "plt.show()\n"
      ],
      "execution_count": 31,
      "outputs": [
        {
          "output_type": "display_data",
          "data": {
            "image/png": "[encoded data removed]",
            "text/plain": [
              "<Figure size 1440x576 with 1 Axes>"
            ]
          },
          "metadata": {
            "tags": [],
            "needs_background": "light"
          }
        }
      ]
    },
    {
      "cell_type": "markdown",
      "metadata": {
        "id": "_BDCuXcgECsQ",
        "colab_type": "text"
      },
      "source": [
        "## Consider Two cases BN & GBN: For both type of Normalizations, consider cases without Regularization and display 25 images out of these sets"
      ]
    },
    {
      "cell_type": "code",
      "metadata": {
        "id": "EmbOfJmopi-W",
        "colab_type": "code",
        "colab": {}
      },
      "source": [
        "def plot_Misclassified_Images(misclassifiedImages):\n",
        "  fig = plt.figure(figsize=(12,12))\n",
        "  for i in range(25):\n",
        "    sub = fig.add_subplot(5, 5, i+1)\n",
        "    plt.imshow(misclassifiedImages[i][0].cpu().numpy().squeeze(),cmap='gray',interpolation='none')\n",
        "    sub.set_title(\"Pred={}, Act={}\".format(str(misclassifiedImages[i][1].data.cpu().numpy()),str(misclassifiedImages[i][2].data.cpu().numpy())))\n",
        "  plt.tight_layout()\n",
        "  plt.show()\n",
        "  \n"
      ],
      "execution_count": 0,
      "outputs": []
    },
    {
      "cell_type": "code",
      "metadata": {
        "id": "0pV9fnByE2KC",
        "colab_type": "code",
        "outputId": "a1430818-a195-40e7-e71b-7096b9bde454",
        "colab": {
          "base_uri": "https://localhost:8080/",
          "height": 1000
        }
      },
      "source": [
        "plot_Misclassified_Images(Misclassfication_false_images_BN) # BN without L1/L2\n"
      ],
      "execution_count": 0,
      "outputs": [
        {
          "output_type": "display_data",
          "data": {
            "image/png": "[encoded data removed]",
            "text/plain": [
              "<Figure size 864x864 with 25 Axes>"
            ]
          },
          "metadata": {
            "tags": [],
            "needs_background": "light"
          }
        },
        {
          "output_type": "error",
          "ename": "IndexError",
          "evalue": "ignored",
          "traceback": [
            "\u001b[0;31m---------------------------------------------------------------------------\u001b[0m",
            "\u001b[0;31mIndexError\u001b[0m                                Traceback (most recent call last)",
            "\u001b[0;32m<ipython-input-74-28eff4d22932>\u001b[0m in \u001b[0;36m<module>\u001b[0;34m()\u001b[0m\n\u001b[1;32m      1\u001b[0m \u001b[0mplot_Misclassified_Images\u001b[0m\u001b[0;34m(\u001b[0m\u001b[0mMisclassfication_false_images_BN\u001b[0m\u001b[0;34m)\u001b[0m \u001b[0;31m# BN without L1/L2\u001b[0m\u001b[0;34m\u001b[0m\u001b[0;34m\u001b[0m\u001b[0m\n\u001b[0;32m----> 2\u001b[0;31m \u001b[0mplot_Misclassified_Images\u001b[0m\u001b[0;34m(\u001b[0m\u001b[0mMisclassfication_false_images_GBN\u001b[0m\u001b[0;34m)\u001b[0m \u001b[0;31m# GBN without L1/L2\u001b[0m\u001b[0;34m\u001b[0m\u001b[0;34m\u001b[0m\u001b[0m\n\u001b[0m",
            "\u001b[0;32m<ipython-input-73-313eeb2cbbaf>\u001b[0m in \u001b[0;36mplot_Misclassified_Images\u001b[0;34m(misclassifiedImages)\u001b[0m\n\u001b[1;32m      3\u001b[0m   \u001b[0;32mfor\u001b[0m \u001b[0mi\u001b[0m \u001b[0;32min\u001b[0m \u001b[0mrange\u001b[0m\u001b[0;34m(\u001b[0m\u001b[0;36m25\u001b[0m\u001b[0;34m)\u001b[0m\u001b[0;34m:\u001b[0m\u001b[0;34m\u001b[0m\u001b[0;34m\u001b[0m\u001b[0m\n\u001b[1;32m      4\u001b[0m     \u001b[0msub\u001b[0m \u001b[0;34m=\u001b[0m \u001b[0mfig\u001b[0m\u001b[0;34m.\u001b[0m\u001b[0madd_subplot\u001b[0m\u001b[0;34m(\u001b[0m\u001b[0;36m5\u001b[0m\u001b[0;34m,\u001b[0m \u001b[0;36m5\u001b[0m\u001b[0;34m,\u001b[0m \u001b[0mi\u001b[0m\u001b[0;34m+\u001b[0m\u001b[0;36m1\u001b[0m\u001b[0;34m)\u001b[0m\u001b[0;34m\u001b[0m\u001b[0;34m\u001b[0m\u001b[0m\n\u001b[0;32m----> 5\u001b[0;31m     \u001b[0mplt\u001b[0m\u001b[0;34m.\u001b[0m\u001b[0mimshow\u001b[0m\u001b[0;34m(\u001b[0m\u001b[0mmisclassifiedImages\u001b[0m\u001b[0;34m[\u001b[0m\u001b[0mi\u001b[0m\u001b[0;34m]\u001b[0m\u001b[0;34m[\u001b[0m\u001b[0;36m0\u001b[0m\u001b[0;34m]\u001b[0m\u001b[0;34m.\u001b[0m\u001b[0mcpu\u001b[0m\u001b[0;34m(\u001b[0m\u001b[0;34m)\u001b[0m\u001b[0;34m.\u001b[0m\u001b[0mnumpy\u001b[0m\u001b[0;34m(\u001b[0m\u001b[0;34m)\u001b[0m\u001b[0;34m.\u001b[0m\u001b[0msqueeze\u001b[0m\u001b[0;34m(\u001b[0m\u001b[0;34m)\u001b[0m\u001b[0;34m,\u001b[0m\u001b[0mcmap\u001b[0m\u001b[0;34m=\u001b[0m\u001b[0;34m'gray'\u001b[0m\u001b[0;34m,\u001b[0m\u001b[0minterpolation\u001b[0m\u001b[0;34m=\u001b[0m\u001b[0;34m'none'\u001b[0m\u001b[0;34m)\u001b[0m\u001b[0;34m\u001b[0m\u001b[0;34m\u001b[0m\u001b[0m\n\u001b[0m\u001b[1;32m      6\u001b[0m     \u001b[0msub\u001b[0m\u001b[0;34m.\u001b[0m\u001b[0mset_title\u001b[0m\u001b[0;34m(\u001b[0m\u001b[0;34m\"Pred={}, Act={}\"\u001b[0m\u001b[0;34m.\u001b[0m\u001b[0mformat\u001b[0m\u001b[0;34m(\u001b[0m\u001b[0mstr\u001b[0m\u001b[0;34m(\u001b[0m\u001b[0mmisclassifiedImages\u001b[0m\u001b[0;34m[\u001b[0m\u001b[0mi\u001b[0m\u001b[0;34m]\u001b[0m\u001b[0;34m[\u001b[0m\u001b[0;36m1\u001b[0m\u001b[0;34m]\u001b[0m\u001b[0;34m.\u001b[0m\u001b[0mdata\u001b[0m\u001b[0;34m.\u001b[0m\u001b[0mcpu\u001b[0m\u001b[0;34m(\u001b[0m\u001b[0;34m)\u001b[0m\u001b[0;34m.\u001b[0m\u001b[0mnumpy\u001b[0m\u001b[0;34m(\u001b[0m\u001b[0;34m)\u001b[0m\u001b[0;34m)\u001b[0m\u001b[0;34m,\u001b[0m\u001b[0mstr\u001b[0m\u001b[0;34m(\u001b[0m\u001b[0mmisclassifiedImages\u001b[0m\u001b[0;34m[\u001b[0m\u001b[0mi\u001b[0m\u001b[0;34m]\u001b[0m\u001b[0;34m[\u001b[0m\u001b[0;36m2\u001b[0m\u001b[0;34m]\u001b[0m\u001b[0;34m.\u001b[0m\u001b[0mdata\u001b[0m\u001b[0;34m.\u001b[0m\u001b[0mcpu\u001b[0m\u001b[0;34m(\u001b[0m\u001b[0;34m)\u001b[0m\u001b[0;34m.\u001b[0m\u001b[0mnumpy\u001b[0m\u001b[0;34m(\u001b[0m\u001b[0;34m)\u001b[0m\u001b[0;34m)\u001b[0m\u001b[0;34m)\u001b[0m\u001b[0;34m)\u001b[0m\u001b[0;34m\u001b[0m\u001b[0;34m\u001b[0m\u001b[0m\n\u001b[1;32m      7\u001b[0m   \u001b[0mplt\u001b[0m\u001b[0;34m.\u001b[0m\u001b[0mtight_layout\u001b[0m\u001b[0;34m(\u001b[0m\u001b[0;34m)\u001b[0m\u001b[0;34m\u001b[0m\u001b[0;34m\u001b[0m\u001b[0m\n",
            "\u001b[0;31mIndexError\u001b[0m: list index out of range"
          ]
        },
        {
          "output_type": "display_data",
          "data": {
            "image/png": "[encoded data removed]",
            "text/plain": [
              "<Figure size 864x864 with 1 Axes>"
            ]
          },
          "metadata": {
            "tags": [],
            "needs_background": "light"
          }
        }
      ]
    },
    {
      "cell_type": "code",
      "metadata": {
        "id": "lPlVnmOFla1m",
        "colab_type": "code",
        "colab": {
          "base_uri": "https://localhost:8080/",
          "height": 34
        },
        "outputId": "be51f017-bf2c-47a0-aaa6-94d8132bb5ae"
      },
      "source": [
        "\n",
        "print(Misclassfication_false_images_BN)"
      ],
      "execution_count": 47,
      "outputs": [
        {
          "output_type": "stream",
          "text": [
            "[]\n"
          ],
          "name": "stdout"
        }
      ]
    },
    {
      "cell_type": "markdown",
      "metadata": {
        "id": "j-JaAcAgYkK0",
        "colab_type": "text"
      },
      "source": [
        "#Goal\t\n",
        "In this iteration we intend to compare the Regularization methods along with Batch and Ghost Normalization. And analyze their impact on Model accuracy.\n",
        "#Params\t\n",
        "9,923\n",
        "\n",
        "#WITH 15 EPOCHS\n",
        "\n",
        "#DropOut value\n",
        "0.05\n",
        "\n",
        "#Best Train Accuracy\t\n",
        "99.33%\n",
        "\n",
        "#Best Test Accuracy\t\n",
        "99.4%\n",
        "\n",
        "#Observation/ Analysis/Conclusion\t\n",
        "With Batch Normalization the training time is longer than with Ghost Batch Normalization\n"
      ]
    },
    {
      "cell_type": "markdown",
      "metadata": {
        "id": "UU-qLJEiYwgI",
        "colab_type": "text"
      },
      "source": [
        "##Notes:\n",
        "With L2 Regualrization: The Avg Validation Loss is increased and overall Validation accuracy is decreased.\n",
        "\n",
        "With Batch Norm and Ghost Batch Norm, the validation loss fluctuates with L2 regularization\n",
        "\n",
        "\n",
        "With GBN:\n",
        " L1 Regualrization causes faster drop in validation Loss\n",
        " Without Regualrization methods, the validation is accuracy is not fluctuating.\n",
        "\n",
        " With BN:\n",
        " validation accuracy remains constant even with number of Epochs increasing,validation accuracy increases and then becomes constistent with Epochs increasing.\n",
        "\n",
        "\n",
        "#Model Health:\n",
        "Even though the overall Model accuracy has come down, the model is still great, as there is NO OVERFITTING."
      ]
    },
    {
      "cell_type": "code",
      "metadata": {
        "id": "0S4yCfhI37On",
        "colab_type": "code",
        "colab": {}
      },
      "source": [
        ""
      ],
      "execution_count": 0,
      "outputs": []
    },
    {
      "cell_type": "code",
      "metadata": {
        "id": "M6L0po9KMARL",
        "colab_type": "code",
        "colab": {}
      },
      "source": [
        ""
      ],
      "execution_count": 0,
      "outputs": []
    }
  ]
}